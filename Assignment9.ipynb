{
  "nbformat": 4,
  "nbformat_minor": 0,
  "metadata": {
    "colab": {
      "provenance": [],
      "authorship_tag": "ABX9TyMmPupKaJEwTJaQj8Foac2C",
      "include_colab_link": true
    },
    "kernelspec": {
      "name": "python3",
      "display_name": "Python 3"
    },
    "language_info": {
      "name": "python"
    }
  },
  "cells": [
    {
      "cell_type": "markdown",
      "metadata": {
        "id": "view-in-github",
        "colab_type": "text"
      },
      "source": [
        "<a href=\"https://colab.research.google.com/github/Cabreraxx9/CSC221_ncabr005/blob/main/Assignment9.ipynb\" target=\"_parent\"><img src=\"https://colab.research.google.com/assets/colab-badge.svg\" alt=\"Open In Colab\"/></a>"
      ]
    },
    {
      "cell_type": "markdown",
      "source": [
        "**Nicholas Cabrera**\n",
        "**Assignment 9**\n",
        "**Chapter 8 Functions**"
      ],
      "metadata": {
        "id": "nvAxf1rnf5Pm"
      }
    },
    {
      "cell_type": "markdown",
      "source": [
        "### **Defining a Function**"
      ],
      "metadata": {
        "id": "xpW4Z3Tm9YwA"
      }
    },
    {
      "cell_type": "code",
      "source": [
        "#greeter.py\n",
        "\n",
        "def greet_user():\n",
        "  \"\"\"Display a simple greeting.\"\"\"\n",
        "  print(\"Hello\")\n",
        "\n",
        "greet_user()"
      ],
      "metadata": {
        "colab": {
          "base_uri": "https://localhost:8080/"
        },
        "id": "iP54083a9dYQ",
        "outputId": "20905405-198d-484a-a67c-4e48fc5f926d"
      },
      "execution_count": 1,
      "outputs": [
        {
          "output_type": "stream",
          "name": "stdout",
          "text": [
            "Hello\n"
          ]
        }
      ]
    },
    {
      "cell_type": "markdown",
      "source": [
        "### **Passing Information to a Function**"
      ],
      "metadata": {
        "id": "24F3LGcL-jVS"
      }
    },
    {
      "cell_type": "code",
      "source": [
        "def greet_user(username):\n",
        "  \"\"\"Display a simple greeting\"\"\"\n",
        "  print(f\"Hello, {username.title()}!\")\n",
        "\n",
        "greet_user(\"jesse\")"
      ],
      "metadata": {
        "colab": {
          "base_uri": "https://localhost:8080/"
        },
        "id": "r6lkq1L6-otA",
        "outputId": "e25f9c70-0f3f-4af0-c628-84234b422313"
      },
      "execution_count": 2,
      "outputs": [
        {
          "output_type": "stream",
          "name": "stdout",
          "text": [
            "Hello, Jesse!\n"
          ]
        }
      ]
    },
    {
      "cell_type": "markdown",
      "source": [
        "# **Try It Yourself**"
      ],
      "metadata": {
        "id": "TxO8qmMAAGS9"
      }
    },
    {
      "cell_type": "code",
      "source": [
        "#8-1 Message\n",
        "\n",
        "def display_message():\n",
        "  \"\"\"prints a message telling everyone what i learned in this chapter\"\"\"\n",
        "  print(\"Im learning to call functions!!!\")\n",
        "\n",
        "display_message()"
      ],
      "metadata": {
        "colab": {
          "base_uri": "https://localhost:8080/"
        },
        "id": "UCKSKiS2AKTP",
        "outputId": "21b525dd-3e71-450c-abe8-27e9ed9a95c0"
      },
      "execution_count": 3,
      "outputs": [
        {
          "output_type": "stream",
          "name": "stdout",
          "text": [
            "Im learning to call functions!!!\n"
          ]
        }
      ]
    },
    {
      "cell_type": "code",
      "source": [
        "#8-2 Favorite book\n",
        "\n",
        "def favorite_book(title):\n",
        "  \"\"\"prints a message about a favorite book\"\"\"\n",
        "  print(f\"One of my favorite books is {title.title()}!\")\n",
        "\n",
        "favorite_book(\"moby dick\")"
      ],
      "metadata": {
        "colab": {
          "base_uri": "https://localhost:8080/"
        },
        "id": "_nJOToExBVlw",
        "outputId": "56f4c4ee-86f6-454a-8a14-5b12855564fe"
      },
      "execution_count": 6,
      "outputs": [
        {
          "output_type": "stream",
          "name": "stdout",
          "text": [
            "One of my favorite books is Moby Dick!\n"
          ]
        }
      ]
    },
    {
      "cell_type": "markdown",
      "source": [
        "# **Passing Arguments**:"
      ],
      "metadata": {
        "id": "3OB7hXf-D6CK"
      }
    },
    {
      "cell_type": "markdown",
      "source": [
        "### **Positional Arguments**"
      ],
      "metadata": {
        "id": "A-h7jC0JD_q3"
      }
    },
    {
      "cell_type": "code",
      "source": [
        "#pets.py\n",
        "\n",
        "def describe_pet(animal_type, pet_name):\n",
        "  \"\"\"Display information about a pet\"\"\"\n",
        "  print(f\"\\nI have a {animal_type}.\")\n",
        "  print(f\"My {animal_type}'s name is {pet_name.title()}.\")\n",
        "\n",
        "describe_pet(\"hamster\", \"harry\")\n"
      ],
      "metadata": {
        "id": "b84GrTo0EosV"
      },
      "execution_count": null,
      "outputs": []
    },
    {
      "cell_type": "markdown",
      "source": [
        "Multiple Function Calls"
      ],
      "metadata": {
        "id": "cFoO4VpoK0ZC"
      }
    },
    {
      "cell_type": "code",
      "source": [
        "def describe_pet(animal_type, pet_name):\n",
        "  \"\"\"Display information about a pet\"\"\"\n",
        "  print(f\"\\nI have a {animal_type}.\")\n",
        "  print(f\"My {animal_type}'s name is {pet_name.title()}.\")\n",
        "\n",
        "describe_pet(\"hamster\", \"harry\")\n",
        "describe_pet(\"dog\", \"macho\")"
      ],
      "metadata": {
        "colab": {
          "base_uri": "https://localhost:8080/"
        },
        "id": "pBGRIG_qKznl",
        "outputId": "da908a9a-8f46-4450-e103-f72405784ee7"
      },
      "execution_count": 8,
      "outputs": [
        {
          "output_type": "stream",
          "name": "stdout",
          "text": [
            "\n",
            "I have a hamster.\n",
            "My hamster's name is Harry.\n",
            "\n",
            "I have a dog.\n",
            "My dog's name is Macho.\n"
          ]
        }
      ]
    },
    {
      "cell_type": "markdown",
      "source": [
        "Order Matters in a Positional Argument"
      ],
      "metadata": {
        "id": "kx7TypzrLjB-"
      }
    },
    {
      "cell_type": "markdown",
      "source": [
        "### **Keyword Arguments**"
      ],
      "metadata": {
        "id": "6V17GwddTlUT"
      }
    },
    {
      "cell_type": "code",
      "source": [
        "def describe_pet(animal_type, pet_name):\n",
        "  \"\"\"Display information about a pet\"\"\"\n",
        "  print(f\"\\nI have a {animal_type}.\")\n",
        "  print(f\"My {animal_type}'s name is {pet_name.title()}.\")\n",
        "\n",
        "describe_pet(animal_type= \"hamster\", pet_name = \"Harry\")"
      ],
      "metadata": {
        "colab": {
          "base_uri": "https://localhost:8080/"
        },
        "id": "tpV6yjCTT6qu",
        "outputId": "4540bca3-6739-4430-c514-c32a8f593f53"
      },
      "execution_count": 19,
      "outputs": [
        {
          "output_type": "stream",
          "name": "stdout",
          "text": [
            "\n",
            "I have a hamster.\n",
            "My hamster's name is Harry.\n"
          ]
        }
      ]
    },
    {
      "cell_type": "markdown",
      "source": [
        "### **Default Values**"
      ],
      "metadata": {
        "id": "P201Y-f90C-i"
      }
    },
    {
      "cell_type": "code",
      "source": [
        "def describe_pet(pet_name, animal_type = \"dog\"):\n",
        "  \"\"\"Display information about a pet\"\"\"\n",
        "  print(f\"\\nI have a {animal_type}.\")\n",
        "  print(f\"My {animal_type}'s name is {pet_name.title()}.\")\n",
        "\n",
        "describe_pet(pet_name = \"Harry\")\n",
        "\n",
        "describe_pet(\"Nick\")\n",
        "\n",
        "\n",
        "#How to change the animal type if you already have a default in place in the parameter\n",
        "describe_pet(pet_name = \"harry\", animal_type = \"hamster\")"
      ],
      "metadata": {
        "colab": {
          "base_uri": "https://localhost:8080/"
        },
        "id": "mQYIbO4S0HZA",
        "outputId": "fe4be81f-8472-44fd-ebc1-0a4860ec2889"
      },
      "execution_count": 2,
      "outputs": [
        {
          "output_type": "stream",
          "name": "stdout",
          "text": [
            "\n",
            "I have a dog.\n",
            "My dog's name is Harry.\n",
            "\n",
            "I have a dog.\n",
            "My dog's name is Nick.\n",
            "\n",
            "I have a hamster.\n",
            "My hamster's name is Harry.\n"
          ]
        }
      ]
    },
    {
      "cell_type": "markdown",
      "source": [
        "#Avoid Argument Errors by making sure there is an argument in place and not empty\n",
        "#like describe_pet()"
      ],
      "metadata": {
        "id": "s3dTIvbIqmQZ"
      }
    },
    {
      "cell_type": "markdown",
      "source": [
        "# **Try It Yourself**"
      ],
      "metadata": {
        "id": "lqYBObZaxvKB"
      }
    },
    {
      "cell_type": "code",
      "source": [
        "# 8-3 T-Shirt\n",
        "\n",
        "def make_shirt(size, message):\n",
        "  \"\"\"Display the size of a shirt and a text thats printed on shirt\"\"\"\n",
        "  print(f\"\\nYour shirt size is {size}.\")\n",
        "  print(f\"Your custom shirt message is {message}\")\n",
        "\n",
        "#positional argument call\n",
        "make_shirt(\"XL\",\"Nike JUST DO IT\")\n",
        "\n",
        "#keyword argument\n",
        "make_shirt(size = \"XL\", message = \"Adidas Impossible is Nothing\")\n",
        "\n"
      ],
      "metadata": {
        "id": "3YmmaUrcq8ae"
      },
      "execution_count": null,
      "outputs": []
    },
    {
      "cell_type": "code",
      "source": [
        "# 8-4 Large shirts\n",
        "\n",
        "def make_shirt(message ,size =\"Large\" ):\n",
        "  \"\"\"Display the size of a shirt and a text thats printed on shirt\"\"\"\n",
        "  print(f\"\\nYour shirt size is {size}.\")\n",
        "  print(f\"Your custom shirt message is {message}\")\n",
        "\n",
        "make_shirt(message = \"I love Python\")\n",
        "\n",
        "make_shirt(size = \"medium and Large\", message = \"I love python\")\n",
        "\n",
        "make_shirt(size = \"small\", message = '\"Mr Leckys coding bootcamp\"')"
      ],
      "metadata": {
        "id": "iu0ofizAx53G"
      },
      "execution_count": null,
      "outputs": []
    },
    {
      "cell_type": "code",
      "source": [
        "def make_shirt(size ,message =\"I love python\" ):\n",
        "  \"\"\"Display the size of a shirt and a text thats printed on shirt\"\"\"\n",
        "  print(f\"\\nYour shirt size is {size}.\")\n",
        "  print(f\"Your custom shirt message is {message}\")\n",
        "\n",
        "make_shirt(size = \"medium and Large\")\n",
        "\n",
        "make_shirt(size = \"XXl\", message = \"Reebok sucks\")\n",
        "\n"
      ],
      "metadata": {
        "colab": {
          "base_uri": "https://localhost:8080/"
        },
        "id": "89HJgabE6CKH",
        "outputId": "150a934d-9a6b-4c73-8525-ffaa1c7a5902"
      },
      "execution_count": 21,
      "outputs": [
        {
          "output_type": "stream",
          "name": "stdout",
          "text": [
            "\n",
            "Your shirt size is medium and Large.\n",
            "Your custom shirt message is I love python\n",
            "\n",
            "Your shirt size is XXl.\n",
            "Your custom shirt message is Reebok sucks\n"
          ]
        }
      ]
    },
    {
      "cell_type": "markdown",
      "source": [
        "### **Returning a Simple Value**"
      ],
      "metadata": {
        "id": "qVU0ox9zBs5l"
      }
    },
    {
      "cell_type": "code",
      "source": [
        "#formatted_name.py\n",
        "\n",
        "def get_formatted_name(first_name, last_name):\n",
        "  \"\"\"Return a full name, neatly formatted.\"\"\"\n",
        "  full_name = f\"{first_name} {last_name}\"\n",
        "  return full_name.title()\n",
        "\n",
        "musician = get_formatted_name(\"jimi\", \"hendrix\")\n",
        "print(musician)"
      ],
      "metadata": {
        "colab": {
          "base_uri": "https://localhost:8080/"
        },
        "id": "YmeX3TsoBykY",
        "outputId": "b705a1c4-328e-457d-8ebe-a6802c068b96"
      },
      "execution_count": 1,
      "outputs": [
        {
          "output_type": "stream",
          "name": "stdout",
          "text": [
            "Jimi Hendrix\n"
          ]
        }
      ]
    },
    {
      "cell_type": "markdown",
      "source": [
        "### **Making an Argument Optional**"
      ],
      "metadata": {
        "id": "ziW-cv04J2Ne"
      }
    },
    {
      "cell_type": "code",
      "source": [
        "def get_formatted_name(first_name, middle_name, last_name):\n",
        "  \"\"\"Return a full name, neatly formatted.\"\"\"\n",
        "  full_name = f\"{first_name} {middle_name} {last_name}\"\n",
        "  return full_name.title()\n",
        "\n",
        "musician = get_formatted_name(\"jimi\", \"lee\", \"hendrix\")\n",
        "print(musician)"
      ],
      "metadata": {
        "colab": {
          "base_uri": "https://localhost:8080/"
        },
        "id": "vxLnvAV_J_NN",
        "outputId": "31574852-c568-4d56-c5d7-160efac03c2f"
      },
      "execution_count": 2,
      "outputs": [
        {
          "output_type": "stream",
          "name": "stdout",
          "text": [
            "Jimi Lee Hendrix\n"
          ]
        }
      ]
    },
    {
      "cell_type": "code",
      "source": [
        "def get_formatted_name(first_name, last_name, middle_name = \"\"):\n",
        "  \"\"\"Return a full name, neatly formatted.\"\"\"\n",
        "  if middle_name:\n",
        "    full_name = f\"{first_name} {middle_name} {last_name}\"\n",
        "  else:\n",
        "    full_name = f\"{first_name} {last_name}\"\n",
        "  return full_name.title()\n",
        "\n",
        "musician = get_formatted_name(\"jimi\", \"hendrix\")\n",
        "print(musician)\n",
        "\n",
        "musician = get_formatted_name(\"john\", \"hooker\", \"lee\")\n",
        "print(musician)"
      ],
      "metadata": {
        "colab": {
          "base_uri": "https://localhost:8080/"
        },
        "id": "ZhrFuywDARCi",
        "outputId": "8f4d4c3c-c4c5-44b4-cd00-abefff347491"
      },
      "execution_count": 8,
      "outputs": [
        {
          "output_type": "stream",
          "name": "stdout",
          "text": [
            "Jimi Hendrix\n",
            "John Lee Hooker\n"
          ]
        }
      ]
    },
    {
      "cell_type": "markdown",
      "source": [
        "### **Returning a Dictionary**"
      ],
      "metadata": {
        "id": "RwvcHIELDvTB"
      }
    },
    {
      "cell_type": "code",
      "source": [
        "#person.py\n",
        "\n",
        "def build_person(first_name, last_name):\n",
        "  \"\"\"Return a dictionary of information about a person.\"\"\"\n",
        "  person = {\"first\": first_name, \"last\": last_name}\n",
        "  return person\n",
        "\n",
        "musician = build_person(\"jimi\", \"hendrix\")\n",
        "print(musician)"
      ],
      "metadata": {
        "colab": {
          "base_uri": "https://localhost:8080/"
        },
        "id": "rPLUVCzRDzaU",
        "outputId": "d4063739-471c-4472-99ed-13c1ddfe7c02"
      },
      "execution_count": 9,
      "outputs": [
        {
          "output_type": "stream",
          "name": "stdout",
          "text": [
            "{'first': 'jimi', 'last': 'hendrix'}\n"
          ]
        }
      ]
    },
    {
      "cell_type": "code",
      "source": [
        "def build_person(first_name, last_name, age = None):\n",
        "  \"\"\"Return a dictionary of information about a person.\"\"\"\n",
        "  person = {\"first\": first_name, \"last\": last_name}\n",
        "  if age:\n",
        "    person[\"age\"] = age\n",
        "  return person\n",
        "\n",
        "musician = build_person(\"jimi\", \"hendrix\")\n",
        "print(musician)"
      ],
      "metadata": {
        "colab": {
          "base_uri": "https://localhost:8080/"
        },
        "id": "vhYoYIWrHPe2",
        "outputId": "031d0709-b69d-499e-89f1-8bc72fcf44f2"
      },
      "execution_count": 10,
      "outputs": [
        {
          "output_type": "stream",
          "name": "stdout",
          "text": [
            "{'first': 'jimi', 'last': 'hendrix'}\n"
          ]
        }
      ]
    },
    {
      "cell_type": "markdown",
      "source": [
        "### **Using a Function with a while Loop**"
      ],
      "metadata": {
        "id": "Iv5A6iPmHwsN"
      }
    },
    {
      "cell_type": "code",
      "source": [
        "#greeter.py\n",
        "\n",
        "while True:\n",
        "  print(\"\\nPlease tell me your name:\")\n",
        "  print(\"Enter q at anytime to quit\")\n",
        "\n",
        "  f_name = input(\"First name:\")\n",
        "  if f_name == \"q\":\n",
        "    break\n",
        "  l_name = input(\"Last name:\")\n",
        "  if l_name == \"q\":\n",
        "    break\n",
        "\n",
        "  formatted_name = get_formatted_name(f_name, l_name)\n",
        "  print(f\"\\nHello, {formatted_name}!\")"
      ],
      "metadata": {
        "colab": {
          "base_uri": "https://localhost:8080/"
        },
        "id": "L6q633A9H1lp",
        "outputId": "5cc15da9-b277-45cf-f3b0-43612f6f2d09"
      },
      "execution_count": 12,
      "outputs": [
        {
          "name": "stdout",
          "output_type": "stream",
          "text": [
            "\n",
            "Please tell me your name:\n",
            "Enter q at anytime to quit\n",
            "First name:nick \n",
            "Last name:cabrera\n",
            "\n",
            "Hello, Nick  Cabrera!\n",
            "\n",
            "Please tell me your name:\n",
            "Enter q at anytime to quit\n",
            "First name:q\n"
          ]
        }
      ]
    },
    {
      "cell_type": "markdown",
      "source": [
        "### **Passing a List**"
      ],
      "metadata": {
        "id": "3QSrjZ5XKxvU"
      }
    },
    {
      "cell_type": "code",
      "source": [
        "#greet_users.py\n",
        "\n",
        "def greet_users(names):\n",
        "  \"\"\"Print a simple greeeting to each user in a list\"\"\"\n",
        "\n",
        "  for name in names:\n",
        "    msg = f\"Hello, {name.title()}!\"\n",
        "    print(msg)\n",
        "\n",
        "usernames = [\"hannah\", \"ty\", \"margot\"]\n",
        "greet_users(usernames)"
      ],
      "metadata": {
        "colab": {
          "base_uri": "https://localhost:8080/"
        },
        "id": "cyAoQVcxK05J",
        "outputId": "eff1f2b2-b434-45e0-c021-7b89e38bdc98"
      },
      "execution_count": 17,
      "outputs": [
        {
          "output_type": "stream",
          "name": "stdout",
          "text": [
            "Hello, Hannah!\n",
            "Hello, Ty!\n",
            "Hello, Margot!\n"
          ]
        }
      ]
    },
    {
      "cell_type": "markdown",
      "source": [
        "### **Modifying a List in a Function**"
      ],
      "metadata": {
        "id": "ww7O7wDGMlrY"
      }
    },
    {
      "cell_type": "code",
      "source": [
        "#printing_models.py\n",
        "\n",
        "#start with some designs that need to be printed\n",
        "\n",
        "unprinted_designs = [\"phone case\", \"robot pendant\", \"dodecahedron\"]\n",
        "completed_models = []\n",
        "\n",
        "#simulate printing each design, until none are left.\n",
        "#Move each design to completed_models after printing.\n",
        "\n",
        "while unprinted_designs:\n",
        "  current_design = unprinted_designs.pop()\n",
        "  print(f\"Printing model: {current_design}\")\n",
        "  completed_models.append(current_design)\n",
        "\n",
        "#display all completed models.\n",
        "\n",
        "print(\"\\nThe following models have been printed:\")\n",
        "for completed_model in completed_models:\n",
        "  print(completed_model)"
      ],
      "metadata": {
        "colab": {
          "base_uri": "https://localhost:8080/"
        },
        "id": "miqaEtXEMqnN",
        "outputId": "ab67c586-8a50-4c81-ec63-75b47ca6f98c"
      },
      "execution_count": 18,
      "outputs": [
        {
          "output_type": "stream",
          "name": "stdout",
          "text": [
            "Printing model: dodecahedron\n",
            "Printing model: robot pendant\n",
            "Printing model: phone case\n",
            "\n",
            "The following models have been printed:\n",
            "dodecahedron\n",
            "robot pendant\n",
            "phone case\n"
          ]
        }
      ]
    },
    {
      "cell_type": "code",
      "source": [
        "def print_models(unprinted_designs, completed_models):\n",
        "  \"\"\"Simulate priting each design, until none are left.\"\"\"\n",
        "  \"\"\"Move each design to completed_models after printing\"\"\"\n",
        "  while unprinted_designs:\n",
        "    current_design = unprinted_designs.pop()\n",
        "    print(f\"Printing model: {current_design}\")\n",
        "    completed_models.append(current_design)\n",
        "\n",
        "def show_completed_models(completed_models):\n",
        "    \"\"\"Show all the models that were printed\"\"\"\n",
        "    print(\"\\nThe following models have been printed:\")\n",
        "    for completed_model in completed_models:\n",
        "      print(completed_model)\n",
        "\n",
        "unprinted_designs = [\"phone case\", \"robot pendant\", \"dodecahedron\"]\n",
        "completed_models = []\n",
        "\n",
        "print_models(unprinted_designs, completed_models)\n",
        "show_completed_models(completed_models)"
      ],
      "metadata": {
        "colab": {
          "base_uri": "https://localhost:8080/"
        },
        "id": "ZAXZFzdKQ6hA",
        "outputId": "8309a449-176e-4216-f7a7-f0c8d394dff7"
      },
      "execution_count": 19,
      "outputs": [
        {
          "output_type": "stream",
          "name": "stdout",
          "text": [
            "Printing model: dodecahedron\n",
            "Printing model: robot pendant\n",
            "Printing model: phone case\n",
            "\n",
            "The following models have been printed:\n",
            "dodecahedron\n",
            "robot pendant\n",
            "phone case\n"
          ]
        }
      ]
    },
    {
      "cell_type": "markdown",
      "source": [
        "### **Passing an Arbitrary Number of Arguments**"
      ],
      "metadata": {
        "id": "j6A_DaoeXLO9"
      }
    },
    {
      "cell_type": "code",
      "source": [
        "#pizza.py\n",
        "\n",
        "def make_pizza(*toppings):\n",
        "    \"\"\"Print the list of toppings that have been requested.\"\"\"\n",
        "    print(toppings)\n",
        "\n",
        "make_pizza(\"pepperoni\")\n",
        "make_pizza(\"mushrooms\", \"green peppers\", \"extra cheese\")"
      ],
      "metadata": {
        "id": "tWwCmUb-XTnc"
      },
      "execution_count": null,
      "outputs": []
    },
    {
      "cell_type": "code",
      "source": [
        "def make_pizza(*toppings):\n",
        "    \"\"\"Print the list of toppings that have been requested.\"\"\"\n",
        "    print(\"\\nMaking a pizza with the following toppings:\")\n",
        "    for topping in toppings:\n",
        "      print(f\"- {topping}\")\n",
        "\n",
        "make_pizza(\"pepperoni\")\n",
        "make_pizza(\"mushrooms\", \"green peppers\", \"extra cheese\")"
      ],
      "metadata": {
        "id": "bKqlmyxbYvZ0"
      },
      "execution_count": null,
      "outputs": []
    },
    {
      "cell_type": "markdown",
      "source": [
        "### **Mixing Positional and Arbitrary Arguments**"
      ],
      "metadata": {
        "id": "rY3fafNQa9GU"
      }
    },
    {
      "cell_type": "code",
      "source": [
        "def make_pizza(size, *toppings):\n",
        "    \"\"\"Summarize the pizza we are about to make.\"\"\"\n",
        "    print(f\"\\nMaking a {size}-inch pizza with the following toppings:\")\n",
        "    for topping in toppings:\n",
        "      print(f\"- {topping}\")\n",
        "\n",
        "make_pizza(16, \"pepperoni\")\n",
        "make_pizza(12, \"mushrooms\", \"green peppers\", \"extra cheese\")"
      ],
      "metadata": {
        "colab": {
          "base_uri": "https://localhost:8080/"
        },
        "id": "JcPZdkJDbJMA",
        "outputId": "74617586-a976-40a3-d390-d87e67f69b69"
      },
      "execution_count": 23,
      "outputs": [
        {
          "output_type": "stream",
          "name": "stdout",
          "text": [
            "\n",
            "Making a 16-inch pizza with the following toppings:\n",
            "- pepperoni\n",
            "\n",
            "Making a 12-inch pizza with the following toppings:\n",
            "- mushrooms\n",
            "- green peppers\n",
            "- extra cheese\n"
          ]
        }
      ]
    },
    {
      "cell_type": "markdown",
      "source": [
        "### **Using Arbitrary Keyword Arguments**"
      ],
      "metadata": {
        "id": "THtA_f42dBqO"
      }
    },
    {
      "cell_type": "code",
      "source": [
        "#user_profile.py\n",
        "\n",
        "def build_profile(first, last, **user_info):\n",
        "  \"\"\"Build a dictionary containing everything we know about a user.\"\"\"\n",
        "  user_info[\"first_name\"] = first\n",
        "  user_info[\"last_name\"] = last\n",
        "  return user_info\n",
        "\n",
        "user_profile = build_profile(\"albert\", \"einstein\",\n",
        "                             location = \"princeton\",\n",
        "                             field = \"physics\")\n",
        "print(user_profile)"
      ],
      "metadata": {
        "colab": {
          "base_uri": "https://localhost:8080/"
        },
        "id": "ZSz6OaU-dHsK",
        "outputId": "e5c9caf6-4e69-456f-8ee4-252999b1e45b"
      },
      "execution_count": 24,
      "outputs": [
        {
          "output_type": "stream",
          "name": "stdout",
          "text": [
            "{'location': 'princeton', 'field': 'physics', 'first_name': 'albert', 'last_name': 'einstein'}\n"
          ]
        }
      ]
    },
    {
      "cell_type": "markdown",
      "source": [
        "## **Try It Yourself**"
      ],
      "metadata": {
        "id": "7LIMrPOtezux"
      }
    },
    {
      "cell_type": "code",
      "source": [
        "\n",
        "# 8-14 Cars\n",
        "\n",
        "def car_profile(manufacture, model, **car_info):\n",
        "    \"\"\"Build a dictionary containing everything we know about the car\"\"\"\n",
        "\n",
        "    car_info[\"manufacture_name\"] = manufacture\n",
        "    car_info[\"model_name\"] = model\n",
        "    return car_info\n",
        "\n",
        "car = car_profile(\"ford\", \"mustang\",\n",
        "                  color = \"blue\",\n",
        "                  warranty = 30000,\n",
        "                  tow_package = True)\n",
        "\n",
        "car2 = car_profile(\"nissan\", \"sentra\",\n",
        "                  color = \"white\",\n",
        "                  warranty = 45000,\n",
        "                  tow_package = False)\n",
        "\n",
        "print(car)\n",
        "print(car2)"
      ],
      "metadata": {
        "id": "h5ZXCw0JeyHm"
      },
      "execution_count": null,
      "outputs": []
    },
    {
      "cell_type": "markdown",
      "source": [
        "\n",
        "1.   Write a function that takes two numbers and returns their sum and a list containing both numbers in sorted order.\n",
        "2.   The second number defaults to pi if it is not provided.\n",
        "\n",
        "\n",
        "3.   Write enough test cases for your function to convince yourself that it is working.\n",
        "4.   Modify your function above to print out the parameters and results of the function, but only if an optional parameter called 'verbose' is True.\n",
        "\n",
        "\n",
        "\n"
      ],
      "metadata": {
        "id": "UPteRP7Ls8Ns"
      }
    },
    {
      "cell_type": "code",
      "source": [
        "def add(a, b = 3.14):\n",
        "    print(f' {a=} {b=}')\n",
        "    return a + b\n",
        "\n",
        "x = add(2,3)\n",
        "\n",
        "x = add(1)\n",
        "\n",
        "print(x)"
      ],
      "metadata": {
        "colab": {
          "base_uri": "https://localhost:8080/"
        },
        "id": "OCIEyRx8s9-0",
        "outputId": "82ca2d48-81a3-49af-96eb-327c21e32d8c"
      },
      "execution_count": 40,
      "outputs": [
        {
          "output_type": "stream",
          "name": "stdout",
          "text": [
            " a=2 b=3\n",
            " a=1 b=3.14\n",
            "4.140000000000001\n"
          ]
        }
      ]
    },
    {
      "cell_type": "code",
      "source": [
        "import math\n",
        "pi = math.pi\n",
        "\n",
        "def add(a, b = pi):\n",
        "    print(f' {a=} {b=}')\n",
        "    sum = a+b\n",
        "    numbers = [a,b]\n",
        "    return sum,sorted(numbers)\n",
        "\n",
        "answer = add(6)\n",
        "print(answer)\n"
      ],
      "metadata": {
        "colab": {
          "base_uri": "https://localhost:8080/"
        },
        "id": "VDOUtLub-ZIr",
        "outputId": "9ccd41ff-e375-4e86-9876-fc8506605f44"
      },
      "execution_count": 17,
      "outputs": [
        {
          "output_type": "stream",
          "name": "stdout",
          "text": [
            " a=6 b=3.141592653589793\n",
            "(9.141592653589793, [3.141592653589793, 6])\n"
          ]
        }
      ]
    },
    {
      "cell_type": "code",
      "source": [
        "# Modified version\n",
        "# Modify your function from above to print out the parameters and results of the function\n",
        "# but only if an optional parameter called 'verbose' is True."
      ],
      "metadata": {
        "id": "RPEqj2jxoIiJ"
      },
      "execution_count": null,
      "outputs": []
    },
    {
      "cell_type": "code",
      "source": [
        "import math\n",
        "pi = math.pi\n",
        "\n",
        "def add(a, b = pi,verbose = False):\n",
        "    sum = a+b\n",
        "    numbers = [a,b]\n",
        "    numbers = sorted(numbers)\n",
        "    if verbose == True:\n",
        "      print(sum, numbers)\n",
        "    return sum, numbers\n",
        "\n",
        "answer = add(6,verbose=True)\n",
        "print(answer)"
      ],
      "metadata": {
        "colab": {
          "base_uri": "https://localhost:8080/"
        },
        "id": "M0FREAJiob7E",
        "outputId": "9647eb08-29ba-4541-d6e2-70a4a49b0c51"
      },
      "execution_count": 36,
      "outputs": [
        {
          "output_type": "stream",
          "name": "stdout",
          "text": [
            "9.141592653589793 [3.141592653589793, 6]\n",
            "(9.141592653589793, [3.141592653589793, 6])\n"
          ]
        }
      ]
    }
  ]
}