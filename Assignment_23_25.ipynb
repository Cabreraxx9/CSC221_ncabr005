{
  "nbformat": 4,
  "nbformat_minor": 0,
  "metadata": {
    "colab": {
      "provenance": [],
      "authorship_tag": "ABX9TyMmpdy0T5SGxhzFjFXEHbkM",
      "include_colab_link": true
    },
    "kernelspec": {
      "name": "python3",
      "display_name": "Python 3"
    },
    "language_info": {
      "name": "python"
    }
  },
  "cells": [
    {
      "cell_type": "markdown",
      "metadata": {
        "id": "view-in-github",
        "colab_type": "text"
      },
      "source": [
        "<a href=\"https://colab.research.google.com/github/Cabreraxx9/CSC221_ncabr005/blob/main/Assignment_23_25.ipynb\" target=\"_parent\"><img src=\"https://colab.research.google.com/assets/colab-badge.svg\" alt=\"Open In Colab\"/></a>"
      ]
    },
    {
      "cell_type": "markdown",
      "source": [
        "Nicholas Cabrera\n",
        "Assignment 23-25\n",
        "\"Functions\""
      ],
      "metadata": {
        "id": "HC7qE6bx29pJ"
      }
    },
    {
      "cell_type": "code",
      "source": [
        "#Write a function that has only positional arguments: def func(a, b)\n",
        "\n",
        "def func(a, b):\n",
        "  x = a + b\n",
        "  return x\n",
        "\n",
        "func(2,3)"
      ],
      "metadata": {
        "colab": {
          "base_uri": "https://localhost:8080/"
        },
        "id": "DGAIrDnMBKx0",
        "outputId": "fb04f88f-2843-4e82-bc02-aa36c57696cc"
      },
      "execution_count": null,
      "outputs": [
        {
          "output_type": "execute_result",
          "data": {
            "text/plain": [
              "5"
            ]
          },
          "metadata": {},
          "execution_count": 1
        }
      ]
    },
    {
      "cell_type": "code",
      "source": [
        "#Write and test a function that has variadic arguments: def func(*s)\n",
        "\n",
        "def func(*args):\n",
        "    for arg in args:\n",
        "        print(arg)\n",
        "\n",
        "# Test the function with different numbers of arguments\n",
        "func(1, 2, 3)"
      ],
      "metadata": {
        "colab": {
          "base_uri": "https://localhost:8080/"
        },
        "id": "Pn4aIMfEur4n",
        "outputId": "2111c51e-10e2-44d5-8256-2b2e291bb9e8"
      },
      "execution_count": null,
      "outputs": [
        {
          "output_type": "stream",
          "name": "stdout",
          "text": [
            "1\n",
            "2\n",
            "3\n"
          ]
        }
      ]
    },
    {
      "cell_type": "code",
      "source": [
        "#Write and test a function that uses only keyword arguments: def func(**kwargs)\n",
        "\n",
        "def func(w, x, y, z):\n",
        "  f = w + x + y + z\n",
        "  return f\n",
        "\n",
        "func(y= 1,w = 2,z = 1, x = 0)"
      ],
      "metadata": {
        "colab": {
          "base_uri": "https://localhost:8080/"
        },
        "id": "AIFjXLOnvIJs",
        "outputId": "a6458463-da19-4fa8-f5c0-39595212bcdc"
      },
      "execution_count": null,
      "outputs": [
        {
          "output_type": "execute_result",
          "data": {
            "text/plain": [
              "4"
            ]
          },
          "metadata": {},
          "execution_count": 5
        }
      ]
    },
    {
      "cell_type": "code",
      "source": [
        "#Write and test a function that accepts any inputs: def func(*args, **kwargs). The function should add or subtract all the *args based on a keyword operator='+' or operator='-'\n",
        "\n",
        "def func(*args, **kwargs):\n",
        "    operator = kwargs.get('operator', '+')\n",
        "\n",
        "    if operator == '+':\n",
        "        result = sum(args)\n",
        "    elif operator == '-' and len(args) >= 2:\n",
        "        result = args[0] - sum(args[1:])\n",
        "    else:\n",
        "        print(\"Invalid operator or not enough arguments.\")\n",
        "        return\n",
        "\n",
        "    print(f\"Result: {result}\")\n",
        "\n",
        "\n",
        "func(1, 2, 3, operator='+')\n",
        "func(10, 5, 2, operator='-')\n",
        "func(operator='*')"
      ],
      "metadata": {
        "colab": {
          "base_uri": "https://localhost:8080/"
        },
        "id": "v1r5aS__xykt",
        "outputId": "368a92ac-d0b1-4bb6-a161-802d910e7494"
      },
      "execution_count": null,
      "outputs": [
        {
          "output_type": "stream",
          "name": "stdout",
          "text": [
            "Result: 6\n",
            "Result: 3\n",
            "Invalid operator or not enough arguments.\n"
          ]
        }
      ]
    },
    {
      "cell_type": "code",
      "source": [
        "#Create a global variable and then create a function that uses and changes its value.\n",
        "\n",
        "global_variable = 10\n",
        "\n",
        "\n",
        "def modify_global_variable(new_value):\n",
        "    global global_variable\n",
        "    print(\"Original global_variable:\", global_variable)\n",
        "\n",
        "    # Change the value of the global variable\n",
        "    global_variable = new_value\n",
        "\n",
        "    print(\"Modified global_variable:\", global_variable)\n",
        "\n",
        "# Test the function\n",
        "modify_global_variable(25)"
      ],
      "metadata": {
        "colab": {
          "base_uri": "https://localhost:8080/"
        },
        "id": "VgIo8MKjzPri",
        "outputId": "77089a63-bef4-48dd-ff6f-32ccd4737381"
      },
      "execution_count": null,
      "outputs": [
        {
          "output_type": "stream",
          "name": "stdout",
          "text": [
            "Original global_variable: 10\n",
            "Modified global_variable: 25\n"
          ]
        }
      ]
    },
    {
      "cell_type": "code",
      "source": [
        "#Create a lambda function that allows the use of sorted(...) such that words are sorted by the number of vowels they contain.\n",
        "\n",
        "\n",
        "# Define a lambda function to calculate the number of vowels in a word\n",
        "count_vowels = lambda word: sum(1 for char in word.lower() if char in \"aeiou\")\n",
        "\n",
        "# Use the lambda function with sorted to sort words by the number of vowels\n",
        "words = [\"apple\", \"banana\", \"python\", \"programming\", \"easy\"]\n",
        "sorted_words = sorted(words, key=count_vowels)\n",
        "\n",
        "# Print the sorted words\n",
        "print(\"Sorted words by the number of vowels:\")\n",
        "print(sorted_words)"
      ],
      "metadata": {
        "colab": {
          "base_uri": "https://localhost:8080/"
        },
        "id": "eZX3qm2D1dvf",
        "outputId": "492790a2-a469-4860-8c9d-a7d328afafd1"
      },
      "execution_count": null,
      "outputs": [
        {
          "output_type": "stream",
          "name": "stdout",
          "text": [
            "Sorted words by the number of vowels:\n",
            "['python', 'apple', 'easy', 'banana', 'programming']\n"
          ]
        }
      ]
    },
    {
      "cell_type": "code",
      "source": [
        "#Write a decorator called logger() that appends the name of the function, all of its arguments, and its return value to a file called log.txt.\n",
        "#Use some of your functions above to demonstrate how @logger works.\n",
        "\n",
        "#got help from ChatGpt Mr lecky\n",
        "\n",
        "def logger(func):\n",
        "    def wrapper(*args, **kwargs):\n",
        "        result = func(*args, **kwargs)\n",
        "\n",
        "        with open('log.txt', 'a') as log_file:\n",
        "            log_file.write(f\"Function: {func.__name__}, Arguments: {args}, {kwargs}, Result: {result}\\n\")\n",
        "\n",
        "        return result\n",
        "\n",
        "    return wrapper\n",
        "\n",
        "@logger\n",
        "def func(a, b):\n",
        "    return a + b\n",
        "\n",
        "# Test the decorated function\n",
        "result = func(3, 5)"
      ],
      "metadata": {
        "id": "3lUSUkAi18yy"
      },
      "execution_count": 8,
      "outputs": []
    },
    {
      "cell_type": "code",
      "source": [
        "#Show an example of how Python can be used to perform map, filter, and reduce operations.\n",
        "\n",
        "#map\n",
        "def square(x):\n",
        "  return x * x\n",
        "\n",
        "nums = [1, 2, 3, 4, 5]\n",
        "\n",
        "squares = map(lambda x: x*x, nums)\n",
        "for n in squares:\n",
        "  print(n)\n"
      ],
      "metadata": {
        "colab": {
          "base_uri": "https://localhost:8080/"
        },
        "id": "DCXnHpQS2s7P",
        "outputId": "6d2a49a1-bb83-462a-ff90-5c339996d958"
      },
      "execution_count": null,
      "outputs": [
        {
          "output_type": "stream",
          "name": "stdout",
          "text": [
            "1\n",
            "4\n",
            "9\n",
            "16\n",
            "25\n"
          ]
        }
      ]
    },
    {
      "cell_type": "code",
      "source": [
        "#filter\n",
        "\n",
        "def square(x):\n",
        "  return x * x\n",
        "\n",
        "nums = [1, 2, 3, 4, 5]\n",
        "\n",
        "for n in filter(lambda x: x > 2, nums):\n",
        "  print(n)"
      ],
      "metadata": {
        "colab": {
          "base_uri": "https://localhost:8080/"
        },
        "id": "_wvvhpabqKza",
        "outputId": "654eede7-6583-482a-f857-dc65381d8186"
      },
      "execution_count": null,
      "outputs": [
        {
          "output_type": "stream",
          "name": "stdout",
          "text": [
            "3\n",
            "4\n",
            "5\n"
          ]
        }
      ]
    },
    {
      "cell_type": "code",
      "source": [
        "#reduce\n",
        "from functools import reduce\n",
        "\n",
        "nums = [1, 2, 3, 4, 5]\n",
        "total = reduce(lambda x, y: x + y, nums)\n",
        "print(total)"
      ],
      "metadata": {
        "id": "oBAKtmvQrOXc",
        "colab": {
          "base_uri": "https://localhost:8080/"
        },
        "outputId": "337ef423-945b-4286-cd90-098b26a39a30"
      },
      "execution_count": 3,
      "outputs": [
        {
          "output_type": "stream",
          "name": "stdout",
          "text": [
            "15\n"
          ]
        }
      ]
    },
    {
      "cell_type": "code",
      "source": [
        "#Show how you can use exec(...) to make a simple calculator that runs in a loop\n",
        "#and allows me to type in ant Python expression (like '5 + 3 - 8 / 12')\n",
        "#and print the result by merely passing the expression to exec(...).\n",
        "\n",
        "while True:\n",
        "    calculator = input(\"Enter a Python expression to calculate (or 'exit' to quit): \")\n",
        "\n",
        "    if calculator.lower() == 'exit':\n",
        "        print(\"Exiting the calculator.\")\n",
        "        break\n",
        "\n",
        "    try:\n",
        "        result = None\n",
        "        exec(f\"result = {calculator}\")\n",
        "        print(\"Result:\", result)\n",
        "    except Exception as e:\n",
        "        print(\"Error:\", e)"
      ],
      "metadata": {
        "id": "rYuZf5vU2w1y",
        "colab": {
          "base_uri": "https://localhost:8080/",
          "height": 443
        },
        "outputId": "4c810e58-8ae1-41da-aa1d-edd49a5981b6"
      },
      "execution_count": 6,
      "outputs": [
        {
          "output_type": "stream",
          "name": "stdout",
          "text": [
            "Enter a Python expression to calculate (or 'exit' to quit): 5 + 5\n",
            "Result: 10\n"
          ]
        },
        {
          "output_type": "error",
          "ename": "KeyboardInterrupt",
          "evalue": "ignored",
          "traceback": [
            "\u001b[0;31m---------------------------------------------------------------------------\u001b[0m",
            "\u001b[0;31mKeyboardInterrupt\u001b[0m                         Traceback (most recent call last)",
            "\u001b[0;32m<ipython-input-6-dcab68318d43>\u001b[0m in \u001b[0;36m<cell line: 5>\u001b[0;34m()\u001b[0m\n\u001b[1;32m      4\u001b[0m \u001b[0;34m\u001b[0m\u001b[0m\n\u001b[1;32m      5\u001b[0m \u001b[0;32mwhile\u001b[0m \u001b[0;32mTrue\u001b[0m\u001b[0;34m:\u001b[0m\u001b[0;34m\u001b[0m\u001b[0;34m\u001b[0m\u001b[0m\n\u001b[0;32m----> 6\u001b[0;31m     \u001b[0mcalculator\u001b[0m \u001b[0;34m=\u001b[0m \u001b[0minput\u001b[0m\u001b[0;34m(\u001b[0m\u001b[0;34m\"Enter a Python expression to calculate (or 'exit' to quit): \"\u001b[0m\u001b[0;34m)\u001b[0m\u001b[0;34m\u001b[0m\u001b[0;34m\u001b[0m\u001b[0m\n\u001b[0m\u001b[1;32m      7\u001b[0m \u001b[0;34m\u001b[0m\u001b[0m\n\u001b[1;32m      8\u001b[0m     \u001b[0;32mif\u001b[0m \u001b[0mcalculator\u001b[0m\u001b[0;34m.\u001b[0m\u001b[0mlower\u001b[0m\u001b[0;34m(\u001b[0m\u001b[0;34m)\u001b[0m \u001b[0;34m==\u001b[0m \u001b[0;34m'exit'\u001b[0m\u001b[0;34m:\u001b[0m\u001b[0;34m\u001b[0m\u001b[0;34m\u001b[0m\u001b[0m\n",
            "\u001b[0;32m/usr/local/lib/python3.10/dist-packages/ipykernel/kernelbase.py\u001b[0m in \u001b[0;36mraw_input\u001b[0;34m(self, prompt)\u001b[0m\n\u001b[1;32m    849\u001b[0m                 \u001b[0;34m\"raw_input was called, but this frontend does not support input requests.\"\u001b[0m\u001b[0;34m\u001b[0m\u001b[0;34m\u001b[0m\u001b[0m\n\u001b[1;32m    850\u001b[0m             )\n\u001b[0;32m--> 851\u001b[0;31m         return self._input_request(str(prompt),\n\u001b[0m\u001b[1;32m    852\u001b[0m             \u001b[0mself\u001b[0m\u001b[0;34m.\u001b[0m\u001b[0m_parent_ident\u001b[0m\u001b[0;34m,\u001b[0m\u001b[0;34m\u001b[0m\u001b[0;34m\u001b[0m\u001b[0m\n\u001b[1;32m    853\u001b[0m             \u001b[0mself\u001b[0m\u001b[0;34m.\u001b[0m\u001b[0m_parent_header\u001b[0m\u001b[0;34m,\u001b[0m\u001b[0;34m\u001b[0m\u001b[0;34m\u001b[0m\u001b[0m\n",
            "\u001b[0;32m/usr/local/lib/python3.10/dist-packages/ipykernel/kernelbase.py\u001b[0m in \u001b[0;36m_input_request\u001b[0;34m(self, prompt, ident, parent, password)\u001b[0m\n\u001b[1;32m    893\u001b[0m             \u001b[0;32mexcept\u001b[0m \u001b[0mKeyboardInterrupt\u001b[0m\u001b[0;34m:\u001b[0m\u001b[0;34m\u001b[0m\u001b[0;34m\u001b[0m\u001b[0m\n\u001b[1;32m    894\u001b[0m                 \u001b[0;31m# re-raise KeyboardInterrupt, to truncate traceback\u001b[0m\u001b[0;34m\u001b[0m\u001b[0;34m\u001b[0m\u001b[0m\n\u001b[0;32m--> 895\u001b[0;31m                 \u001b[0;32mraise\u001b[0m \u001b[0mKeyboardInterrupt\u001b[0m\u001b[0;34m(\u001b[0m\u001b[0;34m\"Interrupted by user\"\u001b[0m\u001b[0;34m)\u001b[0m \u001b[0;32mfrom\u001b[0m \u001b[0;32mNone\u001b[0m\u001b[0;34m\u001b[0m\u001b[0;34m\u001b[0m\u001b[0m\n\u001b[0m\u001b[1;32m    896\u001b[0m             \u001b[0;32mexcept\u001b[0m \u001b[0mException\u001b[0m \u001b[0;32mas\u001b[0m \u001b[0me\u001b[0m\u001b[0;34m:\u001b[0m\u001b[0;34m\u001b[0m\u001b[0;34m\u001b[0m\u001b[0m\n\u001b[1;32m    897\u001b[0m                 \u001b[0mself\u001b[0m\u001b[0;34m.\u001b[0m\u001b[0mlog\u001b[0m\u001b[0;34m.\u001b[0m\u001b[0mwarning\u001b[0m\u001b[0;34m(\u001b[0m\u001b[0;34m\"Invalid Message:\"\u001b[0m\u001b[0;34m,\u001b[0m \u001b[0mexc_info\u001b[0m\u001b[0;34m=\u001b[0m\u001b[0;32mTrue\u001b[0m\u001b[0;34m)\u001b[0m\u001b[0;34m\u001b[0m\u001b[0;34m\u001b[0m\u001b[0m\n",
            "\u001b[0;31mKeyboardInterrupt\u001b[0m: Interrupted by user"
          ]
        }
      ]
    }
  ]
}