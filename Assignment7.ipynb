{
  "nbformat": 4,
  "nbformat_minor": 0,
  "metadata": {
    "colab": {
      "provenance": [],
      "authorship_tag": "ABX9TyOqlzt7o84p1Ut5msDNFAp1",
      "include_colab_link": true
    },
    "kernelspec": {
      "name": "python3",
      "display_name": "Python 3"
    },
    "language_info": {
      "name": "python"
    }
  },
  "cells": [
    {
      "cell_type": "markdown",
      "metadata": {
        "id": "view-in-github",
        "colab_type": "text"
      },
      "source": [
        "<a href=\"https://colab.research.google.com/github/Cabreraxx9/CSC221_ncabr005/blob/main/Assignment7.ipynb\" target=\"_parent\"><img src=\"https://colab.research.google.com/assets/colab-badge.svg\" alt=\"Open In Colab\"/></a>"
      ]
    },
    {
      "cell_type": "markdown",
      "source": [
        "**Nicholas Cabrera**\n",
        "🖱\n",
        "***Assignment 7: Chapter 6 Dictionaries ***"
      ],
      "metadata": {
        "id": "KB6X-BwjcY3R"
      }
    },
    {
      "cell_type": "markdown",
      "source": [
        "**alien.py**"
      ],
      "metadata": {
        "id": "v8719VNCzwEB"
      }
    },
    {
      "cell_type": "code",
      "execution_count": null,
      "metadata": {
        "colab": {
          "base_uri": "https://localhost:8080/"
        },
        "id": "wGkqfdSk5tRD",
        "outputId": "831e8e32-6df2-48bd-d0e7-bb5fe15d4d40"
      },
      "outputs": [
        {
          "output_type": "stream",
          "name": "stdout",
          "text": [
            "green\n",
            "5\n"
          ]
        }
      ],
      "source": [
        "alien_0 = {\"color\": \"green\", \"points\":5}\n",
        "\n",
        "print(alien_0[\"color\"])\n",
        "print(alien_0[\"points\"])"
      ]
    },
    {
      "cell_type": "code",
      "source": [
        "# a dictionary is wrapped in braces {} with a series of key value pairs inside the braces\n",
        "# to get value associated with a key, give the name of the dictionary and then place the key inside a set of square brackets"
      ],
      "metadata": {
        "id": "LVlNxrObAaVf"
      },
      "execution_count": null,
      "outputs": []
    },
    {
      "cell_type": "code",
      "source": [
        "# if a player shoots down an alien, you can look up how many  points they should earn using code like this:\n",
        "\n",
        "alien_0 = {\"color\": \"green\", \"points\": 5}\n",
        "\n",
        "new_points = alien_0[\"points\"]\n",
        "print(f\"You just earned {new_points} points!!!\")"
      ],
      "metadata": {
        "colab": {
          "base_uri": "https://localhost:8080/"
        },
        "id": "R8rzvfs9G6-V",
        "outputId": "7b457d67-a196-47e8-c2d2-0051c41f5c56"
      },
      "execution_count": null,
      "outputs": [
        {
          "output_type": "stream",
          "name": "stdout",
          "text": [
            "You just earned 5 points!!!\n"
          ]
        }
      ]
    },
    {
      "cell_type": "code",
      "source": [
        "# Adding new key-value pairs\n",
        "\n",
        "alien_0 = {\"color\": \"green\", \"points\": 5}\n",
        "\n",
        "alien_0[\"x_position\"] = 0\n",
        "alien_0[\"y_position\"] = 25\n",
        "\n",
        "print(alien_0)"
      ],
      "metadata": {
        "colab": {
          "base_uri": "https://localhost:8080/"
        },
        "id": "T_CYjCK_IxBy",
        "outputId": "776cc6ea-94ad-4e06-a105-3914e3ba7e85"
      },
      "execution_count": null,
      "outputs": [
        {
          "output_type": "stream",
          "name": "stdout",
          "text": [
            "{'color': 'green', 'points': 5, 'x_position': 0, 'y_position': 25}\n"
          ]
        }
      ]
    },
    {
      "cell_type": "code",
      "source": [
        "# starting with an empty dictionary and adding each key-value pair on its own line\n",
        "\n",
        "alien_0 = {}\n",
        "\n",
        "alien_0[\"color\"] = \"green\"\n",
        "alien_0[\"points\"] = 5\n",
        "\n",
        "print(alien_0)\n"
      ],
      "metadata": {
        "colab": {
          "base_uri": "https://localhost:8080/"
        },
        "id": "tDf953LpLtmB",
        "outputId": "ce8c5158-d468-4cda-fb12-c13943c4d166"
      },
      "execution_count": null,
      "outputs": [
        {
          "output_type": "stream",
          "name": "stdout",
          "text": [
            "{'color': 'green', 'points': 5}\n"
          ]
        }
      ]
    },
    {
      "cell_type": "code",
      "source": [
        "#modifying Values in a Dictionary\n",
        "\n",
        "alien_0 = {\"color\": \"green\"}\n",
        "print(f\"The alien is {alien_0['color']}\")\n",
        "\n",
        "alien_0[\"color\"] = \"yellow\"\n",
        "print(f\"The alien is now {alien_0['color']}\")\n"
      ],
      "metadata": {
        "colab": {
          "base_uri": "https://localhost:8080/"
        },
        "id": "yadjJVJtNqJG",
        "outputId": "0054e39a-4d9c-41b8-cc01-17be636ee645"
      },
      "execution_count": null,
      "outputs": [
        {
          "output_type": "stream",
          "name": "stdout",
          "text": [
            "The alien is green\n",
            "The alien is now yellow\n"
          ]
        }
      ]
    },
    {
      "cell_type": "code",
      "source": [
        "alien_0 = {\"x_position\": 0, \"y_position\": 25, \"speed\": \"medium\"}\n",
        "print(f\"Original position: {alien_0['x_position']}\")\n",
        "\n",
        "if alien_0[\"speed\"] == \"slow\":\n",
        "  x_increment = 1\n",
        "elif alien_0[\"speed\"] == \"medium\":\n",
        "  x_increment = 2\n",
        "else:\n",
        "  x_increment = 3\n",
        "\n",
        "alien_0[\"x_position\"] = alien_0[\"x_position\"] + x_increment\n",
        "\n",
        "print(f\"New position: {alien_0['x_position']}\")"
      ],
      "metadata": {
        "colab": {
          "base_uri": "https://localhost:8080/"
        },
        "id": "Whu_5WBOttdg",
        "outputId": "04c99dc6-293a-4394-f90c-c5862c4c6ce4"
      },
      "execution_count": null,
      "outputs": [
        {
          "output_type": "stream",
          "name": "stdout",
          "text": [
            "Original position: 0\n",
            "New position: 2\n"
          ]
        }
      ]
    },
    {
      "cell_type": "code",
      "source": [
        "# removing Key-Value Pairs with the del statement (deleted key pairs is a permanent action)\n",
        "\n",
        "alien_0 = {\"color\": \"green\", \"points\": 5}\n",
        "print(alien_0)\n",
        "\n",
        "del alien_0[\"points\"]\n",
        "print(alien_0)"
      ],
      "metadata": {
        "id": "u8jq_Z61kkHT"
      },
      "execution_count": null,
      "outputs": []
    },
    {
      "cell_type": "markdown",
      "source": [
        "**favorite_languages.py**"
      ],
      "metadata": {
        "id": "0T1Kmkgwz8gG"
      }
    },
    {
      "cell_type": "code",
      "source": [
        "#a dictionary of similiar object        The alien program was just one object in a dictionary\n",
        "favorite_languages = {\n",
        "    \"jen\": \"python\",\n",
        "    \"sarah\": \"c\",\n",
        "    \"edward\": \"rust\",\n",
        "    \"phil\": \"python\",\n",
        "}"
      ],
      "metadata": {
        "id": "hJ1UpEED0CJQ"
      },
      "execution_count": 44,
      "outputs": []
    },
    {
      "cell_type": "code",
      "source": [
        "favorite_languages = {\n",
        "    \"Jen\": \"python\",\n",
        "    \"sarah\": \"c\",\n",
        "    \"edward\": \"rust\",\n",
        "    \"phil\": \"python\",\n",
        "}\n",
        "\n",
        "language = favorite_languages[\"sarah\"].title()\n",
        "print(f\"Sarah's favorite language is {language}.\")"
      ],
      "metadata": {
        "colab": {
          "base_uri": "https://localhost:8080/"
        },
        "id": "V-jfgUMW2Uw8",
        "outputId": "da42003b-1314-4d1c-9230-55ada371d322"
      },
      "execution_count": null,
      "outputs": [
        {
          "output_type": "stream",
          "name": "stdout",
          "text": [
            "Sarah's favorite language is C.\n"
          ]
        }
      ]
    },
    {
      "cell_type": "code",
      "source": [
        "#using get() to access values     print a key that doesnt exist will result in a traceback, showing a keyerror\n",
        "\n",
        "alien_0 = {\"color\": \"green\", \"speed\": \"slow\"}\n",
        "\n",
        "point_value = alien_0.get(\"points\", \"no point value assigned.\")\n",
        "print(point_value)"
      ],
      "metadata": {
        "colab": {
          "base_uri": "https://localhost:8080/"
        },
        "id": "vWhsHvoT3Y_L",
        "outputId": "0db2a745-a8fd-4f74-e1ae-db60a227e0be"
      },
      "execution_count": null,
      "outputs": [
        {
          "output_type": "stream",
          "name": "stdout",
          "text": [
            "no point value assigned.\n"
          ]
        }
      ]
    },
    {
      "cell_type": "markdown",
      "source": [
        "**TRY IT YOURSELF**"
      ],
      "metadata": {
        "id": "NdYr7fstNN7y"
      }
    },
    {
      "cell_type": "code",
      "source": [
        "# 6-1 Person\n",
        "\n",
        "friend = {\"first_name\": \"andre\", \"last_name\": \"leon\", \"age\": 27, \"city\": \"Tampa\"}\n",
        "\n",
        "print(friend[\"first_name\"])\n",
        "print(friend[\"last_name\"])\n",
        "print(friend[\"age\"])\n",
        "print(friend[\"city\"])\n",
        "\n"
      ],
      "metadata": {
        "colab": {
          "base_uri": "https://localhost:8080/"
        },
        "id": "fy71TELPNJSz",
        "outputId": "e75f9bf5-e8a6-4cab-e315-e779c2cc8602"
      },
      "execution_count": null,
      "outputs": [
        {
          "output_type": "stream",
          "name": "stdout",
          "text": [
            "andre\n",
            "leon\n",
            "27\n",
            "Tampa\n"
          ]
        }
      ]
    },
    {
      "cell_type": "code",
      "source": [
        "# 6-2 Favorite numbers\n",
        "\n",
        "favorite_numbers = {\n",
        "    \"andre\": 5,\n",
        "    \"cyle\": 3,\n",
        "    \"matt\": 9,\n",
        "    \"cameron\": 6,\n",
        "}\n",
        "\n",
        "print(f\"Andres favorite number is {favorite_numbers['andre']}\")\n",
        "print(f\"\\nCyles favorite number is {favorite_numbers['cyle']}\")\n",
        "print(f\"\\nMatts favorite number is {favorite_numbers['matt']}\")\n",
        "print(f\"\\nCamerons favorite number is {favorite_numbers['cameron']}\")"
      ],
      "metadata": {
        "colab": {
          "base_uri": "https://localhost:8080/"
        },
        "id": "r0Y6O6iqRDmE",
        "outputId": "4afb3f57-7386-4e9e-b472-e9d55f0f19f3"
      },
      "execution_count": null,
      "outputs": [
        {
          "output_type": "stream",
          "name": "stdout",
          "text": [
            "Andres favorite number is 5\n",
            "\n",
            "Cyles favorite number is 3\n",
            "\n",
            "Matts favorite number is 9\n",
            "\n",
            "Camerons favorite number is 6\n"
          ]
        }
      ]
    },
    {
      "cell_type": "code",
      "source": [
        "# 6-3 Glossary\n",
        "\n",
        "glossary = {\n",
        "    \"variable\": \" a name used as a label connected to a value\",\n",
        "    \"strings\": \"any characters placed within quotations marks\",\n",
        "    \"comment\": \"notes after a # to place within blocks of code\",\n",
        "    \"list\": \"a collection of items in a particular order\",\n",
        "    \"loop\": \"taking the same action with every item in a list\"\n",
        "}\n",
        "print(\"variable:\".title())\n",
        "print(f\"\\t{glossary['variable']}\")\n",
        "\n",
        "print(\"\\nstrings:\".title())\n",
        "print(f\"\\t{glossary['strings']}\")\n",
        "\n",
        "print(\"\\ncomment:\".title())\n",
        "print(f\"\\t{glossary['comment']}\")\n",
        "\n",
        "print(\"\\nlist:\".title())\n",
        "print(f\"\\t{glossary['list']}\")\n",
        "\n",
        "print(\"\\nloop:\".title())\n",
        "print(f\"\\t{glossary['loop']}\")\n"
      ],
      "metadata": {
        "id": "dHfetThqXO0n"
      },
      "execution_count": null,
      "outputs": []
    },
    {
      "cell_type": "code",
      "source": [
        "# 6-4 Glossary 2\n",
        "\n",
        "glossary = {\n",
        "    \"variable\": \" a name used as a label connected to a value\",\n",
        "    \"strings\": \"any characters placed within quotations marks\",\n",
        "    \"comment\": \"notes after a # to place within blocks of code\",\n",
        "    \"list\": \"a collection of items in a particular order\",\n",
        "    \"loop\": \"taking the same action with every item in a list\",\n",
        "    \"dictionary\": \"a collection of key-value pairs\",\n",
        "    \"boolean\": \"a value thats either true or false\",\n",
        "    \"backslash n\": \"adding a new line\",\n",
        "    \"backslash t\": \"adding a tab to a line\"\n",
        "}\n",
        "\n",
        "for key, value in glossary.items():\n",
        "  print(f\"\\n {key.title()}:\")\n",
        "  print(f\"\\t {value}\")\n",
        "\n"
      ],
      "metadata": {
        "colab": {
          "base_uri": "https://localhost:8080/"
        },
        "id": "zarubade0h75",
        "outputId": "7c841f22-11af-42c3-8e11-86c6e1dbafd0"
      },
      "execution_count": 57,
      "outputs": [
        {
          "output_type": "stream",
          "name": "stdout",
          "text": [
            "\n",
            " Variable:\n",
            "\t  a name used as a label connected to a value\n",
            "\n",
            " Strings:\n",
            "\t any characters placed within quotations marks\n",
            "\n",
            " Comment:\n",
            "\t notes after a # to place within blocks of code\n",
            "\n",
            " List:\n",
            "\t a collection of items in a particular order\n",
            "\n",
            " Loop:\n",
            "\t taking the same action with every item in a list\n",
            "\n",
            " Dictionary:\n",
            "\t a collection of key-value pairs\n",
            "\n",
            " Boolean:\n",
            "\t a value thats either true or false\n",
            "\n",
            " Backslash N:\n",
            "\t adding a new line\n",
            "\n",
            " Backslash T:\n",
            "\t adding a tab to a line\n"
          ]
        }
      ]
    },
    {
      "cell_type": "markdown",
      "source": [
        "**Looping Through a Dictionary**"
      ],
      "metadata": {
        "id": "H3M2WK9Kexdi"
      }
    },
    {
      "cell_type": "markdown",
      "source": [
        "***user.py***"
      ],
      "metadata": {
        "id": "-sjJF_e3fIsx"
      }
    },
    {
      "cell_type": "code",
      "source": [
        "#looping Through all key-value pairs\n",
        "\n",
        "user_0 = {\n",
        "    \"username\": \"efermi\",\n",
        "    \"first\": \"enrico\",\n",
        "    \"last\": \"fermi\",\n",
        "}\n",
        "\n",
        "for key, value in user_0.items():\n",
        "  print(f\"\\nKey: {key}\")\n",
        "  print(f\"Value: {value}\")"
      ],
      "metadata": {
        "colab": {
          "base_uri": "https://localhost:8080/"
        },
        "id": "QrW5Gecee2S0",
        "outputId": "da8b09a5-a2dd-44d2-fd5c-1f08bc6c9097"
      },
      "execution_count": 52,
      "outputs": [
        {
          "output_type": "stream",
          "name": "stdout",
          "text": [
            "\n",
            "Key: username\n",
            "Value: efermi\n",
            "\n",
            "Key: first\n",
            "Value: enrico\n",
            "\n",
            "Key: last\n",
            "Value: fermi\n"
          ]
        }
      ]
    },
    {
      "cell_type": "code",
      "source": [
        "# favorite_languages.py\n",
        "\n",
        "favorite_languages = {\n",
        "    \"jen\": \"python\",\n",
        "    \"sarah\": \"c\",\n",
        "    \"edward\": \"rust\",\n",
        "    \"phil\": \"python\",\n",
        "}\n",
        "\n",
        "for name, language in favorite_languages.items():\n",
        "  print(f\"{name.title()}'s favorite language is {language.title()}.\")"
      ],
      "metadata": {
        "id": "tbVR1XfJj5T2",
        "colab": {
          "base_uri": "https://localhost:8080/"
        },
        "outputId": "ba686216-29f3-457d-ffb9-9f3e9f6de8e8"
      },
      "execution_count": 34,
      "outputs": [
        {
          "output_type": "stream",
          "name": "stdout",
          "text": [
            "Jen's favorite language is Python.\n",
            "Sarah's favorite language is C.\n",
            "Edward's favorite language is Rust.\n",
            "Phil's favorite language is Python.\n"
          ]
        }
      ]
    },
    {
      "cell_type": "code",
      "source": [
        "#looping through all the keys in a dictionary using the keys method\n",
        "\n",
        "favorite_languages = {\n",
        "    \"jen\": \"python\",\n",
        "    \"sarah\": \"c\",\n",
        "    \"edward\": \"rust\",\n",
        "    \"phil\": \"python\",\n",
        "}\n",
        "\n",
        "for name in favorite_languages.keys():\n",
        "  print(name.title())\n"
      ],
      "metadata": {
        "colab": {
          "base_uri": "https://localhost:8080/"
        },
        "id": "cywdYJNLqP9r",
        "outputId": "22f0ec14-9c12-4d30-d092-ca28b9199aed"
      },
      "execution_count": 42,
      "outputs": [
        {
          "output_type": "stream",
          "name": "stdout",
          "text": [
            "Jen\n",
            "Sarah\n",
            "Edward\n",
            "Phil\n"
          ]
        }
      ]
    },
    {
      "cell_type": "code",
      "source": [
        "favorite_languages = {\n",
        "    \"jen\": \"python\",\n",
        "    \"sarah\": \"c\",\n",
        "    \"edward\": \"rust\",\n",
        "    \"phil\": \"python\",\n",
        "}\n",
        "\n",
        "friends = [\"phil\", \"sarah\"]\n",
        "\n",
        "for name in favorite_languages.keys():\n",
        "  print(f\"Hi {name.title()}.\")\n",
        "\n",
        "  if name in friends:\n",
        "    language = favorite_languages[name].title()\n",
        "    print(f\"\\t{name.title()}, I see you love {language}!\")\n",
        "\n",
        "\n",
        ""
      ],
      "metadata": {
        "colab": {
          "base_uri": "https://localhost:8080/"
        },
        "id": "L9dYI8NtseV2",
        "outputId": "5c2d7d6f-310b-4523-eb52-cf4e1231e8ca"
      },
      "execution_count": 41,
      "outputs": [
        {
          "output_type": "stream",
          "name": "stdout",
          "text": [
            "Hi Jen.\n",
            "Hi Sarah.\n",
            "\tSarah, I see you love C!\n",
            "Hi Edward.\n",
            "Hi Phil.\n",
            "\tPhil, I see you love Python!\n"
          ]
        }
      ]
    },
    {
      "cell_type": "code",
      "source": [
        "favorite_languages = {\n",
        "    \"jen\": \"python\",\n",
        "    \"sarah\": \"c\",\n",
        "    \"edward\": \"rust\",\n",
        "    \"phil\": \"python\",\n",
        "}\n",
        "\n",
        "if \"erin\" not in favorite_languages.keys():\n",
        "  print(\"Erin, please take our poll\")"
      ],
      "metadata": {
        "colab": {
          "base_uri": "https://localhost:8080/"
        },
        "id": "5d7C0w1yuJrX",
        "outputId": "a6a73aa5-35bc-4f1e-a301-72335e719e54"
      },
      "execution_count": 40,
      "outputs": [
        {
          "output_type": "stream",
          "name": "stdout",
          "text": [
            "Erin, please take our poll\n"
          ]
        }
      ]
    },
    {
      "cell_type": "code",
      "source": [],
      "metadata": {
        "id": "VrHMpUFLuiS1"
      },
      "execution_count": null,
      "outputs": []
    },
    {
      "cell_type": "markdown",
      "source": [
        "**Looping through a Dictionarys Keys in a Particular order**"
      ],
      "metadata": {
        "id": "rqk-lmwLukdZ"
      }
    },
    {
      "cell_type": "code",
      "source": [
        "favorite_languages = {\n",
        "    \"jen\": \"python\",\n",
        "    \"sarah\": \"c\",\n",
        "    \"edward\": \"rust\",\n",
        "    \"phil\": \"python\",\n",
        "}\n",
        "\n",
        "for name in sorted(favorite_languages.keys()):\n",
        "  print(f\"{name.title()}, thank you for taking the poll\")"
      ],
      "metadata": {
        "colab": {
          "base_uri": "https://localhost:8080/"
        },
        "id": "J8-pw5m2ux4u",
        "outputId": "b6b3d109-bcc0-4de6-d46d-26d76271c1b5"
      },
      "execution_count": 39,
      "outputs": [
        {
          "output_type": "stream",
          "name": "stdout",
          "text": [
            "Edward, thank you for taking the poll\n",
            "Jen, thank you for taking the poll\n",
            "Phil, thank you for taking the poll\n",
            "Sarah, thank you for taking the poll\n"
          ]
        }
      ]
    },
    {
      "cell_type": "markdown",
      "source": [
        "Looping through all values in a dictionary\n",
        "\n"
      ],
      "metadata": {
        "id": "2slOqEj8w0hk"
      }
    },
    {
      "cell_type": "code",
      "source": [
        "favorite_languages = {\n",
        "    \"jen\": \"python\",\n",
        "    \"sarah\": \"c\",\n",
        "    \"edward\": \"rust\",\n",
        "    \"phil\": \"python\",\n",
        "}\n",
        "\n",
        "print(\"The following languages have been mentioned:\")\n",
        "for language in favorite_languages.values():\n",
        "  print(language.title())"
      ],
      "metadata": {
        "colab": {
          "base_uri": "https://localhost:8080/"
        },
        "id": "E3dOJOI2w_Oq",
        "outputId": "fc482158-d40e-44ac-b3dd-c619eccc4a8e"
      },
      "execution_count": 45,
      "outputs": [
        {
          "output_type": "stream",
          "name": "stdout",
          "text": [
            "The following languages have been mentioned:\n",
            "Python\n",
            "C\n",
            "Rust\n",
            "Python\n"
          ]
        }
      ]
    },
    {
      "cell_type": "code",
      "source": [
        "#using set for non repetitive feedback\n",
        "\n",
        "favorite_languages = {\n",
        "    \"jen\": \"python\",\n",
        "    \"sarah\": \"c\",\n",
        "    \"edward\": \"rust\",\n",
        "    \"phil\": \"python\",\n",
        "}\n",
        "\n",
        "print(\"The following languages have been mentioned:\")\n",
        "for language in set (favorite_languages.values()):\n",
        "  print(language.title())"
      ],
      "metadata": {
        "id": "QiYjX-Oaxwx2"
      },
      "execution_count": null,
      "outputs": []
    },
    {
      "cell_type": "code",
      "source": [
        "# 6-5 Rivers:\n",
        "\n",
        "rivers = {\"nile\": \"egypt\", \"amazon\": \"brazil\", \"mississippi\": \"united states\" }\n",
        "\n",
        "for name, country in rivers.items():\n",
        "  print(f\" The {name.title()} runs through {country.title()}.\" )"
      ],
      "metadata": {
        "colab": {
          "base_uri": "https://localhost:8080/"
        },
        "id": "Ed9tsmG_534N",
        "outputId": "e98e9808-3edc-426a-ee02-425754244bf0"
      },
      "execution_count": 62,
      "outputs": [
        {
          "output_type": "stream",
          "name": "stdout",
          "text": [
            " The Nile runs through Egypt.\n",
            " The Amazon runs through Brazil.\n",
            " The Mississippi runs through United States.\n"
          ]
        }
      ]
    },
    {
      "cell_type": "code",
      "source": [
        "#6-6 Polling\n",
        "\n",
        "favorite_languages = {\n",
        "    \"jen\": \"python\",\n",
        "    \"sarah\": \"c\",\n",
        "    \"edward\": \"rust\",\n",
        "    \"phil\": \"python\",\n",
        "}\n",
        "\n",
        "people = [\"nick\", \"brian\", \"matt\", \"edward\", \"phil\"]\n",
        "\n",
        "for name in favorite_languages.keys():\n",
        "  print(f\"\\nHey {name.title()}.\")\n",
        "\n",
        "  if name in people:\n",
        "    language = favorite_languages[name].title()\n",
        "    print(f\"\\n{name.title()}, Thank you for taking the poll\")\n",
        "\n",
        "  if name not in people:\n",
        "    print(\"Come take our poll when you have the time!!\")\n",
        "\n",
        "\n"
      ],
      "metadata": {
        "colab": {
          "base_uri": "https://localhost:8080/"
        },
        "id": "4VI7hPCjIaQ5",
        "outputId": "8a51669f-2212-4ab5-8caa-569917d1466c"
      },
      "execution_count": 97,
      "outputs": [
        {
          "output_type": "stream",
          "name": "stdout",
          "text": [
            "\n",
            "Hey Jen.\n",
            "Come take our poll when you have the time!!\n",
            "\n",
            "Hey Sarah.\n",
            "Come take our poll when you have the time!!\n",
            "\n",
            "Hey Edward.\n",
            "\n",
            "Edward, Thank you for taking the poll\n",
            "\n",
            "Hey Phil.\n",
            "\n",
            "Phil, Thank you for taking the poll\n"
          ]
        }
      ]
    },
    {
      "cell_type": "markdown",
      "source": [
        "**Nesting**\n",
        "  storing multiple dictionaries in a list or a list of items as a value in a dictionary\n",
        "\n"
      ],
      "metadata": {
        "id": "d3uZf8WORuzZ"
      }
    },
    {
      "cell_type": "markdown",
      "source": [
        "aliens.py"
      ],
      "metadata": {
        "id": "bKmuMnnlTTfZ"
      }
    },
    {
      "cell_type": "code",
      "source": [
        "# a list of dictionaries\n",
        "\n",
        "alien_0 = {\"color\": \"green\", \"points\": 5}\n",
        "alien_1 = {\"color\": \"yellow\", \"points\": 10}\n",
        "alien_2 = {\"color\": \"red\", \"points\": 15}\n",
        "\n",
        "aliens = [alien_0, alien_1, alien_2]\n",
        "\n",
        "for alien in aliens:\n",
        "  print(alien)"
      ],
      "metadata": {
        "colab": {
          "base_uri": "https://localhost:8080/"
        },
        "id": "zR_kQePUSrJF",
        "outputId": "c012ec67-5b44-42ea-e236-9bb37a317359"
      },
      "execution_count": 86,
      "outputs": [
        {
          "output_type": "stream",
          "name": "stdout",
          "text": [
            "{'color': 'green', 'points': 5}\n",
            "{'color': 'yellow', 'points': 10}\n",
            "{'color': 'red', 'points': 15}\n"
          ]
        }
      ]
    },
    {
      "cell_type": "code",
      "source": [
        "aliens = []\n",
        "\n",
        "for alien_number in range(30):\n",
        "  new_alien = {\"color\": \"green\", \"points\": 5, \"speed\": \"slow\"}\n",
        "  aliens.append(new_alien)\n",
        "\n",
        "for alien in aliens[:5]:\n",
        "  print(alien)\n",
        "print(\"...\")\n",
        "\n",
        "print(f\"Total number of aliens: {len(aliens)}\")"
      ],
      "metadata": {
        "colab": {
          "base_uri": "https://localhost:8080/"
        },
        "id": "Zl4Mv3GJdQPO",
        "outputId": "7f1bc062-4858-46f8-c6dc-5eae4e255982"
      },
      "execution_count": 92,
      "outputs": [
        {
          "output_type": "stream",
          "name": "stdout",
          "text": [
            "{'color': 'green', 'points': 5, 'speed': 'slow'}\n",
            "{'color': 'green', 'points': 5, 'speed': 'slow'}\n",
            "{'color': 'green', 'points': 5, 'speed': 'slow'}\n",
            "{'color': 'green', 'points': 5, 'speed': 'slow'}\n",
            "{'color': 'green', 'points': 5, 'speed': 'slow'}\n",
            "...\n",
            "Total number of aliens: 30\n"
          ]
        }
      ]
    },
    {
      "cell_type": "code",
      "source": [
        "aliens = []\n",
        "\n",
        "for alien_number in range(30):\n",
        "  new_alien = {\"color\": \"green\", \"points\": 5, \"speed\": \"slow\"}\n",
        "  aliens.append(new_alien)\n",
        "\n",
        "for alien in aliens[:3]:\n",
        "  if alien[\"color\"] == \"green\":\n",
        "    alien[\"color\"] = \"yellow\"\n",
        "    alien[\"speed\"] = \"medium\"\n",
        "    alien[\"points\"]= 10\n",
        "\n",
        "for alien in aliens[:5]:\n",
        "  print(alien)\n",
        "print(\"...\")"
      ],
      "metadata": {
        "colab": {
          "base_uri": "https://localhost:8080/"
        },
        "id": "aanQNwoGuvqz",
        "outputId": "af8b0976-0d09-4967-ef88-46248c410a0b"
      },
      "execution_count": 94,
      "outputs": [
        {
          "output_type": "stream",
          "name": "stdout",
          "text": [
            "{'color': 'yellow', 'points': 10, 'speed': 'medium'}\n",
            "{'color': 'yellow', 'points': 10, 'speed': 'medium'}\n",
            "{'color': 'yellow', 'points': 10, 'speed': 'medium'}\n",
            "{'color': 'green', 'points': 5, 'speed': 'slow'}\n",
            "{'color': 'green', 'points': 5, 'speed': 'slow'}\n",
            "...\n"
          ]
        }
      ]
    },
    {
      "cell_type": "markdown",
      "source": [
        "**a list in a dictionary**"
      ],
      "metadata": {
        "id": "fAH1YCOdxXIc"
      }
    },
    {
      "cell_type": "code",
      "source": [
        "#pizza.py\n",
        "\n",
        "#store information about a pizza being ordered\n",
        "pizza = {\n",
        "    \"crust\": \"thick\",\n",
        "    \"toppings\": [\"mushrooms\", \"extra cheese\"],\n",
        "}\n",
        "\n",
        "#summarize the order\n",
        "\n",
        "print(f\"You ordered a {pizza['crust']}-crust pizza \"\n",
        "      \"with the following toppings:\")\n",
        "\n",
        "for topping in pizza[\"toppings\"]:\n",
        "  print(f\"\\t{topping}\")"
      ],
      "metadata": {
        "colab": {
          "base_uri": "https://localhost:8080/"
        },
        "id": "tAlGr8YoxaKx",
        "outputId": "bb252acb-7a59-407e-d0b8-9ee6d8f8eb17"
      },
      "execution_count": 99,
      "outputs": [
        {
          "output_type": "stream",
          "name": "stdout",
          "text": [
            "You ordered a thick-crust pizza with the following toppings:\n",
            "\tmushrooms\n",
            "\textra cheese\n"
          ]
        }
      ]
    },
    {
      "cell_type": "code",
      "source": [
        "#favorite languages\n",
        "\n",
        "favorite_languages = {\n",
        "    \"jen\": [\"python\", \"rust\"],\n",
        "    \"sarah\": [ \"c\"],\n",
        "    \"edward\": [\"rust\", \"go\"],\n",
        "    \"phil\": [\"python\", \"haskell\"],\n",
        "}\n",
        "\n",
        "for name, languages in favorite_languages.items():\n",
        "  print(f\"\\n{name.title()}'s favorite languages are:\")\n",
        "  for language in languages:\n",
        "    print(f\"\\t{language.title()}\")"
      ],
      "metadata": {
        "colab": {
          "base_uri": "https://localhost:8080/"
        },
        "id": "uIqYXoA53xnE",
        "outputId": "5fec10fb-b2d6-4f74-9f41-4a44851a2967"
      },
      "execution_count": 100,
      "outputs": [
        {
          "output_type": "stream",
          "name": "stdout",
          "text": [
            "\n",
            "Jen's favorite languages are:\n",
            "\tPython\n",
            "\tRust\n",
            "\n",
            "Sarah's favorite languages are:\n",
            "\tC\n",
            "\n",
            "Edward's favorite languages are:\n",
            "\tRust\n",
            "\tGo\n",
            "\n",
            "Phil's favorite languages are:\n",
            "\tPython\n",
            "\tHaskell\n"
          ]
        }
      ]
    },
    {
      "cell_type": "markdown",
      "source": [
        "**A Dictionary in a Dictionary**\n"
      ],
      "metadata": {
        "id": "kmP2270Z5t6X"
      }
    },
    {
      "cell_type": "code",
      "source": [],
      "metadata": {
        "id": "xdSsJ-tQ5tG3"
      },
      "execution_count": null,
      "outputs": []
    },
    {
      "cell_type": "markdown",
      "source": [
        "many_users.py"
      ],
      "metadata": {
        "id": "8PaygL346ATq"
      }
    },
    {
      "cell_type": "code",
      "source": [
        "users = {\n",
        "    \"aeinstein\": {\n",
        "        \"first\": \"albert\",\n",
        "        \"last\": \"einstein\",\n",
        "        \"location\": \"princeton\",\n",
        "        },\n",
        "\n",
        "    \"mcurie\": {\n",
        "        \"first\": \"marie\",\n",
        "        \"last\": \"curie\",\n",
        "        \"location\": \"paris\",\n",
        "        },\n",
        "\n",
        "}\n",
        "\n",
        "for username, user_info in users.items():\n",
        "  print(f\"\\nUsername: {username}\")\n",
        "  full_name = f\"{user_info['first']} {user_info['last']}\"\n",
        "  location = user_info[\"location\"]\n",
        "\n",
        "  print(f\"\\tFull name: {full_name.title()}\")\n",
        "  print(f\"\\tLocation: {location.title()}\")"
      ],
      "metadata": {
        "colab": {
          "base_uri": "https://localhost:8080/"
        },
        "id": "QVzQ36w26EiX",
        "outputId": "005f2832-112b-4a8d-b1c0-307cee5ab44a"
      },
      "execution_count": 101,
      "outputs": [
        {
          "output_type": "stream",
          "name": "stdout",
          "text": [
            "\n",
            "Username: aeinstein\n",
            "\tFull name: Albert Einstein\n",
            "\tLocation: Princeton\n",
            "\n",
            "Username: mcurie\n",
            "\tFull name: Marie Curie\n",
            "\tLocation: Paris\n"
          ]
        }
      ]
    },
    {
      "cell_type": "code",
      "source": [
        " #6-7 People\n",
        "\n",
        "friend_0 = {\"first_name\": \"andre\", \"last_name\": \"leon\", \"age\": str(27), \"city\": \"tampa\"}\n",
        "friend_1 = {\"first_name\": \"nick\", \"last_name\": \"cabrera\", \"age\": str(38), \"city\": \"plattsburgh\"}\n",
        "friend_2 = {\"first_name\": \"cyle\", \"last_name\": \"jersey\", \"age\": str(37), \"city\": \"atlanta\"}\n",
        "friend_3 = {\"first_name\": \"sean\", \"last_name\": \"burke\", \"age\": str(31), \"city\": \"peru\"}\n",
        "\n",
        "friends = [friend_0, friend_1, friend_2, friend_3]\n",
        "\n",
        "for key, value in friends[0].items():\n",
        "  print(f\"{key.title()}: \\n\\t\\t{value.title()}\")\n",
        "\n",
        "\n",
        "for key, value in friends[1].items():\n",
        "  print(f\"{key.title()}: \\n\\t\\t{value.title()}\")\n",
        "\n",
        "for key, value in friends[2].items():\n",
        "  print(f\"{key.title()}: \\n\\t\\t{value.title()}\")\n",
        "\n",
        "for key, value in friends[3].items():\n",
        "  print(f\"{key.title()}: \\n\\t\\t{value.title()}\")\n"
      ],
      "metadata": {
        "id": "mWOW_iWX9dwM"
      },
      "execution_count": null,
      "outputs": []
    },
    {
      "cell_type": "code",
      "source": [
        "#6-7 People  found a different way to get access to all the dictionaries in the list using a range loop\n",
        "\n",
        "friend_0 = {\"first_name\": \"andre\", \"last_name\": \"leon\", \"age\": str(27), \"city\": \"tampa\"}\n",
        "friend_1 = {\"first_name\": \"nick\", \"last_name\": \"cabrera\", \"age\": str(38), \"city\": \"plattsburgh\"}\n",
        "friend_2 = {\"first_name\": \"cyle\", \"last_name\": \"jersey\", \"age\": str(37), \"city\": \"atlanta\"}\n",
        "friend_3 = {\"first_name\": \"sean\", \"last_name\": \"burke\", \"age\": str(31), \"city\": \"peru\"}\n",
        "\n",
        "friends = [friend_0, friend_1, friend_2, friend_3]\n",
        "\n",
        "for i in range(4):\n",
        "  for key, value in friends[i].items():\n",
        "    print(f\"{key.title()}: \\n\\t\\t{value.title()}\")\n",
        "\n",
        "\n"
      ],
      "metadata": {
        "id": "IRtom3F1yNsV"
      },
      "execution_count": null,
      "outputs": []
    },
    {
      "cell_type": "code",
      "source": [
        "#6-11 Cities\n",
        "\n",
        "cities = {\n",
        "    \"plattsburgh\": {\n",
        "        \"state\": \"new york\",\n",
        "        \"population\": \"19800\",\n",
        "        \"fact\": \"one of the highest rated towns for depression\",\n",
        "        },\n",
        "\n",
        "    \"Peru\": {\n",
        "        \"state\": \"new york\",\n",
        "        \"population\": \"1840\",\n",
        "        \"fact\": \"hasnt won a state championship on football since 2001\",\n",
        "        },\n",
        "\n",
        "    \"Atlanta\": {\n",
        "        \"state\": \"georgia\",\n",
        "        \"population\": \"499000\",\n",
        "        \"fact\": \"has one of the best cybersecurity programs in the country at gtech\",\n",
        "        },\n",
        "\n",
        "}\n",
        "\n",
        "for city, city_info in cities.items():\n",
        "  print(f\"\\nCity: {city.title()}\")\n",
        "  state = f\"{city_info['state']}\"\n",
        "  population = city_info[\"population\"]\n",
        "  fact = city_info[\"fact\"]\n",
        "\n",
        "  print(f\"\\tState: {state.title()}\")\n",
        "  print(f\"\\tPopulation: {population.title()}\")\n",
        "  print(f\"\\tFact: {fact}\")\n"
      ],
      "metadata": {
        "colab": {
          "base_uri": "https://localhost:8080/"
        },
        "id": "mknH0MX709Ps",
        "outputId": "0fb89bc7-1316-4781-ac3e-81e0336db9c3"
      },
      "execution_count": 95,
      "outputs": [
        {
          "output_type": "stream",
          "name": "stdout",
          "text": [
            "\n",
            "City: Plattsburgh\n",
            "\tState: New York\n",
            "\tPopulation: 19800\n",
            "\tFact: one of the highest rated towns for depression\n",
            "\n",
            "City: Peru\n",
            "\tState: New York\n",
            "\tPopulation: 1840\n",
            "\tFact: hasnt won a state championship on football since 2001\n",
            "\n",
            "City: Atlanta\n",
            "\tState: Georgia\n",
            "\tPopulation: 499000\n",
            "\tFact: has one of the best cybersecurity programs in the country at gtech\n"
          ]
        }
      ]
    },
    {
      "cell_type": "code",
      "source": [
        "# 6-12 refer to 6-7. modified it to make it look clean and professional but was stuck on trying to call all dictionaries in one loop.\n",
        "#i feel like there is redundant code and it could be simplified"
      ],
      "metadata": {
        "id": "Pe81ojri0Bso"
      },
      "execution_count": null,
      "outputs": []
    }
  ]
}