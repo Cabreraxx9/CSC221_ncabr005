{
  "nbformat": 4,
  "nbformat_minor": 0,
  "metadata": {
    "colab": {
      "provenance": [],
      "authorship_tag": "ABX9TyNIhxCFPUAlJ5QZNWJQ4yoI",
      "include_colab_link": true
    },
    "kernelspec": {
      "name": "python3",
      "display_name": "Python 3"
    },
    "language_info": {
      "name": "python"
    }
  },
  "cells": [
    {
      "cell_type": "markdown",
      "metadata": {
        "id": "view-in-github",
        "colab_type": "text"
      },
      "source": [
        "<a href=\"https://colab.research.google.com/github/Cabreraxx9/CSC221_ncabr005/blob/main/Assignment16.ipynb\" target=\"_parent\"><img src=\"https://colab.research.google.com/assets/colab-badge.svg\" alt=\"Open In Colab\"/></a>"
      ]
    },
    {
      "cell_type": "markdown",
      "source": [
        "**Assignment 16**\n",
        "\n",
        "**Nicholas Cabrera**\n",
        "\n",
        "**CSC 221A**"
      ],
      "metadata": {
        "id": "s0F4TVcCQ8J4"
      }
    },
    {
      "cell_type": "markdown",
      "source": [
        "# **1.1 Running Python**"
      ],
      "metadata": {
        "id": "fNV8Wch9TRoO"
      }
    },
    {
      "cell_type": "code",
      "execution_count": null,
      "metadata": {
        "colab": {
          "base_uri": "https://localhost:8080/"
        },
        "id": "YSodPh9ZQM0J",
        "outputId": "0d8acf39-6ea7-4373-bf99-fdf5923cb831"
      },
      "outputs": [
        {
          "output_type": "stream",
          "name": "stdout",
          "text": [
            "hello world\n"
          ]
        }
      ],
      "source": [
        "# Typing \"Python\" from a command terminal will launch python\n",
        "#and the interpreter will start where you can type into REPL\n",
        "\n",
        "#Certian environments may display a different prompt\n",
        "#regardless of what you see, type a command and it runs in which you see the output\n",
        "#this is pythons interactive mode\n",
        "\n",
        "print(\"hello world\")"
      ]
    },
    {
      "cell_type": "code",
      "source": [],
      "metadata": {
        "id": "VQde2kY_pGKz"
      },
      "execution_count": null,
      "outputs": []
    },
    {
      "cell_type": "code",
      "source": [
        "6000 + 4523.50 + 134.25"
      ],
      "metadata": {
        "colab": {
          "base_uri": "https://localhost:8080/"
        },
        "id": "GNxZBTUTT_zP",
        "outputId": "de9a7481-b6d1-4376-ee45-a4ca45337796"
      },
      "execution_count": 1,
      "outputs": [
        {
          "output_type": "execute_result",
          "data": {
            "text/plain": [
              "10657.75"
            ]
          },
          "metadata": {},
          "execution_count": 1
        }
      ]
    },
    {
      "cell_type": "code",
      "source": [
        "#The variable \"_\" holds the result of the last operation.\n",
        "_ + 8192.75"
      ],
      "metadata": {
        "colab": {
          "base_uri": "https://localhost:8080/"
        },
        "id": "Qs0nUAjloPBW",
        "outputId": "269782e8-413f-4ca3-d8fc-a47e7abd71e4"
      },
      "execution_count": 2,
      "outputs": [
        {
          "output_type": "execute_result",
          "data": {
            "text/plain": [
              "18850.5"
            ]
          },
          "metadata": {},
          "execution_count": 2
        }
      ]
    },
    {
      "cell_type": "markdown",
      "source": [
        "# **1.2 Python Programs**"
      ],
      "metadata": {
        "id": "ThtTfYU0pI2p"
      }
    },
    {
      "cell_type": "code",
      "source": [
        "#1.2 Put programs in a text file to have them ran repeatedly, like:\n",
        "\n",
        "#hello.py <--- this is the name of textfile\n",
        "#print(\"Hello World\")  <--- this is the statement in the file\n",
        "\n",
        "#to execute this file, provide the filename to the interpreter, like:\n",
        "\n",
        "shell % python3 hello.py\n",
        "Hello World\n",
        "shell %\n",
        "\n",
        "#using #! specifys the interpreter on the first line, like:\n",
        "\n",
        "#!/usr/bin/env python3\n",
        "print(\"Hello World\")"
      ],
      "metadata": {
        "id": "-A0Gnu-XXdTA"
      },
      "execution_count": null,
      "outputs": []
    },
    {
      "cell_type": "markdown",
      "source": [
        "# **1.3 Primitives, Variables, and Expressions**"
      ],
      "metadata": {
        "id": "rzNjiSA2sqAW"
      }
    },
    {
      "cell_type": "code",
      "source": [
        "42 #this is an int\n",
        "4.2 #this is a float\n",
        "\"forty-two\" #this is a string\n",
        "True #this is a boolean\n",
        "\n",
        "#A variable is a name that refers to a value. A value represents an object of some type\n",
        "# x is the variable and 42 is the value\n",
        "\n",
        "x = 42\n",
        "\n",
        "#you can see an object type explicitly attached to a name like:\n",
        "x: int = 42   #<-- new way to show a hint on an object as a certian type\n",
        "x = int(\"nick\")   #<-- turning an object into a a certian type\n",
        "\n",
        "#an expression is a combination of primitives, names, and operator that produce a value such as:\n",
        "2 + 3 * 4\n"
      ],
      "metadata": {
        "colab": {
          "base_uri": "https://localhost:8080/"
        },
        "id": "NiwZfFIPsy-j",
        "outputId": "56d1b5ff-2a9f-4057-bd12-e81cf59f9d52"
      },
      "execution_count": 5,
      "outputs": [
        {
          "output_type": "execute_result",
          "data": {
            "text/plain": [
              "14"
            ]
          },
          "metadata": {},
          "execution_count": 5
        }
      ]
    },
    {
      "cell_type": "code",
      "source": [
        "#The following program uses variables and expressions to perform a compound_interest calculaton:\n",
        "\n",
        "principal = 1000\n",
        "rate = 0.05\n",
        "numyears = 5\n",
        "year = 1\n",
        "\n",
        "while year <= numyears:\n",
        "  principal = principal * (1 + rate)\n",
        "  print(year, principal)\n",
        "  year += 1"
      ],
      "metadata": {
        "colab": {
          "base_uri": "https://localhost:8080/"
        },
        "id": "Wc6yBbyww0ud",
        "outputId": "5d282a3f-d325-4be2-fd84-2c49f1952e5c"
      },
      "execution_count": 12,
      "outputs": [
        {
          "output_type": "stream",
          "name": "stdout",
          "text": [
            "1 1050.0\n",
            "2 1102.5\n",
            "3 1157.625\n",
            "4 1215.5062500000001\n",
            "5 1276.2815625000003\n"
          ]
        }
      ]
    },
    {
      "cell_type": "code",
      "source": [
        "#Same program above but with a prettier print statment\n",
        "\n",
        "# >3d is three digit decimal number right aligned\n",
        "# 0.2f means a floating point number with two decimal places of accuracy\n",
        "\n",
        "principal = 1000\n",
        "rate = 0.05\n",
        "numyears = 5\n",
        "year = 1\n",
        "\n",
        "while year <= numyears:\n",
        "  principal = principal * (1 + rate)\n",
        "  print(f\"{year:>3d} {principal:0.2f}\")\n",
        "  year += 1"
      ],
      "metadata": {
        "colab": {
          "base_uri": "https://localhost:8080/"
        },
        "id": "cCc-oYoSzqZ9",
        "outputId": "449bc6a2-64c3-4c5c-98ea-4928b4bd1546"
      },
      "execution_count": 13,
      "outputs": [
        {
          "output_type": "stream",
          "name": "stdout",
          "text": [
            "  1 1050.00\n",
            "  2 1102.50\n",
            "  3 1157.62\n",
            "  4 1215.51\n",
            "  5 1276.28\n"
          ]
        }
      ]
    },
    {
      "cell_type": "markdown",
      "source": [
        "# **1.4 Arithmetic Operators**"
      ],
      "metadata": {
        "id": "6PNMZ1BT2Qu9"
      }
    },
    {
      "cell_type": "markdown",
      "source": [
        "Arithmetic Operators"
      ],
      "metadata": {
        "id": "DeOqEu1ToZMY"
      }
    },
    {
      "cell_type": "code",
      "source": [
        "7 + 4 #addition"
      ],
      "metadata": {
        "colab": {
          "base_uri": "https://localhost:8080/"
        },
        "id": "SliKqzljlT_A",
        "outputId": "e24b9cb4-5a87-4be4-8cba-398ce160fdd7"
      },
      "execution_count": 3,
      "outputs": [
        {
          "output_type": "execute_result",
          "data": {
            "text/plain": [
              "12"
            ]
          },
          "metadata": {},
          "execution_count": 3
        }
      ]
    },
    {
      "cell_type": "code",
      "source": [
        "7 - 4 #subtraction"
      ],
      "metadata": {
        "colab": {
          "base_uri": "https://localhost:8080/"
        },
        "id": "I7RjaHJ04jUD",
        "outputId": "5de0c6f1-203e-41b1-e40b-31051a9acf58"
      },
      "execution_count": 16,
      "outputs": [
        {
          "output_type": "execute_result",
          "data": {
            "text/plain": [
              "3"
            ]
          },
          "metadata": {},
          "execution_count": 16
        }
      ]
    },
    {
      "cell_type": "code",
      "source": [
        "7 * 4 #multiplication"
      ],
      "metadata": {
        "id": "o3jEhFYT4kFg"
      },
      "execution_count": null,
      "outputs": []
    },
    {
      "cell_type": "code",
      "source": [
        "7 / 4 #This produces a floating point number which is a decimal"
      ],
      "metadata": {
        "colab": {
          "base_uri": "https://localhost:8080/"
        },
        "id": "meY1HGiC4mSa",
        "outputId": "f45d57a1-52dc-4d84-c89b-bfae6f3d5043"
      },
      "execution_count": 13,
      "outputs": [
        {
          "output_type": "execute_result",
          "data": {
            "text/plain": [
              "1.75"
            ]
          },
          "metadata": {},
          "execution_count": 13
        }
      ]
    },
    {
      "cell_type": "code",
      "source": [
        "7 // 4 # truncates the result into a whole integer"
      ],
      "metadata": {
        "colab": {
          "base_uri": "https://localhost:8080/"
        },
        "id": "5371HCtc4qVP",
        "outputId": "de4e81d5-1db4-4708-f0e8-b02c215f36c6"
      },
      "execution_count": 14,
      "outputs": [
        {
          "output_type": "execute_result",
          "data": {
            "text/plain": [
              "1"
            ]
          },
          "metadata": {},
          "execution_count": 14
        }
      ]
    },
    {
      "cell_type": "code",
      "source": [
        "7 ** 4 # to the power of"
      ],
      "metadata": {
        "colab": {
          "base_uri": "https://localhost:8080/"
        },
        "id": "FT0EWNqM4ry3",
        "outputId": "913d264e-9417-4a6d-e7b7-d108f71f425b"
      },
      "execution_count": 1,
      "outputs": [
        {
          "output_type": "execute_result",
          "data": {
            "text/plain": [
              "46656"
            ]
          },
          "metadata": {},
          "execution_count": 1
        }
      ]
    },
    {
      "cell_type": "code",
      "source": [
        "7 % 4 #the modelo which returns the remainder of this division 7/4"
      ],
      "metadata": {
        "colab": {
          "base_uri": "https://localhost:8080/"
        },
        "id": "44u7o9Ya4v4x",
        "outputId": "58e8d990-48ab-4e2c-dd02-39932da295f6"
      },
      "execution_count": 15,
      "outputs": [
        {
          "output_type": "execute_result",
          "data": {
            "text/plain": [
              "3"
            ]
          },
          "metadata": {},
          "execution_count": 15
        }
      ]
    },
    {
      "cell_type": "code",
      "source": [
        "-6"
      ],
      "metadata": {
        "colab": {
          "base_uri": "https://localhost:8080/"
        },
        "id": "u4MudHmo4xUb",
        "outputId": "9bc794d1-32f9-463e-caf6-3a168fac5dab"
      },
      "execution_count": 20,
      "outputs": [
        {
          "output_type": "execute_result",
          "data": {
            "text/plain": [
              "-6"
            ]
          },
          "metadata": {},
          "execution_count": 20
        }
      ]
    },
    {
      "cell_type": "code",
      "source": [
        "+6"
      ],
      "metadata": {
        "id": "OwPt_mIF4xyr"
      },
      "execution_count": null,
      "outputs": []
    },
    {
      "cell_type": "code",
      "source": [
        "abs(-9)"
      ],
      "metadata": {
        "colab": {
          "base_uri": "https://localhost:8080/"
        },
        "id": "whqzUkuL5fbF",
        "outputId": "dd762676-8f3e-41ee-adc0-d5d92c84a485"
      },
      "execution_count": 23,
      "outputs": [
        {
          "output_type": "execute_result",
          "data": {
            "text/plain": [
              "9"
            ]
          },
          "metadata": {},
          "execution_count": 23
        }
      ]
    },
    {
      "cell_type": "markdown",
      "source": [
        "Common Mathematical functions"
      ],
      "metadata": {
        "id": "FvSgIiQ2oMX-"
      }
    },
    {
      "cell_type": "code",
      "source": [
        "abs(-9) #absolute value"
      ],
      "metadata": {
        "id": "j07Adn_WoWOE"
      },
      "execution_count": null,
      "outputs": []
    },
    {
      "cell_type": "code",
      "source": [
        "divmod(5,3) #this returns 5 / / 3, 5 % 3)"
      ],
      "metadata": {
        "colab": {
          "base_uri": "https://localhost:8080/"
        },
        "id": "og1bsEBOokEq",
        "outputId": "31b0adee-3cce-451a-abcf-bf1dd43e38e1"
      },
      "execution_count": 17,
      "outputs": [
        {
          "output_type": "execute_result",
          "data": {
            "text/plain": [
              "(1, 2)"
            ]
          },
          "metadata": {},
          "execution_count": 17
        }
      ]
    },
    {
      "cell_type": "code",
      "source": [
        "pow(6,2)"
      ],
      "metadata": {
        "colab": {
          "base_uri": "https://localhost:8080/"
        },
        "id": "Lk42u0pfo39z",
        "outputId": "3c15fb5a-bcba-426e-ad7c-b22bff580720"
      },
      "execution_count": 27,
      "outputs": [
        {
          "output_type": "execute_result",
          "data": {
            "text/plain": [
              "36"
            ]
          },
          "metadata": {},
          "execution_count": 27
        }
      ]
    },
    {
      "cell_type": "code",
      "source": [
        "round(0.5)"
      ],
      "metadata": {
        "colab": {
          "base_uri": "https://localhost:8080/"
        },
        "id": "4lYqAqpHp2TD",
        "outputId": "c38e784f-d5fd-4ddc-9207-f268c0dca520"
      },
      "execution_count": 25,
      "outputs": [
        {
          "output_type": "execute_result",
          "data": {
            "text/plain": [
              "0"
            ]
          },
          "metadata": {},
          "execution_count": 25
        }
      ]
    },
    {
      "cell_type": "markdown",
      "source": [
        "Bit Manipulation Operators"
      ],
      "metadata": {
        "id": "7GEBdSADra81"
      }
    },
    {
      "cell_type": "code",
      "source": [
        "a=0b1100\n",
        "mask= 0b11110000\n",
        "x = (a & mask) >> 4"
      ],
      "metadata": {
        "id": "EUfqIucwrfPq"
      },
      "execution_count": 35,
      "outputs": []
    },
    {
      "cell_type": "markdown",
      "source": [
        "comparison Operators"
      ],
      "metadata": {
        "id": "sLwfPjvIuBvH"
      }
    },
    {
      "cell_type": "code",
      "source": [
        "x == y  #equal too\n",
        "x !=    #not equal to\n",
        "x < y   #Less than\n",
        "x > y   #Greater than\n",
        "x >=    #Greater than or equal to\n",
        "x<= y   #Less than or equal to"
      ],
      "metadata": {
        "id": "eAuopQ8LuBLJ"
      },
      "execution_count": null,
      "outputs": []
    },
    {
      "cell_type": "markdown",
      "source": [
        "Logical Operators"
      ],
      "metadata": {
        "id": "pfKFjwtnu77z"
      }
    },
    {
      "cell_type": "code",
      "source": [
        "or #if x is false, return y;otherwise, return x\n",
        "and#if x is false, return x;otherwise, return y\n",
        "not#if x is false, return True;otherwise, return False"
      ],
      "metadata": {
        "id": "EKTDKc_bvKS5"
      },
      "execution_count": null,
      "outputs": []
    },
    {
      "cell_type": "code",
      "source": [
        "count = count + 1\n",
        "\n",
        "#or you can do a simplified version like\n",
        "\n",
        "count += 1"
      ],
      "metadata": {
        "id": "JYtCkhWjwHfC"
      },
      "execution_count": null,
      "outputs": []
    },
    {
      "cell_type": "markdown",
      "source": [
        "# **1.5 Conditionals and Control Flow**"
      ],
      "metadata": {
        "id": "lKSH0aETwZgs"
      }
    },
    {
      "cell_type": "markdown",
      "source": [
        "The **while**, **if** and **else** statements are used for looping and conditional code execution."
      ],
      "metadata": {
        "id": "pNWcFQu6hrZP"
      }
    },
    {
      "cell_type": "code",
      "source": [
        "if 2 < 1:\n",
        "  print(\"computer says Yes\")\n",
        "else:\n",
        "  print(\"computer says No\")"
      ],
      "metadata": {
        "colab": {
          "base_uri": "https://localhost:8080/"
        },
        "id": "0RTd9SCDwfcF",
        "outputId": "cccf1a73-a4fe-4a58-81c8-d929ef4086c5"
      },
      "execution_count": 1,
      "outputs": [
        {
          "output_type": "stream",
          "name": "stdout",
          "text": [
            "computer says No\n"
          ]
        }
      ]
    },
    {
      "cell_type": "markdown",
      "source": [
        "bodies of the IF and ELSE clauses are denoted by indentation. The ElSE clause is optional. to create an empty clause use the PASS statement:"
      ],
      "metadata": {
        "id": "d0PwMTEu7BOx"
      }
    },
    {
      "cell_type": "code",
      "source": [
        "if 2 > 1:\n",
        "  pass\n",
        "else:\n",
        "  print(\"computer says no\")"
      ],
      "metadata": {
        "id": "kbC2uBxTCeBf"
      },
      "execution_count": 7,
      "outputs": []
    },
    {
      "cell_type": "markdown",
      "source": [
        "To handle multiple-test cases, use the elif statement:"
      ],
      "metadata": {
        "id": "EVwVU3ncE7Ub"
      }
    },
    {
      "cell_type": "code",
      "source": [
        "suffix = \".png\"\n",
        "if suffix == \".htm\":\n",
        "   print(\"text/html\")\n",
        "elif suffix == \".jpg\":\n",
        "  print(\"image/jpeg\")\n",
        "elif suffix == \".png\":\n",
        "  print (\"image/png\")\n",
        "else:\n",
        "  print(\"this prints if no ifs or elifs meet the condition\")"
      ],
      "metadata": {
        "colab": {
          "base_uri": "https://localhost:8080/"
        },
        "id": "PwaX5E-IEnBC",
        "outputId": "15c891ed-90e9-4a56-b747-6bd6c519923f"
      },
      "execution_count": 10,
      "outputs": [
        {
          "output_type": "stream",
          "name": "stdout",
          "text": [
            "image/png\n"
          ]
        }
      ]
    },
    {
      "cell_type": "markdown",
      "source": [
        "assigning a value in a combination with a test, use a conditional expression:"
      ],
      "metadata": {
        "id": "eyyWJZm_Jhuo"
      }
    },
    {
      "cell_type": "code",
      "source": [
        "maxval = 2 if 2 > 3 else 3\n",
        "\n",
        "#this is the longer version of the line above:\n",
        "\n",
        "if 2 > 3:\n",
        "  maxval = 2\n",
        "else:\n",
        "  maxval = 3"
      ],
      "metadata": {
        "id": "qQFPn3psJe7V"
      },
      "execution_count": 12,
      "outputs": []
    },
    {
      "cell_type": "markdown",
      "source": [
        "the assignment of a variable and a conditional combined together using the walrus operator which is :+"
      ],
      "metadata": {
        "id": "6azyDR8rIrg1"
      }
    },
    {
      "cell_type": "code",
      "source": [
        "x = 0\n",
        "#The parantheses used to surround assignment expression are always required\n",
        "while (x := x + 1) < 10:\n",
        "  print(x)"
      ],
      "metadata": {
        "colab": {
          "base_uri": "https://localhost:8080/"
        },
        "id": "dRBG8ZdEHqI6",
        "outputId": "e734e251-865c-4ea9-da62-0cf69aa4da9c"
      },
      "execution_count": 11,
      "outputs": [
        {
          "output_type": "stream",
          "name": "stdout",
          "text": [
            "1\n",
            "2\n",
            "3\n",
            "4\n",
            "5\n",
            "6\n",
            "7\n",
            "8\n",
            "9\n"
          ]
        }
      ]
    },
    {
      "cell_type": "markdown",
      "source": [
        "The ***break*** statement can be used to abort a loop early:"
      ],
      "metadata": {
        "id": "gX1ifwx9KhpL"
      }
    },
    {
      "cell_type": "code",
      "source": [
        "x = 0\n",
        "\n",
        "while x < 10:\n",
        "  if x == 5:\n",
        "    break     #this line stops the loop then moves to Done below\n",
        "  print(x)\n",
        "  x += 1\n",
        "\n",
        "print(\"Done\")\n"
      ],
      "metadata": {
        "colab": {
          "base_uri": "https://localhost:8080/"
        },
        "id": "Ik_kQAi0Lcni",
        "outputId": "ad63f7e6-5135-4b36-d0e4-10ed53146c3b"
      },
      "execution_count": 13,
      "outputs": [
        {
          "output_type": "stream",
          "name": "stdout",
          "text": [
            "0\n",
            "1\n",
            "2\n",
            "3\n",
            "4\n",
            "Done\n"
          ]
        }
      ]
    },
    {
      "cell_type": "markdown",
      "source": [
        "The ***continue*** statement skips the rest of the loop body and goes back to the top of the loop:"
      ],
      "metadata": {
        "id": "KKU0CJ30MRmU"
      }
    },
    {
      "cell_type": "code",
      "source": [
        "x = 0\n",
        "while x < 10:\n",
        "  x = x + 1\n",
        "  if x == 5:\n",
        "    continue      # this line skips the print(x) then goes back to the loop start.\n",
        "  print(x)\n",
        "\n",
        "print(\"Done\")"
      ],
      "metadata": {
        "colab": {
          "base_uri": "https://localhost:8080/"
        },
        "id": "S3lD7GR8Mb1g",
        "outputId": "aecbe545-aafe-4566-e232-1c7e787e73a0"
      },
      "execution_count": 14,
      "outputs": [
        {
          "output_type": "stream",
          "name": "stdout",
          "text": [
            "1\n",
            "2\n",
            "3\n",
            "4\n",
            "6\n",
            "7\n",
            "8\n",
            "9\n",
            "10\n",
            "Done\n"
          ]
        }
      ]
    },
    {
      "cell_type": "markdown",
      "source": [
        "#**1.6 Text Strings**"
      ],
      "metadata": {
        "id": "efWY0pQuNNtC"
      }
    },
    {
      "cell_type": "markdown",
      "source": [
        "To define a string literal, enclose it in single, double, or triple quotes as follows:"
      ],
      "metadata": {
        "id": "tBTSxO0UOOwW"
      }
    },
    {
      "cell_type": "code",
      "source": [
        "#make sure to use the same type of quote you started with to terminate it\n",
        "\n",
        "a = 'Hello World'\n",
        "b = \"Python is groovy\"    # i prefer this way\n",
        "c = '''Computer says no'''\n",
        "d = \"\"\"Computer still says no\"\"\"  #this one ive used inside a function to describe it\n"
      ],
      "metadata": {
        "id": "ub-OL342NSJr"
      },
      "execution_count": null,
      "outputs": []
    },
    {
      "cell_type": "code",
      "source": [
        "# ''' these are useful if you have alot of text in a print statement '''\n",
        "\n",
        "print(''' dnnfdfndsfnsdfnsdnfsdnfsdnfsdnfsdknfsd\n",
        "\n",
        "fdsfndsfnsdfnsdfnsdnfsjdfnd\n",
        "jfndkjfndskfndskfnsd''')\n",
        "\n"
      ],
      "metadata": {
        "colab": {
          "base_uri": "https://localhost:8080/"
        },
        "id": "RwQ0q84mPbKi",
        "outputId": "bf4ecb64-a144-4a2b-d4c2-b587740245b4"
      },
      "execution_count": 19,
      "outputs": [
        {
          "output_type": "stream",
          "name": "stdout",
          "text": [
            " dnnfdfndsfnsdfnsdnfsdnfsdnfsdnfsdknfsd\n",
            "\n",
            "fdsfndsfnsdfnsdfnsdnfsjdfnd\n",
            "jfndkjfndskfndskfnsd\n"
          ]
        }
      ]
    },
    {
      "cell_type": "code",
      "source": [
        "# immediate adjacent string literals are concatendated into a single string.\n",
        "#THis is another version of the cell above example\n",
        "\n",
        "print(\n",
        "'fdfsd\\n'\n",
        "'\\n'\n",
        "'fdfdfdfdsf\\n'\n",
        "'dfdfdfdfdfdfds\\n')"
      ],
      "metadata": {
        "id": "n74SI8-rbmtX"
      },
      "execution_count": null,
      "outputs": []
    },
    {
      "cell_type": "code",
      "source": [
        "# If openining quotation marks of a string is prefaced be an f,\n",
        "#escaped expressions within a string are evaluated\n",
        "\n",
        "print(f\"{example} {example}\")"
      ],
      "metadata": {
        "id": "Z7aPfiUjc67Z"
      },
      "execution_count": null,
      "outputs": []
    },
    {
      "cell_type": "code",
      "source": [
        "a = \"Hello World \"\n",
        "\n",
        "#this prints the length of any string\n",
        "print(len(a))\n",
        "#this prints the 4th index slot start from the beginning 0\n",
        "print(a[4])\n",
        "#this prints the last character in the string\n",
        "print(a[-1])\n",
        "\n",
        "\n",
        "\n",
        "# to extract a substring you can use the slicing operator\n",
        "#if either index is omittted it will, the beginning or end of the string is assumed\n",
        "print(a[:5])\n",
        "print(a[6:])\n",
        "print(a[3:8])\n",
        "print(a[-5:])\n",
        "\n",
        "\n",
        "\n",
        "#common string methods that are used to manipulate their contents\n",
        "#a=\"hello world\" was used for an example\n",
        "g = a.replace(\"Hello\",\"Hello Cruel\")\n",
        "print(g)\n",
        "\n",
        "g = a.endswith(\"world\")\n",
        "print(g)\n",
        "\n",
        "g = a.find(\"Hello\")\n",
        "print(g)\n",
        "\n",
        "g = a.lower()\n",
        "print(g)\n",
        "\n",
        "g = a.replace(\"Hello\",\"Hello Cruel\")\n",
        "print(g)\n",
        "\n",
        "g = a.split()\n",
        "print(g)\n",
        "\n",
        "g = a.startswith(\"Hello\")\n",
        "print(g)\n",
        "\n",
        "g = a.strip()\n",
        "print(g)\n",
        "\n",
        "g = a.upper()\n",
        "print(g)\n",
        "\n"
      ],
      "metadata": {
        "colab": {
          "base_uri": "https://localhost:8080/"
        },
        "id": "ewk-D-K3dorE",
        "outputId": "3180dd9a-e4ed-4a00-bfa5-fb4042af3d46"
      },
      "execution_count": 50,
      "outputs": [
        {
          "output_type": "stream",
          "name": "stdout",
          "text": [
            "12\n",
            "o\n",
            " \n",
            "Hello\n",
            "World \n",
            "lo Wo\n",
            "orld \n",
            "Hello Cruel World \n",
            "False\n",
            "0\n",
            "hello world \n",
            "Hello Cruel World \n",
            "['Hello', 'World']\n",
            "True\n",
            "Hello World\n",
            "HELLO WORLD \n",
            "Hello World ly\n"
          ]
        }
      ]
    },
    {
      "cell_type": "code",
      "source": [
        "#strings are concatenated with the plus (+) operator:\n",
        "a= \"Hello World\"\n",
        "\n",
        "g = a + \"ly\"\n",
        "print(g)"
      ],
      "metadata": {
        "colab": {
          "base_uri": "https://localhost:8080/"
        },
        "id": "t-OvUNYffDEK",
        "outputId": "4842d246-c711-436d-f5e9-75b089540864"
      },
      "execution_count": 51,
      "outputs": [
        {
          "output_type": "stream",
          "name": "stdout",
          "text": [
            "Hello Worldly\n"
          ]
        }
      ]
    },
    {
      "cell_type": "code",
      "source": [
        "#python never interprets the contents of a string as numerical data\n",
        "\n",
        "x = \"37\"\n",
        "y = \"42\"\n",
        "z= x + y\n",
        "print(z)\n",
        "\n",
        "\n",
        "#this adds them when you convert the string into a numerical data using a function as int()\n",
        "z = int(x) + int(y)\n",
        "print(z)\n",
        "\n",
        "s = \"The value of x is \" + str(x)\n",
        "print(s)\n",
        "\n",
        "s = \"The value of x is \" + repr(x)\n",
        "print(s)\n",
        "\n",
        "s = \"The value of x is \" + format(x, '4d')\n",
        "print(s)\n",
        "\n"
      ],
      "metadata": {
        "colab": {
          "base_uri": "https://localhost:8080/",
          "height": 328
        },
        "id": "ew3UG9MgyFhP",
        "outputId": "c8f6a752-1856-4302-a90a-61a69ceaf995"
      },
      "execution_count": 70,
      "outputs": [
        {
          "output_type": "stream",
          "name": "stdout",
          "text": [
            "3742\n",
            "79\n",
            "The value of x is 37\n",
            "The value of x is '37'\n"
          ]
        },
        {
          "output_type": "error",
          "ename": "ValueError",
          "evalue": "ignored",
          "traceback": [
            "\u001b[0;31m---------------------------------------------------------------------------\u001b[0m",
            "\u001b[0;31mValueError\u001b[0m                                Traceback (most recent call last)",
            "\u001b[0;32m<ipython-input-70-275bb3532728>\u001b[0m in \u001b[0;36m<cell line: 19>\u001b[0;34m()\u001b[0m\n\u001b[1;32m     17\u001b[0m \u001b[0mprint\u001b[0m\u001b[0;34m(\u001b[0m\u001b[0ms\u001b[0m\u001b[0;34m)\u001b[0m\u001b[0;34m\u001b[0m\u001b[0;34m\u001b[0m\u001b[0m\n\u001b[1;32m     18\u001b[0m \u001b[0;34m\u001b[0m\u001b[0m\n\u001b[0;32m---> 19\u001b[0;31m \u001b[0ms\u001b[0m \u001b[0;34m=\u001b[0m \u001b[0;34m\"The value of x is \"\u001b[0m \u001b[0;34m+\u001b[0m \u001b[0mformat\u001b[0m\u001b[0;34m(\u001b[0m\u001b[0mx\u001b[0m\u001b[0;34m,\u001b[0m \u001b[0;34m'4d'\u001b[0m\u001b[0;34m)\u001b[0m\u001b[0;34m\u001b[0m\u001b[0;34m\u001b[0m\u001b[0m\n\u001b[0m\u001b[1;32m     20\u001b[0m \u001b[0mprint\u001b[0m\u001b[0;34m(\u001b[0m\u001b[0ms\u001b[0m\u001b[0;34m)\u001b[0m\u001b[0;34m\u001b[0m\u001b[0;34m\u001b[0m\u001b[0m\n\u001b[1;32m     21\u001b[0m \u001b[0;34m\u001b[0m\u001b[0m\n",
            "\u001b[0;31mValueError\u001b[0m: Unknown format code 'd' for object of type 'str'"
          ]
        }
      ]
    },
    {
      "cell_type": "code",
      "source": [
        "s = \"hello\\nworld\"\n",
        "print(str(s))\n",
        "\n",
        "print(repr(s))"
      ],
      "metadata": {
        "colab": {
          "base_uri": "https://localhost:8080/"
        },
        "id": "-q-ewZVX2uRD",
        "outputId": "c4afccaf-fdba-4d07-c7f5-b05842f440cc"
      },
      "execution_count": 64,
      "outputs": [
        {
          "output_type": "stream",
          "name": "stdout",
          "text": [
            "hello\n",
            "world\n",
            "'hello\\nworld'\n"
          ]
        }
      ]
    },
    {
      "cell_type": "code",
      "source": [
        "x = 12.34567\n",
        "format(x, '0.2f')"
      ],
      "metadata": {
        "colab": {
          "base_uri": "https://localhost:8080/",
          "height": 36
        },
        "id": "VdSqAzbj4MVF",
        "outputId": "ed24dc25-f0b8-4dc1-a96a-2096af651611"
      },
      "execution_count": 75,
      "outputs": [
        {
          "output_type": "execute_result",
          "data": {
            "text/plain": [
              "'12.35'"
            ],
            "application/vnd.google.colaboratory.intrinsic+json": {
              "type": "string"
            }
          },
          "metadata": {},
          "execution_count": 75
        }
      ]
    },
    {
      "cell_type": "code",
      "source": [
        "f\"{x:0.2f}\""
      ],
      "metadata": {
        "colab": {
          "base_uri": "https://localhost:8080/",
          "height": 36
        },
        "id": "wkIjYJF5769R",
        "outputId": "698110a1-07e8-41c8-eb01-fa4fe3caac3f"
      },
      "execution_count": 73,
      "outputs": [
        {
          "output_type": "execute_result",
          "data": {
            "text/plain": [
              "'12.35'"
            ],
            "application/vnd.google.colaboratory.intrinsic+json": {
              "type": "string"
            }
          },
          "metadata": {},
          "execution_count": 73
        }
      ]
    },
    {
      "cell_type": "markdown",
      "source": [
        "# **1.7 File Input and Output**"
      ],
      "metadata": {
        "id": "JZNbK-i885ga"
      }
    },
    {
      "cell_type": "code",
      "source": [
        "#The following program opens a file and reads its contents line by line as text strings:\n",
        "\n",
        "#The open() function returns a new file object. The with statement that precedes it declares a block\n",
        "#of statements (or context) where the file (file) is going to be used. Once control leaves this block,\n",
        "#the file is automatically closed.\n",
        "\n",
        "with open(\"data.text\") as file\n",
        "  for line in file:\n",
        "    print(line, end=\" \")"
      ],
      "metadata": {
        "id": "y53v2flF9B25"
      },
      "execution_count": null,
      "outputs": []
    },
    {
      "cell_type": "code",
      "source": [
        "# If you dont use the with statement, the code would look like this:\n",
        "\n",
        "file = open(\"data.text\")\n",
        "for line in file:\n",
        "  print(line, end=\" \") # end=\"\" omits the extra newline\n",
        "file.close() #its easy to forget this line so its better to use the with statement above where it closes automatically"
      ],
      "metadata": {
        "id": "eZObF4Cp-tAv"
      },
      "execution_count": null,
      "outputs": []
    },
    {
      "cell_type": "code",
      "source": [
        "#reading a file in its entirety as a string, use the read() method like this:\n",
        "\n",
        "with open(\"data.text\") as file:\n",
        "  data = file.read()"
      ],
      "metadata": {
        "id": "b37xc_EmEX6u"
      },
      "execution_count": null,
      "outputs": []
    },
    {
      "cell_type": "code",
      "source": [
        "#if you want to read a large file in chunks, give a size hint to the read() method as follows:\n",
        "#The := operator used in this example assaigns to a variable and returns its value so that it can be tested by the while loop to break out.\n",
        "#when the end of a file is reached, read() returns an empty string.\n",
        "\n",
        "with open(\"data.text\") as file:\n",
        "  while (chunk := file.read(10000)):\n",
        "    print(chunk, end=\"\")"
      ],
      "metadata": {
        "id": "hhr3bGzRFbU4"
      },
      "execution_count": null,
      "outputs": []
    },
    {
      "cell_type": "code",
      "source": [
        "#another way to write the above function using break\n",
        "\n",
        "with open(\"data.text\") as file:\n",
        "  while True:\n",
        "    chunk = file.read(10000)\n",
        "    if not chunk:\n",
        "      break\n",
        "    print(chunk, end=\"\")"
      ],
      "metadata": {
        "id": "w8UwSswXGfcD"
      },
      "execution_count": null,
      "outputs": []
    },
    {
      "cell_type": "code",
      "source": [
        "#making the output of a program go to a file, supply a file argument to the print() function\n",
        "\n",
        "with open(\"out.text\", \"wt\") as out:\n",
        "  while year <= numyears:\n",
        "    principal = principal * (1 + rate)\n",
        "    print(f\"{year:>3d} {principal:0.2f}\", file=out)\n",
        "    year += 1"
      ],
      "metadata": {
        "id": "CU3X5Hf7HeJZ"
      },
      "execution_count": null,
      "outputs": []
    },
    {
      "cell_type": "code",
      "source": [
        "#reading data typed interactively in the console by using the input() function\n",
        "\n",
        "name = input(\"Enter your name: \")\n",
        "print(\"Hello\", name)"
      ],
      "metadata": {
        "colab": {
          "base_uri": "https://localhost:8080/"
        },
        "id": "jH4RelFlK9zV",
        "outputId": "10cb3f22-5b47-489c-b567-0266e0281b10"
      },
      "execution_count": 76,
      "outputs": [
        {
          "output_type": "stream",
          "name": "stdout",
          "text": [
            "Enter your name: Nick\n",
            "Hello Nick\n"
          ]
        }
      ]
    },
    {
      "cell_type": "markdown",
      "source": [
        "# **1.8 Lists**"
      ],
      "metadata": {
        "id": "Kf7UcYQKLdyC"
      }
    },
    {
      "cell_type": "code",
      "source": [
        "#Lists are an ordered collection of arbitrary objects. Create a list by enclosing values in square brackets:\n",
        "\n",
        "names = [\"Dave\", \"Paula\", \"Thomas\", \"Lewis\"]\n",
        "\n",
        "#lists are indexed by integers, starting with 0\n",
        "#returns the 3rd item of the list\n",
        "\n",
        "a = names[2]\n",
        "print(a)"
      ],
      "metadata": {
        "colab": {
          "base_uri": "https://localhost:8080/"
        },
        "id": "HGiXs0hfLhUb",
        "outputId": "d38fc355-79cc-4db1-ad35-d1ad4bc9cfb2"
      },
      "execution_count": 89,
      "outputs": [
        {
          "output_type": "stream",
          "name": "stdout",
          "text": [
            "Thomas\n"
          ]
        }
      ]
    },
    {
      "cell_type": "code",
      "source": [
        "#changes the 3rd item\n",
        "names = [\"Dave\", \"Paula\", \"Thomas\", \"Lewis\"]\n",
        "\n",
        "names[2] = \"tom\"\n",
        "print(names)"
      ],
      "metadata": {
        "colab": {
          "base_uri": "https://localhost:8080/"
        },
        "id": "Nj9F-o0ITdaT",
        "outputId": "7736175e-9a74-4370-9736-dbcb8f95246f"
      },
      "execution_count": 88,
      "outputs": [
        {
          "output_type": "stream",
          "name": "stdout",
          "text": [
            "['Dave', 'Paula', 'tom', 'Lewis']\n"
          ]
        }
      ]
    },
    {
      "cell_type": "code",
      "source": [
        "#prints the last item\n",
        "names = [\"Dave\", \"Paula\", \"Thomas\", \"Lewis\"]\n",
        "print(names[-1])\n",
        "\n",
        "names.append(\"Nick\") #appends a new item to the end of the list\n",
        "print(names)\n",
        "\n",
        "names.insert(2, \"Aya\") #inserting an item in the list at a specific location\n",
        "print(names)\n",
        "\n",
        "\n",
        "\n",
        "for name in names:    #To iterate over the items in a list, use a FOR loop\n",
        "  print(name)"
      ],
      "metadata": {
        "colab": {
          "base_uri": "https://localhost:8080/"
        },
        "id": "sfrR8jweUNk-",
        "outputId": "1fa00709-fb90-4f28-ac37-de260152ba8c"
      },
      "execution_count": 1,
      "outputs": [
        {
          "output_type": "stream",
          "name": "stdout",
          "text": [
            "Lewis\n",
            "['Dave', 'Paula', 'Thomas', 'Lewis', 'Nick']\n",
            "['Dave', 'Paula', 'Aya', 'Thomas', 'Lewis', 'Nick']\n",
            "Dave\n",
            "Paula\n",
            "Aya\n",
            "Thomas\n",
            "Lewis\n",
            "Nick\n"
          ]
        }
      ]
    },
    {
      "cell_type": "code",
      "source": [
        "names = [\"Dave\", \"Paula\", \"Thomas\", \"Lewis\"]\n",
        "\n",
        "b = names[0:2]        #extracting a portion of the list with a slicing operator\n",
        "print(b)\n",
        "\n",
        "c = names[2:]\n",
        "print(c)\n",
        "\n",
        "names[1] = \"Becky\"\n",
        "print(names)\n",
        "\n",
        "names[0:2] = [\"Dave\", \"Mark\", \"Jeff\"] #this replaces the first 2 items\n",
        "print(names)"
      ],
      "metadata": {
        "colab": {
          "base_uri": "https://localhost:8080/"
        },
        "id": "biV_y_QuJ1fK",
        "outputId": "91595a06-6bcf-4b1b-e3f3-dd9a0d52b795"
      },
      "execution_count": 8,
      "outputs": [
        {
          "output_type": "stream",
          "name": "stdout",
          "text": [
            "['Dave', 'Paula']\n",
            "['Thomas', 'Lewis']\n",
            "['Dave', 'Becky', 'Thomas', 'Lewis']\n",
            "['Dave', 'Mark', 'Jeff', 'Thomas', 'Lewis']\n"
          ]
        }
      ]
    },
    {
      "cell_type": "code",
      "source": [
        "a = [\"x\", \"y\"] + [\"z\", \"z\", \"y\"] #concatenating lists\n",
        "print(a)"
      ],
      "metadata": {
        "colab": {
          "base_uri": "https://localhost:8080/"
        },
        "id": "VZlrniWRLm1S",
        "outputId": "91179f2e-35e7-40c9-f8f8-d5a432e9e0a9"
      },
      "execution_count": 9,
      "outputs": [
        {
          "output_type": "stream",
          "name": "stdout",
          "text": [
            "['x', 'y', 'z', 'z', 'y']\n"
          ]
        }
      ]
    },
    {
      "cell_type": "code",
      "source": [
        "#creating an empty list\n",
        "\n",
        "names = []\n",
        "#or\n",
        "names = list()\n",
        "\n",
        "letters = list('Dave') #using list is commonly used when converting data to a list\n",
        "print(letters)\n",
        "\n",
        "for name in names:\n",
        "  names.append(\"Nick\")\n",
        "\n",
        "print(names)"
      ],
      "metadata": {
        "colab": {
          "base_uri": "https://localhost:8080/"
        },
        "id": "MpNKJykYMCAe",
        "outputId": "3e026d2e-b2a5-4aa8-e60d-03fe3d5bfd7b"
      },
      "execution_count": 18,
      "outputs": [
        {
          "output_type": "stream",
          "name": "stdout",
          "text": [
            "['D', 'a', 'v', 'e']\n",
            "[]\n"
          ]
        }
      ]
    },
    {
      "cell_type": "code",
      "source": [
        "names = []\n",
        "\n",
        "names.append(\"Nick\")\n",
        "\n",
        "print(names)"
      ],
      "metadata": {
        "colab": {
          "base_uri": "https://localhost:8080/"
        },
        "id": "xgu2j4roP4sj",
        "outputId": "f4e2685f-c96c-4332-c303-6c2b06ece2cd"
      },
      "execution_count": 26,
      "outputs": [
        {
          "output_type": "stream",
          "name": "stdout",
          "text": [
            "['Nick']\n"
          ]
        }
      ]
    },
    {
      "cell_type": "markdown",
      "source": [
        "# **1.9 Tuples**"
      ],
      "metadata": {
        "id": "jhdu8ZEcQ781"
      }
    },
    {
      "cell_type": "code",
      "source": [
        "#creating a tuple by enclosing a group of values in parentheses\n",
        "holding = (\"GOOG\", 100, 490.10)\n",
        "address = (\"www.python.org\", 80)\n",
        "\n",
        "#values can be extracted by numercial index like a list.\n",
        "#its common to unpack a tuple like:\n",
        "name, shares, price = holding\n",
        "host, port = address"
      ],
      "metadata": {
        "id": "98fVr1xNRA6R"
      },
      "execution_count": null,
      "outputs": []
    },
    {
      "cell_type": "markdown",
      "source": [
        "# **1.10 Sets**"
      ],
      "metadata": {
        "id": "xvQ6muRmVlYk"
      }
    },
    {
      "cell_type": "code",
      "source": [
        "#a set is an unordered collecton of unique objects.\n",
        "#creating a set, enclose a collection of values in curly braces\n",
        "#you cant make a set containing lists and are unordered and cannot be indexed by numbers\n",
        "#elements of a set are never duplicated\n",
        "#the order in which they print cant be predicted\n",
        "\n",
        "names = {\"IBM\", \"MSFT\", \"AA\"}\n",
        "#or\n",
        "names2 = set([\"IBM\", \"MSFT\", \"HPE\", \"IBM\", \"CAT\"])\n",
        "\n",
        "print(names2)"
      ],
      "metadata": {
        "colab": {
          "base_uri": "https://localhost:8080/"
        },
        "id": "idKoAw2VVo9n",
        "outputId": "1a54accf-2342-455f-9b96-3aed1193f0a8"
      },
      "execution_count": 27,
      "outputs": [
        {
          "output_type": "stream",
          "name": "stdout",
          "text": [
            "{'CAT', 'IBM', 'MSFT', 'HPE'}\n"
          ]
        }
      ]
    },
    {
      "cell_type": "code",
      "source": [
        "#creating an empty set\n",
        "r = set()"
      ],
      "metadata": {
        "id": "qe_wAsahX2j5"
      },
      "execution_count": null,
      "outputs": []
    },
    {
      "cell_type": "code",
      "source": [
        "#sets support a standard collection of operations\n",
        "a = names | names2\n",
        "print(a)"
      ],
      "metadata": {
        "colab": {
          "base_uri": "https://localhost:8080/"
        },
        "id": "olYSWXeXY31S",
        "outputId": "656bf7bf-4643-4cad-8cdf-558e6940693c"
      },
      "execution_count": 28,
      "outputs": [
        {
          "output_type": "stream",
          "name": "stdout",
          "text": [
            "{'IBM', 'MSFT', 'HPE', 'AA', 'CAT'}\n"
          ]
        }
      ]
    },
    {
      "cell_type": "markdown",
      "source": [
        "# ***1.11 Dictionaries***\n",
        "\n",
        "> Indented block\n",
        "\n"
      ],
      "metadata": {
        "id": "HXUpNdhrZY0P"
      }
    },
    {
      "cell_type": "code",
      "source": [
        "#a dictionary is a mapping of keys and values\n",
        "#you create a dictionary by enclosing key-value pairs, each seprated by a colon in curly braces\n",
        "\n",
        "s = {\n",
        "    \"name\": \"GOOG\",\n",
        "    \"shares\": 100,\n",
        "    \"price\": 490.10\n",
        "}\n",
        "\n",
        "#accsessing members of a dictionary\n",
        "name = s[\"name\"]\n",
        "print(name)\n",
        "\n",
        "syms = list(s) #making a dictionary into a list\n",
        "print(syms)\n",
        "\n",
        "syms = s.keys()\n",
        "print(syms)\n",
        "\n",
        "syms = s.values()\n",
        "print(syms)\n",
        "\n",
        "syms = s.items()\n",
        "print(syms)\n",
        "\n",
        "\n"
      ],
      "metadata": {
        "colab": {
          "base_uri": "https://localhost:8080/"
        },
        "id": "oilqIbvaZcR3",
        "outputId": "5c556840-fefa-4572-a9ea-a8ef7cacf91c"
      },
      "execution_count": 47,
      "outputs": [
        {
          "output_type": "stream",
          "name": "stdout",
          "text": [
            "GOOG\n",
            "['name', 'shares', 'price']\n",
            "dict_keys(['name', 'shares', 'price'])\n",
            "dict_values(['GOOG', 100, 490.1])\n",
            "dict_items([('name', 'GOOG'), ('shares', 100), ('price', 490.1)])\n"
          ]
        }
      ]
    },
    {
      "cell_type": "code",
      "source": [
        "#looping over the entire contents of a dictionary as key-value pairs:\n",
        "s = {\n",
        "    \"name\": \"GOOG\",\n",
        "    \"shares\": 100,\n",
        "    \"price\": 490.10\n",
        "}\n",
        "\n",
        "for dic in s.items():\n",
        "  print(dic)"
      ],
      "metadata": {
        "colab": {
          "base_uri": "https://localhost:8080/"
        },
        "id": "mUP7gxWIgUOu",
        "outputId": "8a6e6836-1a65-42ca-8dbf-44b9c14a3952"
      },
      "execution_count": 60,
      "outputs": [
        {
          "output_type": "stream",
          "name": "stdout",
          "text": [
            "('name', 'GOOG')\n",
            "('shares', 100)\n",
            "('price', 490.1)\n"
          ]
        }
      ]
    },
    {
      "cell_type": "markdown",
      "source": [
        "# **1.12 Iteration and Looping**"
      ],
      "metadata": {
        "id": "ofsId6AojyFX"
      }
    },
    {
      "cell_type": "code",
      "source": [
        "#The for loop is the most widely used looping construct that iterates over a collection of items\n",
        "\n",
        "for n in [1,2,3,4,5,6,7]:\n",
        "  print(f\"2 to the {n} power is {2**n}\")"
      ],
      "metadata": {
        "colab": {
          "base_uri": "https://localhost:8080/"
        },
        "id": "NSci-pIJj6DL",
        "outputId": "4df93af1-34e9-4330-e1ed-28e237905619"
      },
      "execution_count": 61,
      "outputs": [
        {
          "output_type": "stream",
          "name": "stdout",
          "text": [
            "2 to the 1 power is 2\n",
            "2 to the 2 power is 4\n",
            "2 to the 3 power is 8\n",
            "2 to the 4 power is 16\n",
            "2 to the 5 power is 32\n",
            "2 to the 6 power is 64\n",
            "2 to the 7 power is 128\n"
          ]
        }
      ]
    },
    {
      "cell_type": "code",
      "source": [
        "#shortcut to example above using the range()\n",
        "\n",
        "for n in range(1, 10):\n",
        "  print(f\"2 to the {n} power is {2**n}\")"
      ],
      "metadata": {
        "colab": {
          "base_uri": "https://localhost:8080/"
        },
        "id": "hAhfyvnQp6pU",
        "outputId": "a2d399cf-250a-4b2e-982b-c9fd977b3c53"
      },
      "execution_count": 62,
      "outputs": [
        {
          "output_type": "stream",
          "name": "stdout",
          "text": [
            "2 to the 1 power is 2\n",
            "2 to the 2 power is 4\n",
            "2 to the 3 power is 8\n",
            "2 to the 4 power is 16\n",
            "2 to the 5 power is 32\n",
            "2 to the 6 power is 64\n",
            "2 to the 7 power is 128\n",
            "2 to the 8 power is 256\n",
            "2 to the 9 power is 512\n"
          ]
        }
      ]
    },
    {
      "cell_type": "code",
      "source": [
        "for i in range(5):\n",
        "  print(i)\n"
      ],
      "metadata": {
        "colab": {
          "base_uri": "https://localhost:8080/"
        },
        "id": "e_mtpaJtqjeA",
        "outputId": "7591bba5-e642-49c7-ef0d-8b40bcd3f0ef"
      },
      "execution_count": 73,
      "outputs": [
        {
          "output_type": "stream",
          "name": "stdout",
          "text": [
            "0\n",
            "1\n",
            "2\n",
            "3\n",
            "4\n"
          ]
        }
      ]
    },
    {
      "cell_type": "markdown",
      "source": [
        "# **1.13 Functions**"
      ],
      "metadata": {
        "id": "Sp28djmssOFf"
      }
    },
    {
      "cell_type": "code",
      "source": [
        "#use a def statement to define a function\n",
        "\n",
        "def remainder(a, b):\n",
        "  \"\"\"computes the remainder of dividing a by b\"\"\"    #comomon to use this line (doc string) to describe the function\n",
        "  q = a // b        #truncating division\n",
        "  r = a - q * b\n",
        "  return r\n",
        "\n",
        "result = remainder(37, 15)      #calling the function   book calls it invoking\n",
        "print(result)"
      ],
      "metadata": {
        "colab": {
          "base_uri": "https://localhost:8080/"
        },
        "id": "7y2F2lUbsRJq",
        "outputId": "a6754bfc-14fb-4c7a-dd30-f03739b4214f"
      },
      "execution_count": 76,
      "outputs": [
        {
          "output_type": "stream",
          "name": "stdout",
          "text": [
            "7\n"
          ]
        }
      ]
    },
    {
      "cell_type": "code",
      "source": [
        "def remainder(a: int, b: int) -> int:  #if the inputs and outputs arent clear from their names, they can be marked as their type\n",
        "  \"\"\"computes the remainder of dividing a by b\"\"\"\n",
        "  q = a // b\n",
        "  r = a - q * b\n",
        "  return r\n",
        "\n",
        "result = remainder(37, 15)\n",
        "print(result)"
      ],
      "metadata": {
        "id": "K3swNtlwvWIQ"
      },
      "execution_count": null,
      "outputs": []
    },
    {
      "cell_type": "code",
      "source": [
        "def divide(a, b):  #if the inputs and outputs arent clear from their names, they can be marked as their type\n",
        "  \"\"\"computes the division of a and b\"\"\"\n",
        "  q = a // b\n",
        "  r = a - q * b\n",
        "  return (q, r)\n",
        "\n",
        "quotient, remainder = divide(1456, 33)\n",
        "print(quotient,remainder)"
      ],
      "metadata": {
        "colab": {
          "base_uri": "https://localhost:8080/"
        },
        "id": "AW3PgetNwWey",
        "outputId": "300a39e5-d2f3-4ed4-f989-01c5889f3910"
      },
      "execution_count": 84,
      "outputs": [
        {
          "output_type": "stream",
          "name": "stdout",
          "text": [
            "2 0\n"
          ]
        }
      ]
    },
    {
      "cell_type": "code",
      "source": [
        "#to assign a default value to a function paramater :\n",
        "\n",
        "def connect(hostname, port, timeout=300):\n",
        "  print(hostname,port)\n",
        "\n",
        "\n",
        "connect(\"www.python.org\", 80)\n",
        "connect(\"www.python.org\", 80, 500)\n",
        "\n",
        "#if you know the names of the arguments you can name them when calling them like:\n",
        "connect(port=70,hostname=\"www.google.com\") #order doesnt matter"
      ],
      "metadata": {
        "colab": {
          "base_uri": "https://localhost:8080/"
        },
        "id": "DTyBXZ9Lyg9-",
        "outputId": "9ad6afb9-858f-4f72-fc7f-c99262317b4b"
      },
      "execution_count": 88,
      "outputs": [
        {
          "output_type": "stream",
          "name": "stdout",
          "text": [
            "www.python.org 80\n",
            "www.python.org 80\n",
            "www.google.com 70\n"
          ]
        }
      ]
    },
    {
      "cell_type": "markdown",
      "source": [
        "# **1.14 Exceptions**"
      ],
      "metadata": {
        "id": "sEJx4_6R7PgC"
      }
    },
    {
      "cell_type": "code",
      "source": [
        "#if an error occurs in your program, an exception is raised and a traceback message appears.\n",
        "\n",
        "#you can catch and handle exceptions like:\n",
        "\n",
        "portfolio = []\n",
        "with open(\"portfolio.csv\") as file:\n",
        "  for line in file:\n",
        "    row = line.split(',')\n",
        "    try:\n",
        "      #body that will trigger the traceback message\n",
        "    except:#traceback error name as err       details from the error are placed in err here\n",
        "    #if no errors occur the except block is ignored\n",
        "\n",
        "    print(\"badrow\":, row)#\n",
        "    print(\"reason:\",err)#"
      ],
      "metadata": {
        "id": "H8FyEuPa7T9u"
      },
      "execution_count": null,
      "outputs": []
    },
    {
      "cell_type": "code",
      "source": [
        "#the raise statement is used to signal an exception:\n",
        "raise RuntimeError(\"computer says no\")"
      ],
      "metadata": {
        "id": "-d0vdrY5FMnl"
      },
      "execution_count": null,
      "outputs": []
    },
    {
      "cell_type": "markdown",
      "source": [
        "# **1.15 Program termination**"
      ],
      "metadata": {
        "id": "TUrKkPYhFW-J"
      }
    },
    {
      "cell_type": "code",
      "source": [
        "#forcing a program to quit\n",
        "\n",
        "raise SystemExit()  #Exit with no error message\n",
        "#or\n",
        "raise SystemExit(\"Something is wrong\") #Exit with error"
      ],
      "metadata": {
        "id": "vEDaTohJGltz"
      },
      "execution_count": null,
      "outputs": []
    },
    {
      "cell_type": "markdown",
      "source": [
        "# **1.16 Objects and Classes**"
      ],
      "metadata": {
        "id": "-LSNw830HOVq"
      }
    },
    {
      "cell_type": "code",
      "source": [
        "#All values used in a program are objects. An object consists of internal data and methods that perform\n",
        "#various kinds of operations involving that data.\n",
        "\n",
        "items = [37, 42]\n",
        "\n",
        "dir(items) # the dir function lists the methods available on an object. special methods begin and end with a double underscore\n",
        "\n",
        "items.__add__([73, 101])"
      ],
      "metadata": {
        "colab": {
          "base_uri": "https://localhost:8080/"
        },
        "id": "KE9T0t-7HSLd",
        "outputId": "5e7469f0-971a-4469-a14e-4b7a6b10c949"
      },
      "execution_count": 90,
      "outputs": [
        {
          "output_type": "execute_result",
          "data": {
            "text/plain": [
              "[37, 42, 73, 101]"
            ]
          },
          "metadata": {},
          "execution_count": 90
        }
      ]
    },
    {
      "cell_type": "code",
      "source": [
        "#The class statement is used to define new types of objects and for object_oriented programming\n",
        "\n",
        "\n",
        "\n",
        "class Stack:\n",
        "  def __init__(self):     #initializing the stack\n",
        "    self._items = [ ]\n",
        "\n",
        "  def push(self, item):\n",
        "    self._items.append(item)\n",
        "\n",
        "  def pop(self):\n",
        "    return self._items.pop()\n",
        "\n",
        "  def __repr__(self):\n",
        "    return f\"<{type(self).__name__} at 0x{id(self):x}, size={len(self)}>\"\n",
        "\n",
        "  def __len__(self):\n",
        "    return len(self._items)\n",
        "\n",
        "\n",
        "s = Stack()  #creates a stack\n",
        "s.push(\"Dave\")  #pushes items into it\n",
        "s.push(42)\n",
        "s.push([3, 4, 5])\n",
        "x = s.pop()\n",
        "y = s.pop()\n",
        "\n",
        "print(s)\n",
        "print(x)\n",
        "print(y)"
      ],
      "metadata": {
        "colab": {
          "base_uri": "https://localhost:8080/"
        },
        "id": "LB2xEw5FKgJN",
        "outputId": "c028ec00-8d32-48fd-d04c-f766d238e12d"
      },
      "execution_count": 108,
      "outputs": [
        {
          "output_type": "stream",
          "name": "stdout",
          "text": [
            "<Stack at 0x795415a23970, size=1>\n",
            "[3, 4, 5]\n",
            "42\n"
          ]
        }
      ]
    },
    {
      "cell_type": "markdown",
      "source": [
        "# **1.17 Modules**"
      ],
      "metadata": {
        "id": "ipPiad-79dTf"
      }
    },
    {
      "cell_type": "code",
      "source": [
        "#creating a module is as easy as saving a file with a .py suffix with the same name as the module\n",
        "text.py # file would have statements and definitions in it then you would use it by:\n",
        "import text.py #in another file to use that fucnction from another file by having it imported\n",
        "\n",
        "\n",
        "\n"
      ],
      "metadata": {
        "id": "Of1c0KMS9hYZ"
      },
      "execution_count": null,
      "outputs": []
    }
  ]
}