{
  "nbformat": 4,
  "nbformat_minor": 0,
  "metadata": {
    "colab": {
      "provenance": [],
      "include_colab_link": true
    },
    "kernelspec": {
      "name": "python3",
      "display_name": "Python 3"
    },
    "language_info": {
      "name": "python"
    }
  },
  "cells": [
    {
      "cell_type": "markdown",
      "metadata": {
        "id": "view-in-github",
        "colab_type": "text"
      },
      "source": [
        "<a href=\"https://colab.research.google.com/github/Cabreraxx9/CSC221_ncabr005/blob/main/Assignment20.ipynb\" target=\"_parent\"><img src=\"https://colab.research.google.com/assets/colab-badge.svg\" alt=\"Open In Colab\"/></a>"
      ]
    },
    {
      "cell_type": "markdown",
      "source": [
        "# Assignment 20\n",
        "## CSC 221\n",
        "- Nicholas Cabrera\n",
        "\n",
        "### Instructions:\n",
        "Fill in each code cell below the question. We are following along in Chapter 4 of Python Distilled."
      ],
      "metadata": {
        "id": "IAOUzGWE1eDx"
      }
    },
    {
      "cell_type": "code",
      "execution_count": 3,
      "metadata": {
        "id": "Gnj3su7i5-lx",
        "colab": {
          "base_uri": "https://localhost:8080/"
        },
        "outputId": "4ad6a4bd-b91f-41a8-f162-cdb321af31ed"
      },
      "outputs": [
        {
          "output_type": "stream",
          "name": "stdout",
          "text": [
            "19\n",
            "44.5\n",
            "asdfg13\n",
            "33.5\n"
          ]
        }
      ],
      "source": [
        "# 4.1 Essential Concepts\n",
        "\n",
        "# When we write \"a + b\" in Python, the interpreter tries to execute a.__add__(b)\n",
        "\n",
        "# Show that this is true by trying the following:\n",
        "a = 6\n",
        "b = 31.5\n",
        "c = 'asdfg'\n",
        "a1 = a.__add__(13)\n",
        "b1 = b.__add__(13)\n",
        "c1 = c.__add__('13')\n",
        "\n",
        "# Explain the results\n",
        "print(a1)   # prints out a integer\n",
        "print(b1)   # prints out a float\n",
        "print(c1)   # concatenates the string to another string\n",
        "\n",
        "d1 = b.__add__(2)\n",
        "print(d1)\n",
        "\n",
        "# What are the types of a, b, and c?\n",
        "# a is a integer\n",
        "# b is a float because of the decimal\n",
        "# c is a string\n",
        "\n",
        "\n",
        "\n"
      ]
    },
    {
      "cell_type": "code",
      "source": [
        "# 4.2 through 4.4 will be covered in the next assignment\n"
      ],
      "metadata": {
        "id": "w2uYd3DO2do6"
      },
      "execution_count": null,
      "outputs": []
    },
    {
      "cell_type": "code",
      "source": [
        "# 4.5 str and repr\n",
        "# How many categories of printing are shown below for a datetime object? 8\n",
        "# What in the Pythion code makes each one get called? print()\n",
        "\n",
        "from datetime import date\n",
        "d = date(2023, 11, 7)\n",
        "\n",
        "print(d)\n",
        "print(f'{d}')\n",
        "print(f'{d!s}')\n",
        "print(f'{d!r}')\n",
        "print(str(d))\n",
        "print(repr(d))\n",
        "print(d.__str__())\n",
        "print(d.__repr__())\n"
      ],
      "metadata": {
        "id": "Aa3ylzmV2wNF",
        "colab": {
          "base_uri": "https://localhost:8080/"
        },
        "outputId": "bf930e7a-78b8-4228-e8a5-1bf148986128"
      },
      "execution_count": 5,
      "outputs": [
        {
          "output_type": "stream",
          "name": "stdout",
          "text": [
            "2023-11-07\n",
            "2023-11-07\n",
            "2023-11-07\n",
            "datetime.date(2023, 11, 7)\n",
            "2023-11-07\n",
            "datetime.date(2023, 11, 7)\n",
            "2023-11-07\n",
            "datetime.date(2023, 11, 7)\n"
          ]
        }
      ]
    },
    {
      "cell_type": "code",
      "source": [
        "# 4.6 First-Class Objects\n",
        "# What is the significance of all objects being \"first-class\" in Python?\n",
        "        # All objects that can be assigned to a name can be treated and used as data\n",
        "\n",
        "# Explain by typing in the code to create and use the 'items' dictionary shown in section 4.6.\n",
        "items = {\n",
        "    \"number\": 42,\n",
        "    \"text\": \"Hello World\"\n",
        "    }\n",
        "\n",
        "items[\"func\"] = abs\n",
        "import math\n",
        "items[\"mod\"] = math\n",
        "items[\"error\"] = ValueError\n",
        "nums = [1,2,3,4]\n",
        "items[\"append\"] = nums.append\n",
        "\n",
        "# Explain each of the lines starting with '>>>' in the section.\n",
        "\n",
        "items[\"func\"] (-45) #Executing abs() function"
      ],
      "metadata": {
        "id": "9LRpP06Vsw6n",
        "colab": {
          "base_uri": "https://localhost:8080/"
        },
        "outputId": "044da8cc-5d49-4935-b096-d668842de906"
      },
      "execution_count": 25,
      "outputs": [
        {
          "output_type": "execute_result",
          "data": {
            "text/plain": [
              "45"
            ]
          },
          "metadata": {},
          "execution_count": 25
        }
      ]
    },
    {
      "cell_type": "code",
      "source": [
        "items[\"mod\"].sqrt(4) #Executing math.sqrt(4)"
      ],
      "metadata": {
        "colab": {
          "base_uri": "https://localhost:8080/"
        },
        "id": "6q5ejr_ocjA4",
        "outputId": "30146bcf-2052-473c-f732-9a8a5e6b89b3"
      },
      "execution_count": 19,
      "outputs": [
        {
          "output_type": "execute_result",
          "data": {
            "text/plain": [
              "2.0"
            ]
          },
          "metadata": {},
          "execution_count": 19
        }
      ]
    },
    {
      "cell_type": "code",
      "source": [
        "try:                #Executes except ValueError as e\n",
        "  x = int(\"a lot\")\n",
        "except items[\"error\"] as e:\n",
        "  print(\"couldnt convert\")"
      ],
      "metadata": {
        "colab": {
          "base_uri": "https://localhost:8080/"
        },
        "id": "0NQvR73ccmJv",
        "outputId": "f687383f-5502-4bae-f33b-d00539b52e72"
      },
      "execution_count": 20,
      "outputs": [
        {
          "output_type": "stream",
          "name": "stdout",
          "text": [
            "couldnt convert\n"
          ]
        }
      ]
    },
    {
      "cell_type": "code",
      "source": [
        "items[\"append\"] (100) #Executes nums.append(100)"
      ],
      "metadata": {
        "id": "27yFyl66coq_"
      },
      "execution_count": 23,
      "outputs": []
    },
    {
      "cell_type": "code",
      "source": [
        "nums"
      ],
      "metadata": {
        "id": "flmZJdaucsWj"
      },
      "execution_count": null,
      "outputs": []
    },
    {
      "cell_type": "code",
      "source": [
        "line = \"ACME,100,490.10\"\n",
        "column_types = [str, int, float] #creating a list of values with their types\n",
        "parts = line.split(\",\") #splitting the line at the comma position\n",
        "row = [ty(val) for ty, val in zip(column_types, parts)] #list comprehension looping through the line\n",
        "row"
      ],
      "metadata": {
        "colab": {
          "base_uri": "https://localhost:8080/"
        },
        "id": "FAkaiN9MfV4r",
        "outputId": "72f460dc-dd34-475e-e12d-e69f021dfbdd"
      },
      "execution_count": 28,
      "outputs": [
        {
          "output_type": "execute_result",
          "data": {
            "text/plain": [
              "['ACME', 100, 490.1]"
            ]
          },
          "metadata": {},
          "execution_count": 28
        }
      ]
    },
    {
      "cell_type": "code",
      "source": [
        "# 4.7 Using None\n",
        "# Write a function that takes two parameters and returns their sum if they are\n",
        "#  integers or returns None if either one is not.\n",
        "\n",
        "def numbers(a,b):\n",
        "  if a == int(a) and b == int(b):\n",
        "    return a + b\n",
        "  else:\n",
        "    return None\n",
        "# Put in some test code to show that your function works\n",
        "numbers(2,\"2\")\n",
        "\n",
        "\n",
        "\n",
        "#Mr. Lecky i am unsure if i did this correctly\n"
      ],
      "metadata": {
        "id": "dUhRWGnCtewU",
        "colab": {
          "base_uri": "https://localhost:8080/"
        },
        "outputId": "cbe19d61-43c9-4006-cf20-5a7040473986"
      },
      "execution_count": 120,
      "outputs": [
        {
          "output_type": "execute_result",
          "data": {
            "text/plain": [
              "4"
            ]
          },
          "metadata": {},
          "execution_count": 120
        }
      ]
    },
    {
      "cell_type": "code",
      "source": [
        "# 4.9 Object Protocol\n",
        "# Create a simple object that has methods for:\n",
        "#  __new__\n",
        "#  __init__\n",
        "#  __del__\n",
        "#  __repr__\n",
        "#  __str__\n",
        "\n",
        "# INSERT YOUR CODE HERE\n",
        "# Create a simple object\n",
        "class Example:\n",
        "\n",
        "  def __new__(cls, *args, **kwargs):\n",
        "       print(\"Object Created\")\n",
        "\n",
        "example1 = Example()\n",
        "\n",
        "class Example:\n",
        "  def __init__(self, name):\n",
        "        self.name = name\n",
        "        print(f\"{self.name} is an example\")\n",
        "  def __repr__(self):\n",
        "        return (f\"Example{self.name}\")\n",
        "\n",
        "# Put in some test code to show how and when each of these 'magic' functions gets called.\n",
        "example1 = Example(\"Nick\")\n",
        "\n",
        "\n",
        "#class Example:\n",
        "    #def __del__(self):\n",
        "        #print( \"deleted\")\n",
        "del example1\n",
        "#class Example:\n",
        "    #def __repr__(self):\n",
        "        #print( \"string rep of Example\")\n",
        "repr(Example)\n",
        "#class Example:\n",
        "    #def __str__(self):\n",
        "        #print( \"deleted\")\n",
        "str(Example)"
      ],
      "metadata": {
        "id": "4M-CQevEt2xQ",
        "colab": {
          "base_uri": "https://localhost:8080/"
        },
        "outputId": "f3311db6-6934-4d51-d78b-969d3c2e85d0"
      },
      "execution_count": 128,
      "outputs": [
        {
          "output_type": "stream",
          "name": "stdout",
          "text": [
            "Object Created\n",
            "Nick is an example\n"
          ]
        }
      ]
    },
    {
      "cell_type": "code",
      "source": [],
      "metadata": {
        "id": "P6roeGK8_nkb"
      },
      "execution_count": null,
      "outputs": []
    }
  ]
}