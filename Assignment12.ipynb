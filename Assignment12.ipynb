{
  "nbformat": 4,
  "nbformat_minor": 0,
  "metadata": {
    "colab": {
      "provenance": [],
      "authorship_tag": "ABX9TyOtg69JuTQaRqaKaQdQl19m",
      "include_colab_link": true
    },
    "kernelspec": {
      "name": "python3",
      "display_name": "Python 3"
    },
    "language_info": {
      "name": "python"
    }
  },
  "cells": [
    {
      "cell_type": "markdown",
      "metadata": {
        "id": "view-in-github",
        "colab_type": "text"
      },
      "source": [
        "<a href=\"https://colab.research.google.com/github/Cabreraxx9/CSC221_ncabr005/blob/main/Assignment12.ipynb\" target=\"_parent\"><img src=\"https://colab.research.google.com/assets/colab-badge.svg\" alt=\"Open In Colab\"/></a>"
      ]
    },
    {
      "cell_type": "markdown",
      "source": [
        "High-level Design Structure:\n",
        "Base Class Money (class Money:)\n",
        "Child Bills (class Bills(Money):)\n",
        "Children of Bills: One, Five, Ten, Twenty (class One(Bills): etc.)\n",
        "Child Coins (class Coins(Money):)\n",
        "Penny, Nickel, Dime, Quarter (class Penny(Coins): etc.)\n",
        "Make various \"wallets\" (maybe just a list) of bills and coins\n",
        "Sum of all money should be easy...\n",
        "Printing all money should be easy...\n",
        "Build test cases with various quantities of bills and coins and test for correctness."
      ],
      "metadata": {
        "id": "un1FRsjAOCOb"
      }
    },
    {
      "cell_type": "markdown",
      "source": [
        "Rough draft of what came to my head for above instrctions for program"
      ],
      "metadata": {
        "id": "Z_3slH8aiax-"
      }
    },
    {
      "cell_type": "code",
      "execution_count": null,
      "metadata": {
        "id": "4wLFoyd1NN1i"
      },
      "outputs": [],
      "source": [
        "class Money:\n",
        "  \"\"\"Modeling a wallet\"\"\"\n",
        "\n",
        "  def __init__(self, first_name, last_name):\n",
        "    \"\"\"Initialize first_name and last_name attributes.\"\"\"\n",
        "    self.first_name = first_name\n",
        "    self.last_name = last_name\n",
        "\n",
        "  def describe_user(self):\n",
        "    \"\"\"Describes the Owner of the wallet\"\"\"\n",
        "    print(f\"\\nThis is {self.first_name} {self.last_name} wallet\")\n",
        "\n",
        "wallet_owner1 = Money(\"Nick\", \"Cabrera's\")\n",
        "\n",
        "class Bills(Money):\n",
        "  \"\"\"Represents bills, specific to value of a bill.\"\"\"\n",
        "\n",
        "  def __init__(self, first_name, last_name):\n",
        "    \"\"\"Initialize attributes of a parent class.\"\"\"\n",
        "    \"\"\"Then initialize attributes specific to Bills\"\"\"\n",
        "    super().__init__(first_name, last_name)\n",
        "    self.one = 1\n",
        "    self.five = 5\n",
        "    self.ten = 10\n",
        "    self.bill_twenty = 20\n",
        "\n",
        "    self.wallet1_bills = [self.one, self.five]\n",
        "\n",
        "  def value_bills(self):\n",
        "    total = 0\n",
        "    for x in self.wallet1_bills:\n",
        "      total += self.wallet1_bills\n",
        "      print(total)\n",
        "\n",
        "\n",
        "class Coins(Money):\n",
        "  \"\"\"Represents coins, specific to value of a coin.\"\"\"\n",
        "\n",
        "  def __init__(self, first_name, last_name):\n",
        "    \"\"\"Initialize attributes of a parent class.\"\"\"\n",
        "    \"\"\"Then initialize attributes specific to Coins\"\"\"\n",
        "    super().__init__(first_name, last_name)\n",
        "    self.penney = .1\n",
        "    self.nickel = .5\n",
        "    self.dime = .10\n",
        "    self.quarter = .25\n",
        "\n",
        "wallet_owner1.describe_user()\n",
        "wallet1_bills.value_bills()"
      ]
    },
    {
      "cell_type": "markdown",
      "source": [
        "Rough Draft of my program\n",
        "\n",
        "Got help by professor lecky and professor morales\n",
        "\n",
        "professor Lecky made program make more sence with making a diagram guide\n",
        "still confusing but trying to catch on\n",
        "\n",
        "professor morales went on a code spree but it was a learning experience\n",
        "to try to have wallets print out pretty but ended up running into issues with\n",
        "strings and ints. trying to print out money like $20"
      ],
      "metadata": {
        "id": "cS5x0e9Tiioo"
      }
    },
    {
      "cell_type": "code",
      "source": [
        "#This is the Parent Class\n",
        "class Money:\n",
        "  \"\"\"Modeling any type of money\"\"\"\n",
        "  def __init__(self, value):\n",
        "    \"\"\"Initialize value in dollars attributes\"\"\"\n",
        "    self.value = value\n",
        "\n",
        "  def __add__(self, other):\n",
        "    return Money(self.value + other.value)\n",
        "\n",
        "  def __str__(self):\n",
        "    s = str(self.value)\n",
        "    s = \"$\" + s\n",
        "    return s\n",
        "\n",
        "\n",
        "#This is the Child class\n",
        "class Bills(Money):\n",
        "  \"\"\"Represents money, specific to Bills\"\"\"\n",
        "  def __init__(self, value):\n",
        "    \"\"\"initialize attributes of the parent class.\"\"\"\n",
        "    super().__init__(value)\n",
        "\n",
        "  def __str__(self):\n",
        "    s = str(self.value)\n",
        "    s = \"$\" + s\n",
        "    return s\n",
        "\n",
        "  def __repr__(self):\n",
        "\n",
        "    return self.__str__()\n",
        "\n",
        "\n",
        "#This is the Children Classes\n",
        "class One(Bills):\n",
        "  \"\"\"Represents money, specific to $1 bills\"\"\"\n",
        "  def __init__(self):\n",
        "    \"\"\"initialize attributes of the parent class.\"\"\"\n",
        "    super().__init__(1)\n",
        "\n",
        "\n",
        "class Five(Bills):\n",
        "  \"\"\"Represents money, specific to $5 bills\"\"\"\n",
        "  def __init__(self):\n",
        "    \"\"\"initialize attributes of the parent class.\"\"\"\n",
        "    super().__init__(5)\n",
        "\n",
        "class Ten(Bills):\n",
        "  \"\"\"Represents money, specific to $10 bills\"\"\"\n",
        "  def __init__(self):\n",
        "    \"\"\"initialize attributes of the parent class.\"\"\"\n",
        "    super().__init__(10)\n",
        "\n",
        "class Twenty(Bills):\n",
        "  \"\"\"Represents money, specific to $20 bills\"\"\"\n",
        "  def __init__(self):\n",
        "    \"\"\"initialize attributes of the parent class.\"\"\"\n",
        "    super().__init__(20)\n",
        "\n",
        "nicks_wallet = [One(),Twenty(),One()]\n",
        "chris_wallet = [Five(), Twenty()]\n",
        "print(nicks_wallet)\n",
        "print(sum(nicks_wallet, start = Money(0)))\n",
        "\n",
        "def total_in_wallet(wallet):\n",
        "    total = 0\n",
        "    for cash in wallet:\n",
        "      total = total + cash.value\n",
        "      print(total)\n",
        "#do this ....for this ()\n",
        "total_in_wallet(nicks_wallet)\n",
        "\n",
        "\n",
        "\n",
        "#This is the Child Class\n",
        "class Coins(Money):\n",
        "  \"\"\"Represents money, specific to Coins\"\"\"\n",
        "  def __init__(self, value):\n",
        "    \"\"\"initialize attributes of the parent class.\"\"\"\n",
        "    super().__init__(value)\n",
        "\n",
        "\n",
        "#These are the Children Classes\n",
        "class Penny(Coins):\n",
        "  \"\"\"Represents money, specific to $1 bills\"\"\"\n",
        "  def __init__(self):\n",
        "    \"\"\"initialize attributes of the parent class.\"\"\"\n",
        "    super().__init__(1)\n",
        "\n",
        "\n",
        "class Nickel(Coins):\n",
        "  \"\"\"Represents money, specific to $1 bills\"\"\"\n",
        "  def __init__(self):\n",
        "    \"\"\"initialize attributes of the parent class.\"\"\"\n",
        "    super().__init__(1)\n",
        "\n",
        "class Dime(Coins):\n",
        "  \"\"\"Represents money, specific to $1 bills\"\"\"\n",
        "  def __init__(self):\n",
        "    \"\"\"initialize attributes of the parent class.\"\"\"\n",
        "    super().__init__(1)\n",
        "\n",
        "class Quarter(Coins):\n",
        "  \"\"\"Represents money, specific to $1 bills\"\"\"\n",
        "  def __init__(self):\n",
        "    \"\"\"initialize attributes of the parent class.\"\"\"\n",
        "    super().__init__(1)\n",
        "\n"
      ],
      "metadata": {
        "colab": {
          "base_uri": "https://localhost:8080/"
        },
        "id": "eI12TrAnLz7N",
        "outputId": "ec20f3a8-7016-4745-a529-12df2ddcedc8"
      },
      "execution_count": 3,
      "outputs": [
        {
          "output_type": "stream",
          "name": "stdout",
          "text": [
            "[$1, $20, $1]\n",
            "$22\n",
            "1\n",
            "21\n",
            "22\n"
          ]
        }
      ]
    },
    {
      "cell_type": "code",
      "source": [
        "testlist = [1,2,3]\n",
        "sum(testlist)"
      ],
      "metadata": {
        "colab": {
          "base_uri": "https://localhost:8080/"
        },
        "id": "-T8FnYfcizrv",
        "outputId": "fe3e6513-4667-4bfc-cf4e-0ce306bdc623"
      },
      "execution_count": 33,
      "outputs": [
        {
          "output_type": "execute_result",
          "data": {
            "text/plain": [
              "6"
            ]
          },
          "metadata": {},
          "execution_count": 33
        }
      ]
    },
    {
      "cell_type": "markdown",
      "source": [
        "# **Final Code for a Program simulating a persons wallet**"
      ],
      "metadata": {
        "id": "iDGEVVXziN01"
      }
    },
    {
      "cell_type": "code",
      "source": [
        "#This is the Parent Class\n",
        "class Money:\n",
        "  \"\"\"Modeling any type of money\"\"\"\n",
        "  def __init__(self, value):\n",
        "    \"\"\"Initialize value in dollars attributes\"\"\"\n",
        "    self.value = value\n",
        "\n",
        "\n",
        "#This is the Child class\n",
        "class Bills(Money):\n",
        "  \"\"\"Represents money, specific to Bills\"\"\"\n",
        "  def __init__(self, value):\n",
        "    \"\"\"initialize attributes of the parent class.\"\"\"\n",
        "    super().__init__(value)\n",
        "\n",
        "\n",
        "#This is the Children Classes\n",
        "class One(Bills):\n",
        "  \"\"\"Represents money, specific to $1 bills\"\"\"\n",
        "  def __init__(self):\n",
        "    \"\"\"initialize attributes of the parent class.\"\"\"\n",
        "    super().__init__(1)\n",
        "\n",
        "class Five(Bills):\n",
        "  \"\"\"Represents money, specific to $5 bills\"\"\"\n",
        "  def __init__(self):\n",
        "    \"\"\"initialize attributes of the parent class.\"\"\"\n",
        "    super().__init__(5)\n",
        "\n",
        "class Ten(Bills):\n",
        "  \"\"\"Represents money, specific to $10 bills\"\"\"\n",
        "  def __init__(self):\n",
        "    \"\"\"initialize attributes of the parent class.\"\"\"\n",
        "    super().__init__(10)\n",
        "\n",
        "class Twenty(Bills):\n",
        "  \"\"\"Represents money, specific to $20 bills\"\"\"\n",
        "  def __init__(self):\n",
        "    \"\"\"initialize attributes of the parent class.\"\"\"\n",
        "    super().__init__(20)\n",
        "\n",
        "\n",
        "\n",
        "#This is the Child Class\n",
        "class Coins(Money):\n",
        "  \"\"\"Represents money, specific to Coins\"\"\"\n",
        "  def __init__(self, value):\n",
        "    \"\"\"initialize attributes of the parent class.\"\"\"\n",
        "    super().__init__(value)\n",
        "\n",
        "\n",
        "#These are the Children Classes\n",
        "class Penny(Coins):\n",
        "  \"\"\"Represents money, specific to Coins\"\"\"\n",
        "  def __init__(self):\n",
        "    \"\"\"initialize attributes of the parent class.\"\"\"\n",
        "    super().__init__(.1)\n",
        "\n",
        "\n",
        "class Nickel(Coins):\n",
        "  \"\"\"Represents money, specific to a Nickel\"\"\"\n",
        "  def __init__(self):\n",
        "    \"\"\"initialize attributes of the parent class.\"\"\"\n",
        "    super().__init__(.5)\n",
        "\n",
        "class Dime(Coins):\n",
        "  \"\"\"Represents money, specific to a Dime\"\"\"\n",
        "  def __init__(self):\n",
        "    \"\"\"initialize attributes of the parent class.\"\"\"\n",
        "    super().__init__(.10)\n",
        "\n",
        "class Quarter(Coins):\n",
        "  \"\"\"Represents money, specific to a Quarter\"\"\"\n",
        "  def __init__(self):\n",
        "    \"\"\"initialize attributes of the parent class.\"\"\"\n",
        "    super().__init__(.25)\n",
        "\n",
        "#creating Instances\n",
        "nicks_wallet = [One(), Twenty(), Twenty()]\n",
        "chris_wallet = [Five(), Twenty()]\n",
        "leckys_wallet = [Penny()]\n",
        "\n",
        "#a For Loop to loop through and add the value of a wallet\n",
        "def total_in_wallet(wallet):\n",
        "    total = 0\n",
        "    for cash in wallet:\n",
        "      total = total + cash.value\n",
        "\n",
        "    print(total)\n",
        "\n",
        "\n",
        "#do this ....for this ()\n",
        "total_in_wallet(nicks_wallet)\n",
        "total_in_wallet(chris_wallet)\n",
        "total_in_wallet(leckys_wallet)\n",
        "\n",
        "\n"
      ],
      "metadata": {
        "colab": {
          "base_uri": "https://localhost:8080/"
        },
        "id": "VpyT5MM8W9Y3",
        "outputId": "19b1d657-f1be-4bce-973f-b2de14c01cfb"
      },
      "execution_count": 5,
      "outputs": [
        {
          "output_type": "stream",
          "name": "stdout",
          "text": [
            "41\n",
            "25\n",
            "0.1\n"
          ]
        }
      ]
    }
  ]
}