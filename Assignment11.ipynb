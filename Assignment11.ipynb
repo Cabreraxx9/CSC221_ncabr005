{
  "nbformat": 4,
  "nbformat_minor": 0,
  "metadata": {
    "colab": {
      "provenance": [],
      "authorship_tag": "ABX9TyNTmTac/eamqy2SGo6wZfFX",
      "include_colab_link": true
    },
    "kernelspec": {
      "name": "python3",
      "display_name": "Python 3"
    },
    "language_info": {
      "name": "python"
    }
  },
  "cells": [
    {
      "cell_type": "markdown",
      "metadata": {
        "id": "view-in-github",
        "colab_type": "text"
      },
      "source": [
        "<a href=\"https://colab.research.google.com/github/Cabreraxx9/CSC221_ncabr005/blob/main/Assignment11.ipynb\" target=\"_parent\"><img src=\"https://colab.research.google.com/assets/colab-badge.svg\" alt=\"Open In Colab\"/></a>"
      ]
    },
    {
      "cell_type": "markdown",
      "source": [
        "# **Nicholas Cabrera**\n",
        "\n",
        "**Chapter 9: Classes: Part 1**"
      ],
      "metadata": {
        "id": "2UtovgLK3EYU"
      }
    },
    {
      "cell_type": "markdown",
      "source": [
        "# Creating and Using a Class"
      ],
      "metadata": {
        "id": "CO2I4WV5-d5H"
      }
    },
    {
      "cell_type": "markdown",
      "source": [
        "### **Creating the Dog Class**"
      ],
      "metadata": {
        "id": "kA02qCNZ-lRA"
      }
    },
    {
      "cell_type": "code",
      "execution_count": null,
      "metadata": {
        "id": "NkEL661-29PI"
      },
      "outputs": [],
      "source": [
        "# dog.py\n",
        "\n",
        "class Dog:\n",
        "  \"\"\"A simple attempt to model a dog.\"\"\"\n",
        "\n",
        "  def __init__(self, name, age):\n",
        "      \"\"\"Initialize name and age attributes.\"\"\"\n",
        "      self.name = name\n",
        "      self.age = age\n",
        "\n",
        "  def sit(self):\n",
        "      \"\"\"Simulate a dog sitting in response to a command.\"\"\"\n",
        "      print(f\"{self.name} is now sitting.\")\n",
        "\n",
        "  def roll_over(self):\n",
        "      \"\"\"Simulate rolling over in response to a command.\"\"\"\n",
        "      print(f\"{self.name} rolled over!\")\n",
        "\n",
        "#multiple instances representing a dog\n",
        "my_dog = Dog(\"Willie\", 6)\n",
        "your_dog = Dog(\"Lucy\", 3)\n",
        "\n",
        "#accessing Attributes by using dot notation\n",
        "print(f\"My dog's name is {my_dog.name}.\")\n",
        "print(f\"My dog is {my_dog.age} years old.\")\n",
        "\n",
        "#calling methods\n",
        "my_dog.sit()\n",
        "my_dog.roll_over()\n",
        "\n",
        "print(f\"My dog's name is {my_dog.name}.\")\n",
        "print(f\"My dog is {my_dog.age} years old.\")\n",
        "my_dog.sit()\n",
        "\n",
        "print(f\"\\nYour dog's name is {your_dog.name}.\")\n",
        "print(f\"Your dog is {your_dog.age} years old.\")\n",
        "your_dog.sit()"
      ]
    },
    {
      "cell_type": "markdown",
      "source": [
        "# **Try it Yourself**"
      ],
      "metadata": {
        "id": "WT2Y8fV5IPmc"
      }
    },
    {
      "cell_type": "code",
      "source": [
        "# 9-1. Restaurant\n",
        "\n",
        "class Restaurant:\n",
        "  \"\"\"Modeling a Restaurant\"\"\"\n",
        "\n",
        "  def __init__(self, restaurant_name, cuisine_type):\n",
        "    \"\"\"Initialize restaurant_name and cuisine_type attributes.\"\"\"\n",
        "    self.restaurant_name = restaurant_name\n",
        "    self.cuisine_type = cuisine_type\n",
        "\n",
        "  def describe_restaurant(self):\n",
        "    \"\"\"describes the restaurant\"\"\"\n",
        "    print(f\"The restaurant is {self.restaurant_name}\")\n",
        "    print(f\"The cuisine type is {self.cuisine_type}\")\n",
        "\n",
        "  def open_restaurant(self):\n",
        "    \"\"\"describes if the restaurant is open\"\"\"\n",
        "    print(f\"{self.restaurant_name} is open!!\")\n",
        "\n",
        "#an instance called restuarant\n",
        "restaurant = Restaurant(\"Olive Garden\", \"Italian\")\n",
        "\n",
        "#accessing Attributes by using dot notation\n",
        "print(f\"The restuarants name is {restaurant.restaurant_name}.\")\n",
        "print(f\"The cuisine type is {restaurant.cuisine_type}.\")\n",
        "\n",
        "#calling both methods\n",
        "restaurant.describe_restaurant()\n",
        "restaurant.open_restaurant()\n",
        "\n"
      ],
      "metadata": {
        "id": "x-XYd-vbIWdg"
      },
      "execution_count": null,
      "outputs": []
    },
    {
      "cell_type": "code",
      "source": [
        "# 9-2. Three Resaurants\n",
        "\n",
        "class Restaurant:\n",
        "  \"\"\"Modeling a Restaurant\"\"\"\n",
        "\n",
        "  def __init__(self, restaurant_name, cuisine_type):\n",
        "    \"\"\"Initialize restaurant_name and cuisine_type attributes.\"\"\"\n",
        "    self.restaurant_name = restaurant_name\n",
        "    self.cuisine_type = cuisine_type\n",
        "\n",
        "  def describe_restaurant(self):\n",
        "    \"\"\"describes the restaurant\"\"\"\n",
        "    print(f\"\\nThe restaurant is {self.restaurant_name}\")\n",
        "    print(f\"The cuisine type is {self.cuisine_type}\")\n",
        "\n",
        "  def open_restaurant(self):\n",
        "    \"\"\"describes if the restaurant is open\"\"\"\n",
        "    print(f\"{self.restaurant_name} is open!!\")\n",
        "\n",
        "#creating multiple instances of restaurant\n",
        "restaurant = Restaurant(\"Olive Garden\", \"Italian\")\n",
        "restaurant_2 = Restaurant(\"Chipotle\", \"Mexican\")\n",
        "restuarant_3 = Restaurant(\"Texas Roadhouse\", \"American\")\n",
        "\n",
        "#accessing Attributes by using dot notation\n",
        "print(f\"The restaurants name is {restaurant.restaurant_name}.\")\n",
        "print(f\"The cuisine type is {restaurant.cuisine_type}.\")\n",
        "\n",
        "#calling both methods\n",
        "restaurant.describe_restaurant()\n",
        "restaurant.open_restaurant()\n",
        "\n",
        "restaurant_2.describe_restaurant()\n",
        "\n",
        "restuarant_3.describe_restaurant()\n"
      ],
      "metadata": {
        "colab": {
          "base_uri": "https://localhost:8080/"
        },
        "id": "uQvpssSzUaan",
        "outputId": "ae984465-d089-4b70-89f5-f592cf02789c"
      },
      "execution_count": 19,
      "outputs": [
        {
          "output_type": "stream",
          "name": "stdout",
          "text": [
            "The restaurants name is Olive Garden.\n",
            "The cuisine type is Italian.\n",
            "\n",
            "The restaurant is Olive Garden\n",
            "The cuisine type is Italian\n",
            "Olive Garden is open!!\n",
            "\n",
            "The restaurant is Chipotle\n",
            "The cuisine type is Mexican\n",
            "\n",
            "The restaurant is Texas Roadhouse\n",
            "The cuisine type is American\n"
          ]
        }
      ]
    },
    {
      "cell_type": "code",
      "source": [
        "# 9-3 Users\n",
        "\n",
        "class Users:\n",
        "  \"\"\"Modeling user profiles\"\"\"\n",
        "\n",
        "  def __init__(self, first_name, last_name, age, sex):\n",
        "    \"\"\"Initialize first name and last name attributes\"\"\"\n",
        "    self.first_name = first_name\n",
        "    self.last_name = last_name\n",
        "    self.age = age\n",
        "    self.sex = sex\n",
        "\n",
        "  def describe_user(self):\n",
        "    \"\"\"Describes the User\"\"\"\n",
        "    print(f\"\\n{self.first_name} {self.last_name} {self.age} {self.sex}\")\n",
        "\n",
        "  def greet_user(self):\n",
        "    \"\"\"Simulates greeting the user\"\"\"\n",
        "    print(f\"Hello {self.first_name} {self.last_name}\")\n",
        "\n",
        "#creating multiple instances of users\n",
        "user_1 = Users(\"Nick\", \"Cabrera\", 38, \"Male\")\n",
        "user_2 = Users(\"Andre\", \"Leon\", 28, \"Male\")\n",
        "user_3 = Users(\"Matt\", \"Hughey\", 30, \"Male\")\n",
        "\n",
        "user_1.describe_user()\n",
        "user_1.greet_user()\n",
        "\n",
        "user_2.describe_user()\n",
        "user_2.greet_user()\n",
        "\n",
        "user_3.describe_user()\n",
        "user_3.greet_user()\n",
        "\n",
        "\n",
        "\n",
        "\n",
        "\n"
      ],
      "metadata": {
        "id": "xxgdU9UNde2W"
      },
      "execution_count": null,
      "outputs": []
    },
    {
      "cell_type": "markdown",
      "source": [
        "# **Working with Classes and Instances**"
      ],
      "metadata": {
        "id": "thPC4nF4z0gv"
      }
    },
    {
      "cell_type": "markdown",
      "source": [
        "# The Car Class"
      ],
      "metadata": {
        "id": "oeusPW2R6D1N"
      }
    },
    {
      "cell_type": "code",
      "source": [
        "# car.py\n",
        "\n",
        "class Car:\n",
        "  \"\"\"A simple attempt to represent a car.\"\"\"\n",
        "\n",
        "  def __init__(self, make, model, year):\n",
        "    \"\"\"Initialize attributes to describe a car.\"\"\"\n",
        "    self.make = make\n",
        "    self.model = model\n",
        "    self.year = year\n",
        "    #Sett\n",
        "\n",
        "  def get_descriptive_name(self):\n",
        "    \"\"\"Return a neatly formatted descriptive name.\"\"\"\n",
        "    long_name = f\"{self.year} {self.make} {self.model}\"\n",
        "    return long_name.title()\n",
        "\n",
        "my_new_car = Car(\"audi\", \"a4\", 2024)\n",
        "print(my_new_car.get_descriptive_name())"
      ],
      "metadata": {
        "colab": {
          "base_uri": "https://localhost:8080/"
        },
        "id": "IH0qTZy7z6CK",
        "outputId": "c763f97f-4e41-4ae9-c90a-eecf9a9deee6"
      },
      "execution_count": 3,
      "outputs": [
        {
          "output_type": "stream",
          "name": "stdout",
          "text": [
            "2024 Audi A4\n"
          ]
        }
      ]
    },
    {
      "cell_type": "markdown",
      "source": [
        "**## Setting a default Value for an Attribute**"
      ],
      "metadata": {
        "id": "l4o5fDLF6Rz7"
      }
    },
    {
      "cell_type": "code",
      "source": [
        "class Car:\n",
        "  \"\"\"A simple attempt to represent a car.\"\"\"\n",
        "\n",
        "  def __init__(self, make, model, year):\n",
        "    \"\"\"Initialize attributes to describe a car.\"\"\"\n",
        "    self.make = make\n",
        "    self.model = model\n",
        "    self.year = year\n",
        "    #Setting a default value\n",
        "    self.odometer_reading = 0\n",
        "\n",
        "  def get_descriptive_name(self):\n",
        "    \"\"\"Return a neatly formatted descriptive name.\"\"\"\n",
        "    long_name = f\"{self.year} {self.make} {self.model}\"\n",
        "    return long_name.title()\n",
        "\n",
        "  #Method to read mileage\n",
        "  def read_odometer(self):\n",
        "    \"\"\"Print a statement showing the car's mileage.\"\"\"\n",
        "    print(f\"This car has {self.odometer_reading} miles on it\")\n",
        "\n",
        "my_new_car = Car(\"audi\", \"a4\", 2024)\n",
        "print(my_new_car.get_descriptive_name())\n",
        "\n",
        "my_new_car.read_odometer()"
      ],
      "metadata": {
        "colab": {
          "base_uri": "https://localhost:8080/"
        },
        "id": "-bIA7oZm6e0I",
        "outputId": "45f1e476-3819-40ab-9957-a85ab58b6cd6"
      },
      "execution_count": 4,
      "outputs": [
        {
          "output_type": "stream",
          "name": "stdout",
          "text": [
            "2024 Audi A4\n",
            "This car has 0 miles on it\n"
          ]
        }
      ]
    },
    {
      "cell_type": "markdown",
      "source": [
        "# **Modifying Attribute Values**\n",
        "\n",
        "\n",
        "1.   Change value directly through an instance\n",
        "2.   Set the value through a method\n",
        "3.   Increment the value through a method\n",
        "\n"
      ],
      "metadata": {
        "id": "wGiXwaK99FmR"
      }
    },
    {
      "cell_type": "markdown",
      "source": [
        "## 1. Modifying an attribute's Value Directly"
      ],
      "metadata": {
        "id": "Il4pPbEE9voM"
      }
    },
    {
      "cell_type": "code",
      "source": [
        "class Car:\n",
        "  \"\"\"A simple attempt to represent a car.\"\"\"\n",
        "\n",
        "  def __init__(self, make, model, year):\n",
        "    \"\"\"Initialize attributes to describe a car.\"\"\"\n",
        "    self.make = make\n",
        "    self.model = model\n",
        "    self.year = year\n",
        "    #Setting a default value\n",
        "    self.odometer_reading = 0\n",
        "\n",
        "  def get_descriptive_name(self):\n",
        "    \"\"\"Return a neatly formatted descriptive name.\"\"\"\n",
        "    long_name = f\"{self.year} {self.make} {self.model}\"\n",
        "    return long_name.title()\n",
        "\n",
        "  #Method to read mileage\n",
        "  def read_odometer(self):\n",
        "    \"\"\"Print a statement showing the car's mileage.\"\"\"\n",
        "    print(f\"This car has {self.odometer_reading} miles on it\")\n",
        "\n",
        "my_new_car = Car(\"audi\", \"a4\", 2024)\n",
        "print(my_new_car.get_descriptive_name())\n",
        "\n",
        "#Modifying attribute directly\n",
        "my_new_car.odometer_reading = 23\n",
        "\n",
        "my_new_car.read_odometer()"
      ],
      "metadata": {
        "id": "WfWVB7av9UY_"
      },
      "execution_count": null,
      "outputs": []
    },
    {
      "cell_type": "markdown",
      "source": [
        "## 2. Modifying an attribute's Value Through a Method"
      ],
      "metadata": {
        "id": "I4DABVBV_lSH"
      }
    },
    {
      "cell_type": "code",
      "source": [
        "class Car:\n",
        "  \"\"\"A simple attempt to represent a car.\"\"\"\n",
        "\n",
        "  def __init__(self, make, model, year):\n",
        "    \"\"\"Initialize attributes to describe a car.\"\"\"\n",
        "    self.make = make\n",
        "    self.model = model\n",
        "    self.year = year\n",
        "    #Setting a default value\n",
        "    self.odometer_reading = 0\n",
        "\n",
        "  def get_descriptive_name(self):\n",
        "    \"\"\"Return a neatly formatted descriptive name.\"\"\"\n",
        "    long_name = f\"{self.year} {self.make} {self.model}\"\n",
        "    return long_name.title()\n",
        "\n",
        "  #Method to read mileage\n",
        "  def read_odometer(self):\n",
        "    \"\"\"Print a statement showing the car's mileage.\"\"\"\n",
        "    print(f\"This car has {self.odometer_reading} miles on it\")\n",
        "\n",
        "  def update_odometer(self, mileage):\n",
        "    \"\"\"Set the odometer reading to the given value.\"\"\"\n",
        "    \"\"\"Reject the change if it attempts to roll the odometer back\"\"\"\n",
        "\n",
        "    if mileage >= self.odometer_reading:\n",
        "      self.odometer_reading = mileage\n",
        "    else:\n",
        "      print(\"You cant roll back an odometer\")\n",
        "\n",
        "my_new_car = Car(\"audi\", \"a4\", 2024)\n",
        "print(my_new_car.get_descriptive_name())\n",
        "\n",
        "my_new_car.update_odometer(23)\n",
        "my_new_car.read_odometer()"
      ],
      "metadata": {
        "colab": {
          "base_uri": "https://localhost:8080/"
        },
        "id": "RPfYaS_8_0_H",
        "outputId": "c081b869-5a33-4f77-d275-c877bcaa57ba"
      },
      "execution_count": 14,
      "outputs": [
        {
          "output_type": "stream",
          "name": "stdout",
          "text": [
            "2024 Audi A4\n",
            "This car has 23 miles on it\n"
          ]
        }
      ]
    },
    {
      "cell_type": "markdown",
      "source": [
        "## Incrementing an Attribute's Value Through a Method"
      ],
      "metadata": {
        "id": "oSr4qf_S8S-m"
      }
    },
    {
      "cell_type": "code",
      "source": [
        "class Car:\n",
        "  \"\"\"A simple attempt to represent a car.\"\"\"\n",
        "\n",
        "  def __init__(self, make, model, year):\n",
        "    \"\"\"Initialize attributes to describe a car.\"\"\"\n",
        "    self.make = make\n",
        "    self.model = model\n",
        "    self.year = year\n",
        "    #Setting a default value\n",
        "    self.odometer_reading = 0\n",
        "\n",
        "  def get_descriptive_name(self):\n",
        "    \"\"\"Return a neatly formatted descriptive name.\"\"\"\n",
        "    long_name = f\"{self.year} {self.make} {self.model}\"\n",
        "    return long_name.title()\n",
        "\n",
        "  #Method to read mileage\n",
        "  def read_odometer(self):\n",
        "    \"\"\"Print a statement showing the car's mileage.\"\"\"\n",
        "    print(f\"This car has {self.odometer_reading} miles on it\")\n",
        "\n",
        "  def update_odometer(self, mileage):\n",
        "    \"\"\"Set the odometer reading to the given value.\"\"\"\n",
        "    \"\"\"Reject the change if it attempts to roll the odometer back\"\"\"\n",
        "\n",
        "    if mileage >= self.odometer_reading:\n",
        "      self.odometer_reading = mileage\n",
        "    else:\n",
        "      print(\"You cant roll back an odometer\")\n",
        "\n",
        "  def increment_odometer(self, miles):\n",
        "    \"\"\"Add the given amount to the odometer reading.\"\"\"\n",
        "    self.odometer_reading += miles\n",
        "\n",
        "my_used_car = Car(\"subaru\", \"outback\", 2019)\n",
        "print(my_used_car.get_descriptive_name())\n",
        "\n",
        "my_used_car.update_odometer(23_500)\n",
        "my_used_car.read_odometer()\n",
        "\n",
        "my_used_car.increment_odometer(100)\n",
        "my_used_car.read_odometer()"
      ],
      "metadata": {
        "colab": {
          "base_uri": "https://localhost:8080/"
        },
        "id": "TuSooCkR8hpw",
        "outputId": "4a27be67-6d74-491d-8bba-c5fb053f4b08"
      },
      "execution_count": 2,
      "outputs": [
        {
          "output_type": "stream",
          "name": "stdout",
          "text": [
            "2019 Subaru Outback\n",
            "This car has 23500 miles on it\n",
            "This car has 23600 miles on it\n"
          ]
        }
      ]
    },
    {
      "cell_type": "markdown",
      "source": [
        "# **Inheritance **"
      ],
      "metadata": {
        "id": "CZFedlyDB2eW"
      }
    },
    {
      "cell_type": "markdown",
      "source": [
        "**The __init__() Method for a Child Class**"
      ],
      "metadata": {
        "id": "Wj58smICCHpX"
      }
    },
    {
      "cell_type": "code",
      "source": [
        "# electric_car.py\n",
        "\n",
        "class Car:\n",
        "  \"\"\"A simple attempt to represent a car.\"\"\"\n",
        "\n",
        "  def __init__(self, make, model, year):\n",
        "    \"\"\"Initialize attributes to describe a car.\"\"\"\n",
        "    self.make = make\n",
        "    self.model = model\n",
        "    self.year = year\n",
        "    #Setting a default value\n",
        "    self.odometer_reading = 0\n",
        "\n",
        "  def get_descriptive_name(self):\n",
        "    \"\"\"Return a neatly formatted descriptive name.\"\"\"\n",
        "    long_name = f\"{self.year} {self.make} {self.model}\"\n",
        "    return long_name.title()\n",
        "\n",
        "  #Method to read mileage\n",
        "  def read_odometer(self):\n",
        "    \"\"\"Print a statement showing the car's mileage.\"\"\"\n",
        "    print(f\"This car has {self.odometer_reading} miles on it\")\n",
        "\n",
        "  def update_odometer(self, mileage):\n",
        "    \"\"\"Set the odometer reading to the given value.\"\"\"\n",
        "    \"\"\"Reject the change if it attempts to roll the odometer back\"\"\"\n",
        "\n",
        "    if mileage >= self.odometer_reading:\n",
        "      self.odometer_reading = mileage\n",
        "    else:\n",
        "      print(\"You cant roll back an odometer\")\n",
        "\n",
        "  def increment_odometer(self, miles):\n",
        "    \"\"\"Add the given amount to the odometer reading.\"\"\"\n",
        "    self.odometer_reading += miles\n",
        "\n",
        "class Electric_Car(Car):\n",
        "  \"\"\"Represent aspects of a car, specific to electric vehicles.\"\"\"\n",
        "\n",
        "  def __init__(self, make, model, year):\n",
        "    \"\"\"Initialize attributes of a parent class.\"\"\"\n",
        "    super().__init__(make, model, year)\n",
        "\n",
        "my_leaf = Electric_Car(\"nissan\", \"leaf\", \"2024\")\n",
        "print(my_leaf.get_descriptive_name())"
      ],
      "metadata": {
        "colab": {
          "base_uri": "https://localhost:8080/"
        },
        "id": "GdQZhJWLBhcQ",
        "outputId": "462979f5-ad71-425e-e8ca-574903b3f8dd"
      },
      "execution_count": 3,
      "outputs": [
        {
          "output_type": "stream",
          "name": "stdout",
          "text": [
            "2024 Nissan Leaf\n"
          ]
        }
      ]
    },
    {
      "cell_type": "markdown",
      "source": [
        "### **Defining Attributes and Methods for the Child Class**"
      ],
      "metadata": {
        "id": "NzgSLc2zEJWO"
      }
    },
    {
      "cell_type": "code",
      "source": [
        "class Car:\n",
        "  \"\"\"A simple attempt to represent a car.\"\"\"\n",
        "\n",
        "  def __init__(self, make, model, year):\n",
        "    \"\"\"Initialize attributes to describe a car.\"\"\"\n",
        "    self.make = make\n",
        "    self.model = model\n",
        "    self.year = year\n",
        "    #Setting a default value\n",
        "    self.odometer_reading = 0\n",
        "\n",
        "  def get_descriptive_name(self):\n",
        "    \"\"\"Return a neatly formatted descriptive name.\"\"\"\n",
        "    long_name = f\"{self.year} {self.make} {self.model}\"\n",
        "    return long_name.title()\n",
        "\n",
        "  #Method to read mileage\n",
        "  def read_odometer(self):\n",
        "    \"\"\"Print a statement showing the car's mileage.\"\"\"\n",
        "    print(f\"This car has {self.odometer_reading} miles on it\")\n",
        "\n",
        "  def update_odometer(self, mileage):\n",
        "    \"\"\"Set the odometer reading to the given value.\"\"\"\n",
        "    \"\"\"Reject the change if it attempts to roll the odometer back\"\"\"\n",
        "\n",
        "    if mileage >= self.odometer_reading:\n",
        "      self.odometer_reading = mileage\n",
        "    else:\n",
        "      print(\"You cant roll back an odometer\")\n",
        "\n",
        "  def increment_odometer(self, miles):\n",
        "    \"\"\"Add the given amount to the odometer reading.\"\"\"\n",
        "    self.odometer_reading += miles\n",
        "\n",
        "class Electric_Car(Car):\n",
        "  \"\"\"Represent aspects of a car, specific to electric vehicles.\"\"\"\n",
        "\n",
        "  def __init__(self, make, model, year):\n",
        "    \"\"\"Initialize attributes of a parent class.\"\"\"\n",
        "    super().__init__(make, model, year)\n",
        "    \"\"\"then Initialize attributes specific to an electric car\"\"\"\n",
        "    self.battery_size = 40\n",
        "  def describe_battery(self):\n",
        "    \"\"\"Print a statement describing the battery size.\"\"\"\n",
        "    print(f\"This car has a {self.battery_size}-kWh battery.\")\n",
        "\n",
        "my_leaf = Electric_Car(\"nissan\", \"leaf\", \"2024\")\n",
        "print(my_leaf.get_descriptive_name())\n",
        "\n",
        "my_leaf.describe_battery()\n",
        "\n"
      ],
      "metadata": {
        "colab": {
          "base_uri": "https://localhost:8080/"
        },
        "id": "67j5YuPiEdZL",
        "outputId": "d4757b78-d7aa-4328-d106-cfd2fec26270"
      },
      "execution_count": 4,
      "outputs": [
        {
          "output_type": "stream",
          "name": "stdout",
          "text": [
            "2024 Nissan Leaf\n",
            "This car has a 40-kWh battery.\n"
          ]
        }
      ]
    },
    {
      "cell_type": "markdown",
      "source": [
        "# **Overriding Methods from the Parent Class**"
      ],
      "metadata": {
        "id": "2ydwhWGYIASs"
      }
    },
    {
      "cell_type": "code",
      "source": [
        "#define a method in the child class with the same name as the method you want to overide\n",
        "#in the parent class."
      ],
      "metadata": {
        "id": "Ad09JIp0IJOc"
      },
      "execution_count": null,
      "outputs": []
    },
    {
      "cell_type": "code",
      "source": [
        "class Electric_Car(Car):\n",
        "\n",
        "  #--snip--\n",
        "\n",
        "  def fill_gas_tank(self):\n",
        "    \"\"\"Electric cars dont have gas tanks.\"\"\"\n",
        "    print(\"This car doesnt have a gas tank!\")"
      ],
      "metadata": {
        "id": "S0J6mb4ZIk7E"
      },
      "execution_count": null,
      "outputs": []
    },
    {
      "cell_type": "markdown",
      "source": [
        "# **Instances as Attributes**"
      ],
      "metadata": {
        "id": "p7wfpWAGJiFu"
      }
    },
    {
      "cell_type": "code",
      "source": [
        "class Car:\n",
        "  \"\"\"A simple attempt to represent a car.\"\"\"\n",
        "\n",
        "  def __init__(self, make, model, year):\n",
        "    \"\"\"Initialize attributes to describe a car.\"\"\"\n",
        "    self.make = make\n",
        "    self.model = model\n",
        "    self.year = year\n",
        "    #Setting a default value\n",
        "    self.odometer_reading = 0\n",
        "\n",
        "  def get_descriptive_name(self):\n",
        "    \"\"\"Return a neatly formatted descriptive name.\"\"\"\n",
        "    long_name = f\"{self.year} {self.make} {self.model}\"\n",
        "    return long_name.title()\n",
        "\n",
        "  #Method to read mileage\n",
        "  def read_odometer(self):\n",
        "    \"\"\"Print a statement showing the car's mileage.\"\"\"\n",
        "    print(f\"This car has {self.odometer_reading} miles on it\")\n",
        "\n",
        "  def update_odometer(self, mileage):\n",
        "    \"\"\"Set the odometer reading to the given value.\"\"\"\n",
        "    \"\"\"Reject the change if it attempts to roll the odometer back\"\"\"\n",
        "\n",
        "    if mileage >= self.odometer_reading:\n",
        "      self.odometer_reading = mileage\n",
        "    else:\n",
        "      print(\"You cant roll back an odometer\")\n",
        "\n",
        "  def increment_odometer(self, miles):\n",
        "    \"\"\"Add the given amount to the odometer reading.\"\"\"\n",
        "    self.odometer_reading += miles\n",
        "\n",
        "class Battery:\n",
        "  \"\"\"A simple attempt to model a battery for an electric car.\"\"\"\n",
        "\n",
        "  def __init__(self, battery_size=40):\n",
        "    \"\"\"Initialize the battery's attributes.\"\"\"\n",
        "    self.battery_size = battery_size\n",
        "\n",
        "  def describe_battery(self):\n",
        "    \"\"\"Print the statment describing the battery size.\"\"\"\n",
        "    print(f\"This car has a {self.battery_size}-kWh battery.\")\n",
        "\n",
        "  def get_range(self):\n",
        "    \"\"\"Print a statment about the range this battery provides.\"\"\"\n",
        "    if self.battery_size == 40:\n",
        "      range = 150\n",
        "    elif self.battery_size == 65:\n",
        "      range = 225\n",
        "\n",
        "    print(f\"This car can go about {range} miles on a full charge.\")\n",
        "\n",
        "class Electric_Car(Car):\n",
        "  \"\"\"Represent aspects of a car, specific to electric vehicles.\"\"\"\n",
        "\n",
        "  def __init__(self, make, model, year):\n",
        "    \"\"\"Initialize attributes of a parent class.\"\"\"\n",
        "    super().__init__(make, model, year)\n",
        "    \"\"\"then Initialize attributes specific to an electric car\"\"\"\n",
        "    self.battery = Battery()\n",
        "\n",
        "\n",
        "my_leaf = Electric_Car(\"nissan\", \"leaf\", \"2024\")\n",
        "print(my_leaf.get_descriptive_name())\n",
        "\n",
        "my_leaf.battery.describe_battery()\n",
        "my_leaf.battery.get_range()"
      ],
      "metadata": {
        "colab": {
          "base_uri": "https://localhost:8080/"
        },
        "id": "xOKblYBYJoIm",
        "outputId": "0bcb1a6d-6ed2-41e2-9f64-9558c7a375fb"
      },
      "execution_count": 6,
      "outputs": [
        {
          "output_type": "stream",
          "name": "stdout",
          "text": [
            "2024 Nissan Leaf\n",
            "This car has a 40-kWh battery.\n",
            "This car can go about 150 miles on a full charge.\n"
          ]
        }
      ]
    },
    {
      "cell_type": "markdown",
      "source": [
        "# **Try It Yourself**"
      ],
      "metadata": {
        "id": "lGMrzAgnQ6d7"
      }
    },
    {
      "cell_type": "code",
      "source": [
        "# 9-6 Ice Cream Stand\n",
        "\n",
        "class Restaurant:\n",
        "  \"\"\"Modeling a Restaurant\"\"\"\n",
        "\n",
        "  def __init__(self, restaurant_name, cuisine_type):\n",
        "    \"\"\"Initialize restaurant_name and cuisine_type attributes.\"\"\"\n",
        "    self.restaurant_name = restaurant_name\n",
        "    self.cuisine_type = cuisine_type\n",
        "\n",
        "  def describe_restaurant(self):\n",
        "    \"\"\"describes the restaurant\"\"\"\n",
        "    print(f\"\\nThe restaurant is {self.restaurant_name}\")\n",
        "    print(f\"The cuisine type is {self.cuisine_type}\")\n",
        "\n",
        "  def open_restaurant(self):\n",
        "    \"\"\"describes if the restaurant is open\"\"\"\n",
        "    print(f\"{self.restaurant_name} is open!!\")\n",
        "\n",
        "#an instance called restuarant\n",
        "restaurant = Restaurant(\"Olive Garden\", \"Italian\")\n",
        "\n",
        "#accessing Attributes by using dot notation\n",
        "#print(f\"The restuarants name is {restaurant.restaurant_name}.\")\n",
        "#print(f\"The cuisine type is {restaurant.cuisine_type}.\")\n",
        "\n",
        "class IceCreamStand(Restaurant):\n",
        "  \"\"\"Represents a restaurant, specific to a Ice Cream Stand.\"\"\"\n",
        "\n",
        "  def __init__(self, restaurant_name, cuisine_type):\n",
        "    \"\"\"Initialize attributes of a parent class.\"\"\"\n",
        "    super().__init__(restaurant_name, cuisine_type)\n",
        "    self.flavors = [\"vanilla\", \"chocolate\"]\n",
        "\n",
        "  def describe_flavors(self):\n",
        "    print(f\"The IceCream flavors are {self.flavors}\")\n",
        "\n",
        "restaurant2 = IceCreamStand(\"IceCreamStand\", \"Desert\")\n",
        "\n",
        "restaurant2.describe_restaurant()\n",
        "restaurant2.describe_flavors()\n",
        "\n",
        "#calling both methods\n",
        "restaurant.describe_restaurant()\n",
        "restaurant.open_restaurant()\n"
      ],
      "metadata": {
        "colab": {
          "base_uri": "https://localhost:8080/"
        },
        "id": "S_dQD5mUQ5H2",
        "outputId": "94ab0650-09b4-48a0-d3d4-e28b24918985"
      },
      "execution_count": 59,
      "outputs": [
        {
          "output_type": "stream",
          "name": "stdout",
          "text": [
            "\n",
            "The restaurant is IceCreamStand\n",
            "The cuisine type is Desert\n",
            "The IceCream flavors are ['vanilla', 'chocolate']\n",
            "\n",
            "The restaurant is Olive Garden\n",
            "The cuisine type is Italian\n",
            "Olive Garden is open!!\n"
          ]
        }
      ]
    },
    {
      "cell_type": "code",
      "source": [
        "# 9-7 Admin\n",
        "\n",
        "class Users:\n",
        "  \"\"\"Modeling user profiles\"\"\"\n",
        "\n",
        "  def __init__(self, first_name, last_name, age, sex):\n",
        "    \"\"\"Initialize first name and last name attributes\"\"\"\n",
        "    self.first_name = first_name\n",
        "    self.last_name = last_name\n",
        "    self.age = age\n",
        "    self.sex = sex\n",
        "\n",
        "  def describe_user(self):\n",
        "    \"\"\"Describes the User\"\"\"\n",
        "    print(f\"\\n{self.first_name} {self.last_name} {self.age} {self.sex}\")\n",
        "\n",
        "  def greet_user(self):\n",
        "    \"\"\"Simulates greeting the user\"\"\"\n",
        "    print(f\"Hello {self.first_name} {self.last_name}\")\n",
        "\n",
        "#creating multiple instances of users\n",
        "user_1 = Users(\"Nick\", \"Cabrera\", 38, \"Male\")\n",
        "user_2 = Users(\"Andre\", \"Leon\", 28, \"Male\")\n",
        "user_3 = Users(\"Matt\", \"Hughey\", 30, \"Male\")\n",
        "\n",
        "user_1.describe_user()\n",
        "user_1.greet_user()\n",
        "\n",
        "user_2.describe_user()\n",
        "user_2.greet_user()\n",
        "\n",
        "user_3.describe_user()\n",
        "user_3.greet_user()\n",
        "\n",
        "class Admin(Users):\n",
        "  \"\"\"Represents admins, specific to privileges.\"\"\"\n",
        "\n",
        "  def __init__(self, first_name, last_name, age, sex):\n",
        "    \"\"\"Initialize attributes of a parent class.\"\"\"\n",
        "    super().__init__(first_name, last_name, age, sex)\n",
        "    self.privileges = [\"can add post\", \"can delete post\", \"can ban user\"]\n",
        "\n",
        "  def show_privileges(self):\n",
        "    print(f\"These Users admin privileges are {self.privileges}\")\n",
        "\n",
        "Admin1 = Admin(\"Nick\", \"Cabrera\", 38, \"Male\")\n",
        "\n",
        "Admin1.describe_user()\n",
        "Admin1.show_privileges()\n",
        "\n",
        "print(f\"{Admin1.last_name} will be the Network Administrator indefinitly\")"
      ],
      "metadata": {
        "colab": {
          "base_uri": "https://localhost:8080/"
        },
        "id": "c5pPX6JQu5b8",
        "outputId": "9baa84fa-31b0-41c4-844a-df9563a9df07"
      },
      "execution_count": 63,
      "outputs": [
        {
          "output_type": "stream",
          "name": "stdout",
          "text": [
            "\n",
            "Nick Cabrera 38 Male\n",
            "Hello Nick Cabrera\n",
            "\n",
            "Andre Leon 28 Male\n",
            "Hello Andre Leon\n",
            "\n",
            "Matt Hughey 30 Male\n",
            "Hello Matt Hughey\n",
            "\n",
            "Nick Cabrera 38 Male\n",
            "These Users admin privileges are ['can add post', 'can delete post', 'can ban user']\n",
            "Cabrera will be the Network Administrator indefinitly\n"
          ]
        }
      ]
    }
  ]
}