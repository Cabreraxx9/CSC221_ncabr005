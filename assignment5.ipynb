{
  "nbformat": 4,
  "nbformat_minor": 0,
  "metadata": {
    "colab": {
      "provenance": [],
      "authorship_tag": "ABX9TyOco5FPf1VmSwiOXZt2oKz4",
      "include_colab_link": true
    },
    "kernelspec": {
      "name": "python3",
      "display_name": "Python 3"
    },
    "language_info": {
      "name": "python"
    }
  },
  "cells": [
    {
      "cell_type": "markdown",
      "metadata": {
        "id": "view-in-github",
        "colab_type": "text"
      },
      "source": [
        "<a href=\"https://colab.research.google.com/github/Cabreraxx9/CSC221_ncabr005/blob/main/assignment5.ipynb\" target=\"_parent\"><img src=\"https://colab.research.google.com/assets/colab-badge.svg\" alt=\"Open In Colab\"/></a>"
      ]
    },
    {
      "cell_type": "markdown",
      "source": [
        "magicians.py"
      ],
      "metadata": {
        "id": "uV7AJtlPDTZ0"
      }
    },
    {
      "cell_type": "code",
      "execution_count": 3,
      "metadata": {
        "id": "KPnTIR8Blfo0",
        "colab": {
          "base_uri": "https://localhost:8080/"
        },
        "outputId": "d361ba7d-af57-4dbb-aa73-a369bf1dad96"
      },
      "outputs": [
        {
          "output_type": "stream",
          "name": "stdout",
          "text": [
            "alice\n",
            "david\n",
            "carolina\n"
          ]
        }
      ],
      "source": [
        "#looping throught an entire list\n",
        "\n",
        "magicians = [\"alice\", \"david\", \"carolina\"]\n",
        "for magician in magicians:\n",
        "  print(magician)"
      ]
    },
    {
      "cell_type": "code",
      "source": [
        "#building on each item in the for loop\n",
        "\n",
        "magicians = [\"alice\", \"david\", \"carolina\"]\n",
        "for magician in magicians:\n",
        "  print(f\"{magician.title()}, that was a crazy trick!!\")"
      ],
      "metadata": {
        "colab": {
          "base_uri": "https://localhost:8080/"
        },
        "id": "3jiprH--8lKM",
        "outputId": "beb0e7f9-104b-44a4-a0d5-182b32d89a75"
      },
      "execution_count": 2,
      "outputs": [
        {
          "output_type": "stream",
          "name": "stdout",
          "text": [
            "Alice, that was a crazy trick!!\n",
            "David, that was a crazy trick!!\n",
            "Carolina, that was a crazy trick!!\n"
          ]
        }
      ]
    },
    {
      "cell_type": "code",
      "source": [
        "#building more on each item withn the loop and using \"newline\" to make messages neater\n",
        "\n",
        "magicians = [\"alice\", \"david\", \"carolina\"]\n",
        "for magician in magicians:\n",
        "  print(f\"{magician.title()}, that was a crazy trick!!\")\n",
        "  print(f\"I cant wait to see your next trick, {magician.title()}.\\n\")"
      ],
      "metadata": {
        "colab": {
          "base_uri": "https://localhost:8080/"
        },
        "id": "99HzomUa-jhE",
        "outputId": "35d80e1b-212b-478a-a07f-c969d699ba99"
      },
      "execution_count": 4,
      "outputs": [
        {
          "output_type": "stream",
          "name": "stdout",
          "text": [
            "Alice, that was a crazy trick!!\n",
            "I cant wait to see your next trick, Alice.\n",
            "\n",
            "David, that was a crazy trick!!\n",
            "I cant wait to see your next trick, David.\n",
            "\n",
            "Carolina, that was a crazy trick!!\n",
            "I cant wait to see your next trick, Carolina.\n",
            "\n"
          ]
        }
      ]
    },
    {
      "cell_type": "code",
      "source": [
        "#Doing something after the Forloop. usually will want a message summarizing a block of code. NO IDENTATION!\n",
        "\n",
        "magicians = [\"alice\", \"david\", \"carolina\"]\n",
        "for magician in magicians:\n",
        "  print(f\"{magician.title()}, that was a crazy trick!!\")\n",
        "  print(f\"I cant wait to see your next trick, {magician.title()}.\\n\")\n",
        "\n",
        "print(\"Thank you, everyone. That was a weird magic show!\")"
      ],
      "metadata": {
        "colab": {
          "base_uri": "https://localhost:8080/"
        },
        "id": "0dC3HudXAHok",
        "outputId": "fc2fce18-a114-4f44-c0bc-fb7c955b1951"
      },
      "execution_count": 5,
      "outputs": [
        {
          "output_type": "stream",
          "name": "stdout",
          "text": [
            "Alice, that was a crazy trick!!\n",
            "I cant wait to see your next trick, Alice.\n",
            "\n",
            "David, that was a crazy trick!!\n",
            "I cant wait to see your next trick, David.\n",
            "\n",
            "Carolina, that was a crazy trick!!\n",
            "I cant wait to see your next trick, Carolina.\n",
            "\n",
            "Thank you, everyone. That was a weird magic show!\n"
          ]
        }
      ]
    },
    {
      "cell_type": "markdown",
      "source": [
        "**Avoid indentation errors under a for loop by not forgetting to indent and not forgetting to indent with any additional lines.**\n",
        "\n",
        "**No indentation needed under anything thats not a loop!!**\n",
        "\n",
        "**Dont forget to not indent the summarized line so its out of the loop and is not repeated unnecessarily.**\n",
        "\n",
        "**Dont forget the colon after the Forloop statement so python can interpret the next line as the start to the loop**\n",
        "\n",
        "**Dont be so hard on yourself nick if you create an error because python's Tracebacks tell where the error is occurring. **"
      ],
      "metadata": {
        "id": "8os6RdnnBSok"
      }
    },
    {
      "cell_type": "code",
      "source": [
        "#Try it Yourself\n",
        "\n",
        "pizzas = [\"pepperoni\", \"cheese\", \"meatlovers\"]\n",
        "\n",
        "for pizza in pizzas:\n",
        "  print(f\"I like {pizza} pizza !!\")\n",
        "\n",
        "pizzas.append(\"sausage\")\n",
        "friend_pizza = pizzas[:]\n",
        "\n",
        "friend_pizza.append(\"romeo chicken\")\n",
        "\n",
        "print(f\"\\nMy favorite pizzas are:\")\n",
        "for pizza in pizzas:\n",
        "  print(pizza)\n",
        "\n",
        "print(f\"\\nMy friends favorite pizza are:\")\n",
        "for pizza in pizzas:\n",
        "    print(friend_pizza)\n",
        "\n",
        "print(\"\\nI really love pizza but i no longer can eat it because im on a diet\\n\")\n",
        "print(f\"If i were to have any pizza it would be {pizzas[0]}\")\n",
        "print(f\"If im feeling crazy then ill go for a stuffed crust cowbunga style {pizzas[2]}\")"
      ],
      "metadata": {
        "colab": {
          "base_uri": "https://localhost:8080/"
        },
        "id": "SRATrFyQEYcx",
        "outputId": "37781492-f2e7-43a6-8e3a-e55950793050"
      },
      "execution_count": 72,
      "outputs": [
        {
          "output_type": "stream",
          "name": "stdout",
          "text": [
            "I like pepperoni pizza !!\n",
            "I like cheese pizza !!\n",
            "I like meatlovers pizza !!\n",
            "\n",
            "My favorite pizzas are:\n",
            "pepperoni\n",
            "cheese\n",
            "meatlovers\n",
            "sausage\n",
            "\n",
            "My friends favorite pizza are:\n",
            "['pepperoni', 'cheese', 'meatlovers', 'sausage', 'romeo chicken']\n",
            "['pepperoni', 'cheese', 'meatlovers', 'sausage', 'romeo chicken']\n",
            "['pepperoni', 'cheese', 'meatlovers', 'sausage', 'romeo chicken']\n",
            "['pepperoni', 'cheese', 'meatlovers', 'sausage', 'romeo chicken']\n",
            "\n",
            "I really love pizza but i no longer can eat it because im on a diet\n",
            "\n",
            "If i were to have any pizza it would be pepperoni\n",
            "If im feeling crazy then ill go for a stuffed crust cowbunga style meatlovers\n"
          ]
        }
      ]
    },
    {
      "cell_type": "code",
      "source": [
        "animals = [\"dog\", \"cat\", \"bird\"]\n",
        "for animal in animals:\n",
        "  print(f\"A {animal} would make such a good pet\\n\")\n",
        "\n",
        "print(\"Any of these pets would make a great pet\")"
      ],
      "metadata": {
        "colab": {
          "base_uri": "https://localhost:8080/"
        },
        "id": "DltG2yvFGpvf",
        "outputId": "1954345d-4295-4df7-f3c0-b791290254fd"
      },
      "execution_count": 33,
      "outputs": [
        {
          "output_type": "stream",
          "name": "stdout",
          "text": [
            "A dog would make such a good pet\n",
            "\n",
            "A cat would make such a good pet\n",
            "\n",
            "A bird would make such a good pet\n",
            "\n",
            "Any of these pets would make a great pet\n"
          ]
        }
      ]
    },
    {
      "cell_type": "markdown",
      "source": [
        "first_numbers.py"
      ],
      "metadata": {
        "id": "Hj2VNm4IOjhw"
      }
    },
    {
      "cell_type": "code",
      "source": [
        "#making numerical lists\n",
        "\n",
        "#using range() Function\n",
        "\n",
        "for value in range(0,6):\n",
        "  print(value)"
      ],
      "metadata": {
        "colab": {
          "base_uri": "https://localhost:8080/"
        },
        "id": "7zF9SR-VOvbX",
        "outputId": "b3997a37-42d7-43a8-b6fd-e5ff5c727518"
      },
      "execution_count": 38,
      "outputs": [
        {
          "output_type": "stream",
          "name": "stdout",
          "text": [
            "0\n",
            "1\n",
            "2\n",
            "3\n",
            "4\n",
            "5\n"
          ]
        }
      ]
    },
    {
      "cell_type": "code",
      "source": [
        "#using range to make a list of numbers\n",
        "\n",
        "numbers = list(range(1,6))\n",
        "print(numbers)"
      ],
      "metadata": {
        "colab": {
          "base_uri": "https://localhost:8080/"
        },
        "id": "UWrZOVcEPeUh",
        "outputId": "b0b76253-c64e-4e67-9f87-146bd645d9c0"
      },
      "execution_count": 39,
      "outputs": [
        {
          "output_type": "stream",
          "name": "stdout",
          "text": [
            "[1, 2, 3, 4, 5]\n"
          ]
        }
      ]
    },
    {
      "cell_type": "markdown",
      "source": [
        "even_numbers.py"
      ],
      "metadata": {
        "id": "-qwCjemuQ2ac"
      }
    },
    {
      "cell_type": "code",
      "source": [
        "#if you use pass a 3rd argument in range it will use it as a step size\n",
        "\n",
        "even_numbers = list(range(2,11,2))\n",
        "print(even_numbers)"
      ],
      "metadata": {
        "colab": {
          "base_uri": "https://localhost:8080/"
        },
        "id": "bRRcLhlXQ53G",
        "outputId": "01ad908b-ebd8-4208-f46e-7e29223da35e"
      },
      "execution_count": 40,
      "outputs": [
        {
          "output_type": "stream",
          "name": "stdout",
          "text": [
            "[2, 4, 6, 8, 10]\n"
          ]
        }
      ]
    },
    {
      "cell_type": "markdown",
      "source": [
        "square_numbers.py"
      ],
      "metadata": {
        "id": "MDFGkcJURfLt"
      }
    },
    {
      "cell_type": "code",
      "source": [
        "squares =[]\n",
        "for value in range(1,11):\n",
        "  square = value **2\n",
        "  squares.append(square)\n",
        "\n",
        "print(squares)"
      ],
      "metadata": {
        "colab": {
          "base_uri": "https://localhost:8080/"
        },
        "id": "AzlluVPiRdd7",
        "outputId": "bd4cdf1f-f741-4373-96db-d3371ab66493"
      },
      "execution_count": 41,
      "outputs": [
        {
          "output_type": "stream",
          "name": "stdout",
          "text": [
            "[1, 4, 9, 16, 25, 36, 49, 64, 81, 100]\n"
          ]
        }
      ]
    },
    {
      "cell_type": "code",
      "source": [
        "#more consisely code than the previous one that does the same thing. Sometimes using a temporary variable makes code easier to read\n",
        "\n",
        "squares =[]\n",
        "for value in range(1,11):\n",
        "  squares.append(value **2)\n",
        "\n",
        "print(squares)"
      ],
      "metadata": {
        "colab": {
          "base_uri": "https://localhost:8080/"
        },
        "id": "3rOANTmMxKgt",
        "outputId": "3b0ff9fc-afbd-4fcb-a40c-8dc6d172b045"
      },
      "execution_count": 1,
      "outputs": [
        {
          "output_type": "stream",
          "name": "stdout",
          "text": [
            "[1, 4, 9, 16, 25, 36, 49, 64, 81, 100]\n"
          ]
        }
      ]
    },
    {
      "cell_type": "code",
      "source": [
        "#Simple statistics with a list of number\n",
        "\n",
        "digits = [1, 2, 3 ,4 ,5 ,6 ,7 ,8 ,9 ,0]\n",
        "min(digits)\n"
      ],
      "metadata": {
        "colab": {
          "base_uri": "https://localhost:8080/"
        },
        "id": "kUzGnkKIyQS4",
        "outputId": "9a553704-b890-4222-b7e6-ae1c3b1e8e5a"
      },
      "execution_count": 13,
      "outputs": [
        {
          "output_type": "execute_result",
          "data": {
            "text/plain": [
              "0"
            ]
          },
          "metadata": {},
          "execution_count": 13
        }
      ]
    },
    {
      "cell_type": "code",
      "source": [
        "digits = [1, 2, 3 ,4 ,5 ,6 ,7 ,8 ,9 ,0]\n",
        "max(digits)"
      ],
      "metadata": {
        "colab": {
          "base_uri": "https://localhost:8080/"
        },
        "id": "Nyvk0EafzTsG",
        "outputId": "2c08a4e2-4092-461f-dd6e-436451432469"
      },
      "execution_count": 15,
      "outputs": [
        {
          "output_type": "execute_result",
          "data": {
            "text/plain": [
              "9"
            ]
          },
          "metadata": {},
          "execution_count": 15
        }
      ]
    },
    {
      "cell_type": "code",
      "source": [
        "digits = [1, 2, 3 ,4 ,5 ,6 ,7 ,8 ,9 ,0]\n",
        "sum(digits)"
      ],
      "metadata": {
        "colab": {
          "base_uri": "https://localhost:8080/"
        },
        "id": "0WeOtVmizcpZ",
        "outputId": "fc066dc7-1559-4f39-e9b4-fc8d056a8d99"
      },
      "execution_count": 16,
      "outputs": [
        {
          "output_type": "execute_result",
          "data": {
            "text/plain": [
              "45"
            ]
          },
          "metadata": {},
          "execution_count": 16
        }
      ]
    },
    {
      "cell_type": "code",
      "source": [
        "#List comprehension\n",
        "\n",
        "squares = [value**2 for value in range(1,11)]\n",
        "print(squares)"
      ],
      "metadata": {
        "colab": {
          "base_uri": "https://localhost:8080/"
        },
        "id": "G6z52O9vz7oR",
        "outputId": "5f349002-c052-49e9-e4f6-b342f3c16140"
      },
      "execution_count": 17,
      "outputs": [
        {
          "output_type": "stream",
          "name": "stdout",
          "text": [
            "[1, 4, 9, 16, 25, 36, 49, 64, 81, 100]\n"
          ]
        }
      ]
    },
    {
      "cell_type": "code",
      "source": [
        "#TRY IT YOURSELF\n",
        "\n",
        "#counting to twenty in a for loop\n",
        "\n",
        "for value in range(1,21):\n",
        "  print(value)"
      ],
      "metadata": {
        "id": "mcXVGtt51OMG"
      },
      "execution_count": null,
      "outputs": []
    },
    {
      "cell_type": "code",
      "source": [
        "#One Million    list of numbers from 1 to 1 million change it see if it was working and it told me it stopped for a fail safe from keeping the notebook from crashing\n",
        "\n",
        "numbers =[]\n",
        "for number in range(1,10):\n",
        "  numbers.append(number)\n",
        "\n",
        "print(numbers)\n"
      ],
      "metadata": {
        "colab": {
          "base_uri": "https://localhost:8080/"
        },
        "id": "DL4kYbvE2HLa",
        "outputId": "3ec82427-a9f6-4407-e2b0-9bea4e54d003"
      },
      "execution_count": 23,
      "outputs": [
        {
          "output_type": "stream",
          "name": "stdout",
          "text": [
            "[1, 2, 3, 4, 5, 6, 7, 8, 9]\n"
          ]
        }
      ]
    },
    {
      "cell_type": "code",
      "source": [
        "#summing a million\n",
        "\n",
        "numbers = list(range(1,1000000))\n",
        "min(numbers)"
      ],
      "metadata": {
        "colab": {
          "base_uri": "https://localhost:8080/"
        },
        "id": "U8Ata_j64z5-",
        "outputId": "72a0a659-d693-4766-cd6a-0a7fa92a73f9"
      },
      "execution_count": 24,
      "outputs": [
        {
          "output_type": "execute_result",
          "data": {
            "text/plain": [
              "1"
            ]
          },
          "metadata": {},
          "execution_count": 24
        }
      ]
    },
    {
      "cell_type": "code",
      "source": [
        "numbers = list(range(1,1000001))\n",
        "max(numbers)"
      ],
      "metadata": {
        "colab": {
          "base_uri": "https://localhost:8080/"
        },
        "id": "k-jzx7Wd6RC2",
        "outputId": "d6bd181c-8391-4417-834f-6a73ce8051e7"
      },
      "execution_count": 26,
      "outputs": [
        {
          "output_type": "execute_result",
          "data": {
            "text/plain": [
              "1000000"
            ]
          },
          "metadata": {},
          "execution_count": 26
        }
      ]
    },
    {
      "cell_type": "code",
      "source": [
        "numbers = list(range(1,1000001))\n",
        "sum(numbers)"
      ],
      "metadata": {
        "colab": {
          "base_uri": "https://localhost:8080/"
        },
        "id": "J8pNiwPE6da0",
        "outputId": "28985268-a78c-4383-f31e-a06704a4f0ef"
      },
      "execution_count": 27,
      "outputs": [
        {
          "output_type": "execute_result",
          "data": {
            "text/plain": [
              "500000500000"
            ]
          },
          "metadata": {},
          "execution_count": 27
        }
      ]
    },
    {
      "cell_type": "code",
      "source": [
        "#odd numbers\n",
        "\n",
        "for oddnumber in range(1,21,2):\n",
        "  print(oddnumber)"
      ],
      "metadata": {
        "colab": {
          "base_uri": "https://localhost:8080/"
        },
        "id": "_i2tR7jF6mhF",
        "outputId": "c36d6c95-48ed-4a09-e191-cc2310596211"
      },
      "execution_count": 30,
      "outputs": [
        {
          "output_type": "stream",
          "name": "stdout",
          "text": [
            "1\n",
            "3\n",
            "5\n",
            "7\n",
            "9\n",
            "11\n",
            "13\n",
            "15\n",
            "17\n",
            "19\n"
          ]
        }
      ]
    },
    {
      "cell_type": "code",
      "source": [
        "#by threes\n",
        "\n",
        "threes =[]\n",
        "for three in range(3,30,3):\n",
        "  threes.append(three)\n",
        "\n",
        "print(threes)"
      ],
      "metadata": {
        "colab": {
          "base_uri": "https://localhost:8080/"
        },
        "id": "A9AmkwW97cXN",
        "outputId": "08431b62-5f13-441b-9824-d495bd0fe436"
      },
      "execution_count": 35,
      "outputs": [
        {
          "output_type": "stream",
          "name": "stdout",
          "text": [
            "[3, 6, 9, 12, 15, 18, 21, 24, 27]\n"
          ]
        }
      ]
    },
    {
      "cell_type": "code",
      "source": [
        "#cubes"
      ],
      "metadata": {
        "id": "og8pKa5e8MUf"
      },
      "execution_count": null,
      "outputs": []
    },
    {
      "cell_type": "code",
      "source": [
        "cubes =[]\n",
        "for cube in range(1,11):\n",
        "  cubes.append(cube **3)\n",
        "print(cubes)\n"
      ],
      "metadata": {
        "colab": {
          "base_uri": "https://localhost:8080/"
        },
        "id": "7JOTYGeS87Mi",
        "outputId": "99cce83d-be32-40c1-9a05-d1cdec24be89"
      },
      "execution_count": 39,
      "outputs": [
        {
          "output_type": "stream",
          "name": "stdout",
          "text": [
            "[1, 8, 27, 64, 125, 216, 343, 512, 729, 1000]\n"
          ]
        }
      ]
    },
    {
      "cell_type": "code",
      "source": [
        "#cube comprehension\n",
        "\n",
        "cubes = [number**2 for number in range(1,11)]\n",
        "print(cubes)"
      ],
      "metadata": {
        "colab": {
          "base_uri": "https://localhost:8080/"
        },
        "id": "8kdfDr1s9YoB",
        "outputId": "1b710c11-431f-4d6a-dcdf-5cabcbe9ba25"
      },
      "execution_count": 42,
      "outputs": [
        {
          "output_type": "stream",
          "name": "stdout",
          "text": [
            "[1, 4, 9, 16, 25, 36, 49, 64, 81, 100]\n"
          ]
        }
      ]
    },
    {
      "cell_type": "markdown",
      "source": [
        "players.py"
      ],
      "metadata": {
        "id": "-IXBTBYXDFRi"
      }
    },
    {
      "cell_type": "code",
      "source": [
        "#working with part of a list\n",
        "#slicing a list\n",
        "\n",
        "players = [\"charles\", \"martina\", \"micheal\", \"florence\", \"eli\"]\n",
        "print(players[0:3])"
      ],
      "metadata": {
        "colab": {
          "base_uri": "https://localhost:8080/"
        },
        "id": "WICwIQ5M_pEQ",
        "outputId": "8457e798-339e-4e46-9a03-e27326e18461"
      },
      "execution_count": 43,
      "outputs": [
        {
          "output_type": "stream",
          "name": "stdout",
          "text": [
            "['charles', 'martina', 'micheal']\n"
          ]
        }
      ]
    },
    {
      "cell_type": "code",
      "source": [
        "#subset of a list\n",
        "\n",
        "players = [\"charles\", \"martina\", \"micheal\", \"florence\", \"eli\"]\n",
        "print(players[1:5])"
      ],
      "metadata": {
        "colab": {
          "base_uri": "https://localhost:8080/"
        },
        "id": "nG2fP8qcD83J",
        "outputId": "9e6bffec-a619-433b-9708-339966df1f9f"
      },
      "execution_count": 44,
      "outputs": [
        {
          "output_type": "stream",
          "name": "stdout",
          "text": [
            "['martina', 'micheal', 'florence', 'eli']\n"
          ]
        }
      ]
    },
    {
      "cell_type": "code",
      "source": [
        "#omitting the first index\n",
        "\n",
        "players = [\"charles\", \"martina\", \"micheal\", \"florence\", \"eli\"]\n",
        "print(players[:4])"
      ],
      "metadata": {
        "colab": {
          "base_uri": "https://localhost:8080/"
        },
        "id": "AEnO3tjQEqQH",
        "outputId": "41d50acf-0650-4f59-f504-217446ff248a"
      },
      "execution_count": 45,
      "outputs": [
        {
          "output_type": "stream",
          "name": "stdout",
          "text": [
            "['charles', 'martina', 'micheal', 'florence']\n"
          ]
        }
      ]
    },
    {
      "cell_type": "code",
      "source": [
        "#omtting the second index\n",
        "\n",
        "players = [\"charles\", \"martina\", \"micheal\", \"florence\", \"eli\"]\n",
        "print(players[2:])"
      ],
      "metadata": {
        "colab": {
          "base_uri": "https://localhost:8080/"
        },
        "id": "VzsrlpkSE5vo",
        "outputId": "5b184d8e-fbef-47ba-83c3-6b587a6c966f"
      },
      "execution_count": 46,
      "outputs": [
        {
          "output_type": "stream",
          "name": "stdout",
          "text": [
            "['micheal', 'florence', 'eli']\n"
          ]
        }
      ]
    },
    {
      "cell_type": "code",
      "source": [
        "players = [\"charles\", \"martina\", \"micheal\", \"florence\", \"eli\"]\n",
        "print(players[-3:])"
      ],
      "metadata": {
        "colab": {
          "base_uri": "https://localhost:8080/"
        },
        "id": "MVOC7W8Zkprv",
        "outputId": "e31ee1c4-5c59-4ae1-d04f-279083881999"
      },
      "execution_count": 1,
      "outputs": [
        {
          "output_type": "stream",
          "name": "stdout",
          "text": [
            "['micheal', 'florence', 'eli']\n"
          ]
        }
      ]
    },
    {
      "cell_type": "code",
      "source": [
        "#looping through a slice\n",
        "players = [\"charles\", \"martina\", \"micheal\", \"florence\", \"eli\"]\n",
        "\n",
        "print(\"Here are the first three players on my team:\\n\")\n",
        "\n",
        "for player in players[:3]:\n",
        "  print(player.title())"
      ],
      "metadata": {
        "colab": {
          "base_uri": "https://localhost:8080/"
        },
        "id": "o265wwY6lITs",
        "outputId": "da1c4d84-ccdf-4799-d3eb-225f4a97d881"
      },
      "execution_count": 6,
      "outputs": [
        {
          "output_type": "stream",
          "name": "stdout",
          "text": [
            "Here are the first three players on my team:\n",
            "\n",
            "Charles\n",
            "Martina\n",
            "Micheal\n"
          ]
        }
      ]
    },
    {
      "cell_type": "code",
      "source": [],
      "metadata": {
        "id": "0-W6LE7Kmmo8"
      },
      "execution_count": null,
      "outputs": []
    },
    {
      "cell_type": "markdown",
      "source": [
        "foods.py"
      ],
      "metadata": {
        "id": "mmnPM_gkmnZv"
      }
    },
    {
      "cell_type": "code",
      "source": [
        "my_foods = [\"pizza\", \"falafel\", \"carrot cake\", \"snickers\"]\n",
        "friend_foods = my_foods[:]\n",
        "\n",
        "my_foods.append(\"sundae\")\n",
        "friend_foods.append(\"protein shake\")\n",
        "\n",
        "print(\"My favorite foods are:\")\n",
        "print(my_foods)\n",
        "\n",
        "print(\"\\nMy friend's favorite foods are:\")\n",
        "print(friend_foods)\n",
        "\n",
        "print(\"\\nThe first 3 items of my list are:\")\n",
        "print(my_foods[0:3])\n",
        "\n",
        "print(\"\\nThe middle items of my list are:\")\n",
        "print(my_foods[1:4])\n",
        "\n",
        "print(\"\\nThe last items of my list are:\")\n",
        "print(my_foods[3:])"
      ],
      "metadata": {
        "colab": {
          "base_uri": "https://localhost:8080/"
        },
        "id": "wTfNaXRXmrGT",
        "outputId": "0e8f9524-aad1-4597-e57d-0e2232c6a080"
      },
      "execution_count": 19,
      "outputs": [
        {
          "output_type": "stream",
          "name": "stdout",
          "text": [
            "My favorite foods are:\n",
            "['pizza', 'falafel', 'carrot cake', 'snickers', 'sundae']\n",
            "\n",
            "My friend's favorite foods are:\n",
            "['pizza', 'falafel', 'carrot cake', 'snickers', 'protein shake']\n",
            "\n",
            "The first 3 items of my list are:\n",
            "['pizza', 'falafel', 'carrot cake']\n",
            "\n",
            "The middle items of my list are:\n",
            "['falafel', 'carrot cake', 'snickers']\n",
            "\n",
            "The last items of my list are:\n",
            "['snickers', 'sundae']\n"
          ]
        }
      ]
    },
    {
      "cell_type": "code",
      "source": [
        "#TRY IT YOURSELF\n",
        "\n",
        "#i added code to the foods.py program and pizza program. i couldnt figure out thewhy the friends list was repeating"
      ],
      "metadata": {
        "id": "uHqMmUVmo-F9"
      },
      "execution_count": null,
      "outputs": []
    },
    {
      "cell_type": "markdown",
      "source": [
        "dimensions.py"
      ],
      "metadata": {
        "id": "0MCNXjuUFX1e"
      }
    },
    {
      "cell_type": "code",
      "source": [
        "#puttin dimensions in a tuple cant alter them. parenthesis and not square brackets\n",
        "\n",
        "dimensions = (200,50)\n",
        "print(dimensions[0])\n",
        "print(dimensions[1])"
      ],
      "metadata": {
        "colab": {
          "base_uri": "https://localhost:8080/"
        },
        "id": "A-NMomFeFU-B",
        "outputId": "bcb2c029-68c0-4510-8372-61e8e4e7d4db"
      },
      "execution_count": 66,
      "outputs": [
        {
          "output_type": "stream",
          "name": "stdout",
          "text": [
            "200\n",
            "50\n"
          ]
        }
      ]
    },
    {
      "cell_type": "code",
      "source": [
        "dimensions = (200,50)\n",
        "\n",
        "for dimension in dimensions:\n",
        "  print(dimension)"
      ],
      "metadata": {
        "colab": {
          "base_uri": "https://localhost:8080/"
        },
        "id": "47iZ5cqfGxna",
        "outputId": "d484e9e8-4940-4c96-a5cb-78161a294ae0"
      },
      "execution_count": 73,
      "outputs": [
        {
          "output_type": "stream",
          "name": "stdout",
          "text": [
            "200\n",
            "50\n"
          ]
        }
      ]
    },
    {
      "cell_type": "code",
      "source": [
        "#re assign a tuple because it valid"
      ],
      "metadata": {
        "id": "4u2GEX0cIfsB"
      },
      "execution_count": null,
      "outputs": []
    },
    {
      "cell_type": "code",
      "source": [
        "#TRYITYOURSELF tuple\n",
        "\n",
        "foods = (\"chicken\", \"beef\", \"beans\", \"cereal\", \"rice\")\n",
        "\n",
        "for food in foods:\n",
        "  print(food)\n",
        "\n",
        "foods = (\"chips\", \"wings\", \"tacos\", \"corn\")\n",
        "print(\"\\nrevised menu:\")\n",
        "for food in foods:\n",
        "  print(food)"
      ],
      "metadata": {
        "id": "3JstI2njIniN"
      },
      "execution_count": null,
      "outputs": []
    },
    {
      "cell_type": "code",
      "source": [
        "#Write a function calledfactorial(n) that computes the factorial of a positive integer n using a list.\n",
        "#Remember factorial? It's the product of all numbers from 1 to n. It's usually written \"n!\"\n",
        "#Your function must make a list containing all the numbers from 1 to n  inclusive using a list comprehension.\n",
        "#Then multiply all the numbers in the list together to get the result, like\n",
        "#product = 1\n",
        "\n",
        "#for x in my_list:\n",
        "\n",
        "    # product *= x\n",
        "\n",
        "\n",
        "factorials =[]\n",
        "for n in range(1,11):\n",
        "  factorial = n * (n-1)* (n-2)*(n-3)\n",
        "  factorials.append(factorial)\n",
        "\n",
        "print(factorials)"
      ],
      "metadata": {
        "colab": {
          "base_uri": "https://localhost:8080/"
        },
        "id": "fXlLRsNOeld2",
        "outputId": "30a63ed6-f575-42b2-912b-72885265028f"
      },
      "execution_count": 22,
      "outputs": [
        {
          "output_type": "stream",
          "name": "stdout",
          "text": [
            "[0, 0, 0, 24, 120, 360, 840, 1680, 3024, 5040]\n"
          ]
        }
      ]
    }
  ]
}