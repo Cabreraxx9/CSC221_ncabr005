{
  "nbformat": 4,
  "nbformat_minor": 0,
  "metadata": {
    "colab": {
      "provenance": [],
      "authorship_tag": "ABX9TyPFaZMWz2fVl+n8vUR1grdg",
      "include_colab_link": true
    },
    "kernelspec": {
      "name": "python3",
      "display_name": "Python 3"
    },
    "language_info": {
      "name": "python"
    }
  },
  "cells": [
    {
      "cell_type": "markdown",
      "metadata": {
        "id": "view-in-github",
        "colab_type": "text"
      },
      "source": [
        "<a href=\"https://colab.research.google.com/github/Cabreraxx9/CSC221_ncabr005/blob/main/Assignment15.ipynb\" target=\"_parent\"><img src=\"https://colab.research.google.com/assets/colab-badge.svg\" alt=\"Open In Colab\"/></a>"
      ]
    },
    {
      "cell_type": "markdown",
      "source": [
        "# Testing Your Code\n",
        "\n",
        "Nicholas Cabrera\n",
        "Dr Lecky"
      ],
      "metadata": {
        "id": "QIXxzVco3F5i"
      }
    },
    {
      "cell_type": "markdown",
      "source": [
        "# **Try it Yourself**"
      ],
      "metadata": {
        "id": "cg38gxKW3L-7"
      }
    },
    {
      "cell_type": "code",
      "execution_count": 1,
      "metadata": {
        "colab": {
          "base_uri": "https://localhost:8080/"
        },
        "id": "RWkXaJlLtnIt",
        "outputId": "39562804-50c3-4940-aa9d-4a560087c0a4"
      },
      "outputs": [
        {
          "output_type": "stream",
          "name": "stdout",
          "text": [
            "Overwriting city_functions.py\n"
          ]
        }
      ],
      "source": [
        "#11-1\n",
        "%%file city_functions.py\n",
        "def get_city_country_name(city, country):\n",
        "  \"\"\"Generates a city name and a country name\"\"\"\n",
        "  CityCountryName = f\"{city}, {country}\"\n",
        "  return CityCountryName.title()"
      ]
    },
    {
      "cell_type": "code",
      "source": [
        "from city_functions import get_city_country_name\n",
        "#testing the function i wrote in the city_functions.py\n",
        "#to make sure it works\n",
        "place = get_city_country_name(\"santiago\", \"chile\")\n",
        "print(place)\n"
      ],
      "metadata": {
        "colab": {
          "base_uri": "https://localhost:8080/"
        },
        "id": "pVhLeXw1izqT",
        "outputId": "d99c356a-79fc-4511-85c8-a8e5831b16b8"
      },
      "execution_count": 2,
      "outputs": [
        {
          "output_type": "stream",
          "name": "stdout",
          "text": [
            "Santiago, Chile\n"
          ]
        }
      ]
    },
    {
      "cell_type": "code",
      "source": [
        "%%file test_cities.py\n",
        "from city_functions import get_city_country_name\n",
        "\n",
        "#This function is to verify that calling my function with values\n",
        "#such as santiago, chile results in the correct string when i Run Test\n",
        "#through a terminal window\n",
        "def test_city_country():\n",
        "  \"\"\"Does city and name work?\"\"\"\n",
        "  print(\"Her we go!\")\n",
        "  place = get_city_country_name(\"santiago\", \"chile\")\n",
        "  assert place == \"Santiago, Chile\"\n",
        "\n"
      ],
      "metadata": {
        "colab": {
          "base_uri": "https://localhost:8080/"
        },
        "id": "nMf_V2b4069q",
        "outputId": "62d8b3e9-44ed-428e-cf8b-10de3981ab2f"
      },
      "execution_count": 3,
      "outputs": [
        {
          "output_type": "stream",
          "name": "stdout",
          "text": [
            "Overwriting test_cities.py\n"
          ]
        }
      ]
    },
    {
      "cell_type": "code",
      "source": [
        "!python -m pytest test_cities.py"
      ],
      "metadata": {
        "colab": {
          "base_uri": "https://localhost:8080/"
        },
        "id": "IKDJZ9yO7ElO",
        "outputId": "262e7bc5-01be-4a25-9fc9-6034429ab23a"
      },
      "execution_count": 4,
      "outputs": [
        {
          "output_type": "stream",
          "name": "stdout",
          "text": [
            "\u001b[1m======================================= test session starts ========================================\u001b[0m\n",
            "platform linux -- Python 3.10.12, pytest-7.4.3, pluggy-1.3.0\n",
            "rootdir: /content\n",
            "plugins: anyio-3.7.1\n",
            "\u001b[1mcollecting ... \u001b[0m\u001b[1m\rcollected 1 item                                                                                   \u001b[0m\n",
            "\n",
            "test_cities.py \u001b[32m.\u001b[0m\u001b[32m                                                                             [100%]\u001b[0m\n",
            "\n",
            "\u001b[32m======================================== \u001b[32m\u001b[1m1 passed\u001b[0m\u001b[32m in 0.01s\u001b[0m\u001b[32m =========================================\u001b[0m\n"
          ]
        }
      ]
    },
    {
      "cell_type": "code",
      "source": [
        "#11-2\n",
        "%%file population_functions.py\n",
        "#This function addeds a 3rd parameter argument\n",
        "def city_country_population(city, country, population=\"\"):\n",
        "  \"\"\"Generates a city name, country name, and optional population\"\"\"\n",
        "  #if statement to check both based on input for optional parameter\n",
        "  if population != \"\":\n",
        "    CityCountryName = f\"{city.title()}, {country.title()} - population {population}\"\n",
        "  else:\n",
        "    CityCountryName = f\"{city.title()}, {country.title()}\"\n",
        "  return CityCountryName\n"
      ],
      "metadata": {
        "colab": {
          "base_uri": "https://localhost:8080/"
        },
        "id": "Zbpvm-Rz9pmv",
        "outputId": "384bd7c9-b9ba-4a11-dbd0-7a7590ede0e4"
      },
      "execution_count": 5,
      "outputs": [
        {
          "output_type": "stream",
          "name": "stdout",
          "text": [
            "Overwriting population_functions.py\n"
          ]
        }
      ]
    },
    {
      "cell_type": "code",
      "source": [
        "%%file test_cities_one.py\n",
        "from population_functions import city_country_population\n",
        "\n",
        "#This function should fail with an added parameter argument\n",
        "def test_city_country():\n",
        "  \"\"\"Does city and name work with an optional parameter?\"\"\"\n",
        "  place = city_country_population(\"santiago\", \"chile\")\n",
        "  assert place == \"Santiago, Chile\"\n",
        "\n",
        "#new test should also pass\n",
        "def test_city_country_population():\n",
        "  \"\"\"Does city,name, and population work?\"\"\"\n",
        "  place = city_country_population(\"santiago\", \"chile\", \"50000\")\n",
        "  assert place == \"Santiago, Chile - population 50000\""
      ],
      "metadata": {
        "colab": {
          "base_uri": "https://localhost:8080/"
        },
        "id": "ziwAgzeMFQiR",
        "outputId": "9495c556-29b0-4857-95b9-0a109eb92233"
      },
      "execution_count": 6,
      "outputs": [
        {
          "output_type": "stream",
          "name": "stdout",
          "text": [
            "Overwriting test_cities_one.py\n"
          ]
        }
      ]
    },
    {
      "cell_type": "code",
      "source": [
        "!python -m pytest test_cities_one.py"
      ],
      "metadata": {
        "colab": {
          "base_uri": "https://localhost:8080/"
        },
        "id": "oCDmTa1HOkUB",
        "outputId": "3d3c4810-0912-4580-fff1-e5067099b2b6"
      },
      "execution_count": 7,
      "outputs": [
        {
          "output_type": "stream",
          "name": "stdout",
          "text": [
            "\u001b[1m======================================= test session starts ========================================\u001b[0m\n",
            "platform linux -- Python 3.10.12, pytest-7.4.3, pluggy-1.3.0\n",
            "rootdir: /content\n",
            "plugins: anyio-3.7.1\n",
            "\u001b[1mcollecting ... \u001b[0m\u001b[1m\rcollected 2 items                                                                                  \u001b[0m\n",
            "\n",
            "test_cities_one.py \u001b[32m.\u001b[0m\u001b[32m.\u001b[0m\u001b[32m                                                                        [100%]\u001b[0m\n",
            "\n",
            "\u001b[32m======================================== \u001b[32m\u001b[1m2 passed\u001b[0m\u001b[32m in 0.02s\u001b[0m\u001b[32m =========================================\u001b[0m\n"
          ]
        }
      ]
    }
  ]
}