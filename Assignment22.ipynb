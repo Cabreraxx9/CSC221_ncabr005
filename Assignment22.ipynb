{
  "nbformat": 4,
  "nbformat_minor": 0,
  "metadata": {
    "colab": {
      "provenance": [],
      "authorship_tag": "ABX9TyPd66Ldugv0d95JvZoEThFN",
      "include_colab_link": true
    },
    "kernelspec": {
      "name": "python3",
      "display_name": "Python 3"
    },
    "language_info": {
      "name": "python"
    }
  },
  "cells": [
    {
      "cell_type": "markdown",
      "metadata": {
        "id": "view-in-github",
        "colab_type": "text"
      },
      "source": [
        "<a href=\"https://colab.research.google.com/github/Cabreraxx9/CSC221_ncabr005/blob/main/Assignment22.ipynb\" target=\"_parent\"><img src=\"https://colab.research.google.com/assets/colab-badge.svg\" alt=\"Open In Colab\"/></a>"
      ]
    },
    {
      "cell_type": "markdown",
      "source": [
        "**Nicholas Cabrera**\n",
        "Assignment 22\n",
        "\"Protocols"
      ],
      "metadata": {
        "id": "yBXBtjTodtx5"
      }
    },
    {
      "cell_type": "code",
      "execution_count": 2,
      "metadata": {
        "colab": {
          "base_uri": "https://localhost:8080/"
        },
        "id": "2gL_OIJIc1ak",
        "outputId": "2ad3c315-47a9-420a-fdd7-f7cc02708681"
      },
      "outputs": [
        {
          "output_type": "stream",
          "name": "stdout",
          "text": [
            "Original Vectors:\n",
            "Vector (3, 4)\n",
            "Vector (1, 2)\n",
            "Vector (0, 5)\n",
            "\n",
            "Sorted Vectors by Euclidean length:\n",
            "Vector (1, 2)\n",
            "Vector (3, 4)\n",
            "Vector (0, 5)\n"
          ]
        }
      ],
      "source": [
        "\n",
        "##Make a class Vector2D that stores a 2D vector (x,y) and allows me to print them and sort them by length.\n",
        "#Modify the above code to sort by Euclidean length... just the sum of x and y.\n",
        "#Make a class that implements the container protocol such that the class returns the length of the key for any key.\n",
        "\n",
        "import math\n",
        "\n",
        "class Vector2D:\n",
        "    def __init__(self, x, y):\n",
        "        self.x = x\n",
        "        self.y = y\n",
        "\n",
        "    def length(self):\n",
        "        \"\"\"Euclidean length\"\"\"\n",
        "        return math.sqrt(self.x**2 + self.y**2)\n",
        "\n",
        "def sort_vectors_by_length(vectors):\n",
        "    \"\"\"Sort vectors by length using a lambda function\"\"\"\n",
        "    vectors.sort(key=lambda vector: vector.length())\n",
        "\n",
        "v1 = Vector2D(3, 4)\n",
        "v2 = Vector2D(1, 2)\n",
        "v3 = Vector2D(0, 5)\n",
        "\n",
        "vectors = [v1, v2, v3]\n",
        "\n",
        "print(\"Original Vectors:\")\n",
        "for vector in vectors:\n",
        "    print(f\"Vector ({vector.x}, {vector.y})\")\n",
        "\n",
        "sort_vectors_by_length(vectors)\n",
        "\n",
        "print(\"\\nSorted Vectors by Euclidean length:\")\n",
        "for vector in vectors:\n",
        "    print(f\"Vector ({vector.x}, {vector.y})\")"
      ]
    }
  ]
}