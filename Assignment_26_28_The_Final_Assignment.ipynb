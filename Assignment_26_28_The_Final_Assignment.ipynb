{
  "nbformat": 4,
  "nbformat_minor": 0,
  "metadata": {
    "colab": {
      "provenance": [],
      "include_colab_link": true
    },
    "kernelspec": {
      "name": "python3",
      "display_name": "Python 3"
    },
    "language_info": {
      "name": "python"
    }
  },
  "cells": [
    {
      "cell_type": "markdown",
      "metadata": {
        "id": "view-in-github",
        "colab_type": "text"
      },
      "source": [
        "<a href=\"https://colab.research.google.com/github/Cabreraxx9/CSC221_ncabr005/blob/main/Assignment_26_28_The_Final_Assignment.ipynb\" target=\"_parent\"><img src=\"https://colab.research.google.com/assets/colab-badge.svg\" alt=\"Open In Colab\"/></a>"
      ]
    },
    {
      "cell_type": "markdown",
      "source": [
        "**Nicholas Cabrera**\n",
        "Professor Lecky\n",
        "Assignment 26-28: The Final Assignment\n",
        "CSC 221 Intro Programming"
      ],
      "metadata": {
        "id": "7hKA0jzUvOfy"
      }
    },
    {
      "cell_type": "code",
      "source": [
        "# Cell 1: Demonstrate int, float, and string\n",
        "a = 13\n",
        "b = 21.55674\n",
        "c = 'teststring'\n",
        "\n",
        "print(type(a), a, a + 7)\n",
        "print(type(b), b, b*5)\n",
        "print(type(c), c, c*5)"
      ],
      "metadata": {
        "colab": {
          "base_uri": "https://localhost:8080/"
        },
        "id": "I6luOevlvr3k",
        "outputId": "ae023097-5359-44dc-a04c-208149d0645b"
      },
      "execution_count": null,
      "outputs": [
        {
          "output_type": "stream",
          "name": "stdout",
          "text": [
            "<class 'int'> 13 20\n",
            "<class 'float'> 21.55674 107.78370000000001\n",
            "<class 'str'> teststring teststringteststringteststringteststringteststring\n"
          ]
        }
      ]
    },
    {
      "cell_type": "code",
      "source": [
        "# Cell 2: Show how an f-string works (f'Something like this with {something} in it.')\n",
        "a = 13\n",
        "b = 21.55674\n",
        "\n",
        "print(f'The variable a is {a} and c*5 is {c*5}')\n",
        "\n"
      ],
      "metadata": {
        "colab": {
          "base_uri": "https://localhost:8080/"
        },
        "id": "dF9QPPTSvtaC",
        "outputId": "72b66c45-bd58-4303-92b1-4ca5c5f89e7e"
      },
      "execution_count": null,
      "outputs": [
        {
          "output_type": "stream",
          "name": "stdout",
          "text": [
            "The variable a is 13 and c*5 is teststringteststringteststringteststringteststring\n"
          ]
        }
      ]
    },
    {
      "cell_type": "code",
      "source": [
        "# Cell 3: Demonstrate some methods of the string class\n",
        "name = \"nicholas cabrera\"\n",
        "print(name.title())\n",
        "upper = name.upper()\n",
        "print(upper)\n"
      ],
      "metadata": {
        "colab": {
          "base_uri": "https://localhost:8080/"
        },
        "id": "FhXAogBSvtcq",
        "outputId": "0891b86f-36ee-4bb3-abd8-e8fc60a1c528"
      },
      "execution_count": null,
      "outputs": [
        {
          "output_type": "stream",
          "name": "stdout",
          "text": [
            "Nicholas Cabrera\n",
            "NICHOLAS CABRERA\n"
          ]
        }
      ]
    },
    {
      "cell_type": "code",
      "source": [
        "# Cell 4: Do something with a list\n",
        "abc = [13, 27, 120, 8]\n",
        "print(abc)\n",
        "for x in sorted(abc):\n",
        "    print(x)\n",
        "\n",
        "print(f'min: {min(abc)}')\n",
        "print('min: ' + str(min(abc)))\n",
        "print('max: ' + str(max(abc)))\n",
        "print('sum: ' + str(sum(abc)))\n"
      ],
      "metadata": {
        "id": "5UDyR36mvtfa"
      },
      "execution_count": null,
      "outputs": []
    },
    {
      "cell_type": "code",
      "source": [
        "# Cell 5: Do something with a list of lists\n",
        "xyz = []\n",
        "xyz.append([13,12,5])\n",
        "xyz.append([12, 'asd'])\n",
        "\n",
        "print(xyz)\n",
        "\n",
        "xyz2 = [[13, 12, 5], [8, 5], [12, 'asd']]\n",
        "print(xyz2)"
      ],
      "metadata": {
        "id": "xH2fJcHRvtiT"
      },
      "execution_count": null,
      "outputs": []
    },
    {
      "cell_type": "code",
      "source": [
        "# Cell 6: Show how to print a list in sorted order without changing it.\n",
        "abc = [13, 27, 120, 8]\n",
        "\n",
        "# NOT the assignment\n",
        "abc.sort()\n",
        "print(abc)\n",
        "\n",
        "# This is better!\n",
        "abc = [13, 27, 120, 8]\n",
        "print(sorted(abc))\n",
        "print(abc)"
      ],
      "metadata": {
        "id": "AvvMUrzLvtyC"
      },
      "execution_count": null,
      "outputs": []
    },
    {
      "cell_type": "code",
      "source": [
        "# Cell 7: Printing a series of numbers using for and range\n",
        "def f1():\n",
        "    for x in range(5, 100, 6):\n",
        "        print(x, end=' ')\n",
        "\n",
        "f1()"
      ],
      "metadata": {
        "id": "QODwy7O4y3zU"
      },
      "execution_count": null,
      "outputs": []
    },
    {
      "cell_type": "code",
      "source": [
        "# Cell 8: Printing a series of squares of all numbers from 1 to 1000 that are not multiples of 7 using list comprehension.\n",
        "print([x*x for x in range(1,1000) if x % 7 != 0])"
      ],
      "metadata": {
        "id": "tqfJKSL8y37b"
      },
      "execution_count": null,
      "outputs": []
    },
    {
      "cell_type": "code",
      "source": [
        "# Cell 9: Generating all of the prime numbers from 2 to 1000 using the Sieve of Eratosthenes which I suggest you ask ChatGPT for help on.\n",
        "# Thanks to CharGPT 3.5 which I asked: how do you do sieve of Eratosthenes in python?\n",
        "def sieve_of_eratosthenes(limit):\n",
        "    # Create a boolean list \"is_prime\" and initialize all elements to True\n",
        "    is_prime = [True] * (limit + 1)\n",
        "\n",
        "    # 0 and 1 are not prime numbers\n",
        "    is_prime[0] = is_prime[1] = False\n",
        "\n",
        "    # Iterate through the numbers from 2 to the square root of the limit\n",
        "    for i in range(2, int(limit**0.5) + 1):\n",
        "        # If i is a prime number, mark its multiples as not prime\n",
        "        if is_prime[i]:\n",
        "            for j in range(i*i, limit + 1, i):\n",
        "                is_prime[j] = False\n",
        "\n",
        "    # Return a list of prime numbers up to the given limit\n",
        "    primes = [num for num in range(2, limit + 1) if is_prime[num]]\n",
        "    return primes\n",
        "\n",
        "# Example: Find all prime numbers up to N\n",
        "limit = 50\n",
        "result = sieve_of_eratosthenes(limit)\n",
        "print(result)\n"
      ],
      "metadata": {
        "colab": {
          "base_uri": "https://localhost:8080/"
        },
        "id": "S0aTGhQOy3_T",
        "outputId": "60ae821c-bad7-4f1a-ce58-1333aea0db58"
      },
      "execution_count": null,
      "outputs": [
        {
          "output_type": "stream",
          "name": "stdout",
          "text": [
            "[2, 3, 5, 7, 11, 13, 17, 19, 23, 29, 31, 37, 41, 43, 47]\n"
          ]
        }
      ]
    },
    {
      "cell_type": "code",
      "source": [
        "# Cell 10: Create a generator from your function above that you can use to print the first N prime numbers. This should look like:\n",
        "def my_prime_generator(N):\n",
        "    primes = sieve_of_eratosthenes(N)\n",
        "\n",
        "    for x in primes:\n",
        "        yield x\n",
        "\n",
        "for x in my_prime_generator(200):\n",
        "    print(x, end=' ')"
      ],
      "metadata": {
        "id": "I2IGi0Hoy4Cj"
      },
      "execution_count": null,
      "outputs": []
    },
    {
      "cell_type": "code",
      "source": [
        "# Cell 11: Generate 1000 random integers in a list (random.randint(...)) and print their min, max, sum, and average.\n",
        "\n",
        "import random\n",
        "\n",
        "# Generate a list of 1000 random integers between 1 and 100\n",
        "random_numbers = [random.randint(1, 100) for i in range(1000)]\n",
        "\n",
        "\n",
        "min_value = min(random_numbers)\n",
        "max_value = max(random_numbers)\n",
        "sum_value = sum(random_numbers)\n",
        "average_value = sum_value / len(random_numbers)\n",
        "\n",
        "\n",
        "print(\"Min:\", min_value)\n",
        "print(\"Max:\", max_value)\n",
        "print(\"Sum:\", sum_value)\n",
        "print(\"Average:\", average_value)"
      ],
      "metadata": {
        "id": "ANODmSjxy4Fb"
      },
      "execution_count": null,
      "outputs": []
    },
    {
      "cell_type": "code",
      "source": [
        "# Cell 12: Write a simple function that uses if, elif, and else and show that it works.\n",
        "\n",
        "def age(age):\n",
        "    if age < 0:\n",
        "        return \"You havent been born yet\"\n",
        "    elif age < 18:\n",
        "        return \"You are not of age.\"\n",
        "    elif age < 65:\n",
        "        return \"You are an adult.\"\n",
        "    else:\n",
        "        return \"You are an old ass senior citizen.\"\n",
        "\n",
        "\n",
        "print(age(-5))\n",
        "print(age(10))\n",
        "print(age(30))\n",
        "print(age(70))"
      ],
      "metadata": {
        "id": "xiuErsu_y4IS"
      },
      "execution_count": null,
      "outputs": []
    },
    {
      "cell_type": "code",
      "source": [
        "# Cell 13: Show me three things from PEP-8 that surprise you"
      ],
      "metadata": {
        "id": "CvMG6sPsy4K6"
      },
      "execution_count": null,
      "outputs": []
    },
    {
      "cell_type": "code",
      "source": [
        "# Cell 14: Create a file using %%file testfile.txt in Colab. The file should contain lines like the following:\n",
        "# Amy, cat\n",
        "# Fred, dog\n",
        "# Hunter, dog\n",
        "# Peena, parakeet\n",
        "# Rover, dog"
      ],
      "metadata": {
        "id": "m2dD8mvUy4Nq"
      },
      "execution_count": null,
      "outputs": []
    },
    {
      "cell_type": "code",
      "source": [
        "%%file testfile.txt\n",
        "Amy, cat\n",
        "Fred, dog\n",
        "Hunter, dog\n",
        "Peena, parakeet\n",
        "Rover, dog"
      ],
      "metadata": {
        "colab": {
          "base_uri": "https://localhost:8080/"
        },
        "id": "5mAqchYa14Sc",
        "outputId": "638195bb-b7be-400e-c408-46841753f19d"
      },
      "execution_count": null,
      "outputs": [
        {
          "output_type": "stream",
          "name": "stdout",
          "text": [
            "Writing testfile.txt\n"
          ]
        }
      ]
    },
    {
      "cell_type": "code",
      "source": [
        "# Cell 15: Read that file in and convert it to a dictionary. Show how you can lookup pet type by using pet name with your dictionary.\n",
        "dict1 = {}\n",
        "with open('testfile.txt', 'r') as file:\n",
        "    while line := file.readline():\n",
        "        line = line.strip()\n",
        "        key, value = line.split(',')\n",
        "        dict1[key] = value.strip()\n",
        "\n",
        "print(dict1)\n"
      ],
      "metadata": {
        "id": "HdvIZ-B_2Djr"
      },
      "execution_count": null,
      "outputs": []
    },
    {
      "cell_type": "code",
      "source": [
        "# Cell 16: Generate a list of all the unique pet types in the dictionary. Use a set to make this happen.\n",
        "print(dict1.values())\n",
        "pet_types = set(dict1.values())\n",
        "print(pet_types)"
      ],
      "metadata": {
        "id": "pRxDMpU020Y1"
      },
      "execution_count": null,
      "outputs": []
    },
    {
      "cell_type": "code",
      "source": [
        "# Cell 17: Use a while loop to print the numbers from 80 down to 16 by 8. Do not use for or range.\n",
        "n = 80\n",
        "while n >= 16:\n",
        "    print(n)\n",
        "    n -= 8"
      ],
      "metadata": {
        "id": "kqkPMKyi3P0f"
      },
      "execution_count": null,
      "outputs": []
    },
    {
      "cell_type": "code",
      "source": [
        "# Cell 18: Write a function that takes three numbers and returns their min, max, and sum as a tuple.\n",
        "def f1(n1, n2, n3):\n",
        "    max_n = max(n1, n2, n3)\n",
        "    min_n = min(n1, n2, n3)\n",
        "    sum_n = sum([n1, n2, n3])\n",
        "\n",
        "    return min_n, max_n, sum_n\n",
        "\n",
        "print(f1(13, 21, 4))\n"
      ],
      "metadata": {
        "id": "SQMXRmJrt9Y4"
      },
      "execution_count": null,
      "outputs": []
    },
    {
      "cell_type": "code",
      "source": [
        "# Cell 19: Write a function that takes any number of numbers and returns their min, max, and sum as a tuple.\n",
        "def f2(*n):\n",
        "    max_n = max(n)\n",
        "    min_n = min(n)\n",
        "    sum_n = sum(n)\n",
        "\n",
        "    return min_n, max_n, sum_n\n",
        "\n",
        "print(f2(13, 21, 4, 81, -5, 30, 12))"
      ],
      "metadata": {
        "id": "OR_8PUhmuB53"
      },
      "execution_count": null,
      "outputs": []
    },
    {
      "cell_type": "code",
      "source": [
        "# Cell 20: Create a decorator called traceroo and use it to print messages showing how your function above executes.\n",
        "def traceroo(func):\n",
        "    def newfunc(*args, **kwargs):\n",
        "        print(f'TRACEROO {func.__name__} {args} {kwargs}')\n",
        "        return func(*args, **kwargs)\n",
        "    return newfunc\n",
        "\n",
        "f1d = traceroo(f1)\n",
        "print(f1(3, 2, 1))\n",
        "print(f1d(3, 2, 1))\n",
        "\n",
        "@traceroo\n",
        "def f4():\n",
        "    print(\"Hi... I'm f4\")\n",
        "\n",
        "f4()"
      ],
      "metadata": {
        "colab": {
          "base_uri": "https://localhost:8080/"
        },
        "id": "8onGNZrs4d-h",
        "outputId": "3ee751eb-0e89-41c7-8a23-bcdcf080af7b"
      },
      "execution_count": null,
      "outputs": [
        {
          "output_type": "stream",
          "name": "stdout",
          "text": [
            "(1, 3, 6)\n",
            "TRACEROO f1 (3, 2, 1) {}\n",
            "(1, 3, 6)\n",
            "TRACEROO f4 () {}\n",
            "Hi... I'm f4\n"
          ]
        }
      ]
    },
    {
      "cell_type": "code",
      "source": [
        "# Cell 21: Create a class that uses __init__, __repr__, __str__, and __add__. Demonstrate that all of the methods work.\n",
        "\n",
        "# Create a simple object that has methods for:\n",
        "#  __new__\n",
        "#  __init__\n",
        "#  __del__\n",
        "#  __repr__\n",
        "#  __str__\n",
        "\n",
        "#copied this from my Assignment 20\n",
        "\n",
        "class Example:\n",
        "\n",
        "  def __init__(self, name):\n",
        "       self.name = name\n",
        "       print(f\"{self.name} is an example\")\n",
        "\n",
        "\n",
        "  def __del__(self):\n",
        "      print('Good Bye ' + self.name)\n",
        "\n",
        "  def __repr__(self):\n",
        "        return (f\"Repr example {self.name}\")\n",
        "\n",
        "  def __str__(self):\n",
        "        return(f\"this is the string {self.name}\")\n",
        "\n",
        "example1 = Example(\"Nick\")\n",
        "example1 = None\n",
        "\n",
        "s = Example(\"Nick\")\n",
        "x = repr(s)\n",
        "print(x)\n",
        "\n",
        "y = Example(\"Dre\")\n",
        "t = str(y)\n",
        "print(t)\n",
        "\n"
      ],
      "metadata": {
        "id": "RT5uxmqPw5r0"
      },
      "execution_count": null,
      "outputs": []
    },
    {
      "cell_type": "code",
      "source": [
        "# Cell 22: Is your birth date included in the digits of pi? Where? Feel free to use the code from Chapter 10.\n",
        "\n",
        "import math\n",
        "math.pi\n",
        "print(math.pi)\n",
        "\n",
        "x = math.pi\n",
        "\n",
        "len(str(x))\n",
        "#birthday = input(\"Enter your birthday, in the form mmddyy: \")\n",
        "\n",
        "#if birthday in math.pi:\n",
        "  #print(\"Your birthday appears in the first million digits of pi\")\n",
        "\n",
        "#else:\n",
        "  #print(\"Your birthday does not appear in the first million digits of pi\")"
      ],
      "metadata": {
        "colab": {
          "base_uri": "https://localhost:8080/"
        },
        "id": "KhGyUa6tw80B",
        "outputId": "f0226d81-27f7-451c-9063-82c151beed08"
      },
      "execution_count": null,
      "outputs": [
        {
          "output_type": "stream",
          "name": "stdout",
          "text": [
            "3.141592653589793\n"
          ]
        },
        {
          "output_type": "execute_result",
          "data": {
            "text/plain": [
              "17"
            ]
          },
          "metadata": {},
          "execution_count": 29
        }
      ]
    },
    {
      "cell_type": "code",
      "source": [
        "from pathlib import Path\n",
        "\n",
        "path = Path(\"pi_million_digits.txt\")\n",
        "contents = path.read_text()\n",
        "\n",
        "lines = contents.splitlines()\n",
        "pi_string = ''\n",
        "for line in lines:\n",
        "  pi_string += line.strip()\n",
        "\n",
        "birthday = input(\"Enter your birthday, in the form mmddyy: \")\n",
        "\n",
        "if birthday in pi_string:\n",
        "  print(\"Your birthday appears in the first million digits of pi\")\n",
        "\n",
        "else:\n",
        "  print(\"Your birthday does not appear in the first million digits of pi\")"
      ],
      "metadata": {
        "colab": {
          "base_uri": "https://localhost:8080/"
        },
        "id": "zBquKnDB7vZP",
        "outputId": "023be9c1-0153-4f5e-bb9f-77013c293cb0"
      },
      "execution_count": 36,
      "outputs": [
        {
          "output_type": "stream",
          "name": "stdout",
          "text": [
            "Enter your birthday, in the form mmddyy: 678909\n",
            "Your birthday appears in the first million digits of pi\n"
          ]
        }
      ]
    },
    {
      "cell_type": "code",
      "source": [
        "# Pytest"
      ],
      "metadata": {
        "id": "KbLBm4v-4-14"
      },
      "execution_count": null,
      "outputs": []
    },
    {
      "cell_type": "code",
      "source": [
        "%%file functions.py\n",
        "def f5(a):\n",
        "    ret = a+5\n",
        "    print(ret)\n",
        "    return ret\n",
        "\n",
        "def f6(a, b):\n",
        "    return a+b\n"
      ],
      "metadata": {
        "colab": {
          "base_uri": "https://localhost:8080/"
        },
        "id": "3hYK6iXK5nUz",
        "outputId": "58745589-968b-4c51-8eae-f6c6347b1854"
      },
      "execution_count": null,
      "outputs": [
        {
          "output_type": "stream",
          "name": "stdout",
          "text": [
            "Overwriting functions.py\n"
          ]
        }
      ]
    },
    {
      "cell_type": "code",
      "source": [
        "%%file test_functions.py\n",
        "import functions as ff\n",
        "\n",
        "def test_test1():\n",
        "    assert ff.f5(5) == 5+5\n",
        "    assert ff.f6(5, 7) == 12\n",
        "\n",
        "def test_test2():\n",
        "    assert ff.f5(8) == 8+5\n",
        "    assert ff.f6(5, 9) == 13\n",
        "\n"
      ],
      "metadata": {
        "colab": {
          "base_uri": "https://localhost:8080/"
        },
        "id": "IrfqZAeW5ucL",
        "outputId": "9c3d2b09-d703-4bc8-b2b2-da8a82d56fcd"
      },
      "execution_count": null,
      "outputs": [
        {
          "output_type": "stream",
          "name": "stdout",
          "text": [
            "Overwriting test_functions.py\n"
          ]
        }
      ]
    },
    {
      "cell_type": "code",
      "source": [
        "!pytest"
      ],
      "metadata": {
        "colab": {
          "base_uri": "https://localhost:8080/"
        },
        "id": "hVFr9QBb6KbD",
        "outputId": "66eb553a-d4ba-4906-8717-360193bb8515"
      },
      "execution_count": null,
      "outputs": [
        {
          "output_type": "stream",
          "name": "stdout",
          "text": [
            "\u001b[1m======================================= test session starts ========================================\u001b[0m\n",
            "platform linux -- Python 3.10.12, pytest-7.4.3, pluggy-1.3.0\n",
            "rootdir: /content\n",
            "plugins: anyio-3.7.1\n",
            "\u001b[1mcollecting ... \u001b[0m\u001b[1m\rcollected 2 items                                                                                  \u001b[0m\n",
            "\n",
            "test_functions.py \u001b[32m.\u001b[0m\u001b[31mF\u001b[0m\u001b[31m                                                                         [100%]\u001b[0m\n",
            "\n",
            "============================================= FAILURES =============================================\n",
            "\u001b[31m\u001b[1m____________________________________________ test_test2 ____________________________________________\u001b[0m\n",
            "\n",
            "    \u001b[94mdef\u001b[39;49;00m \u001b[92mtest_test2\u001b[39;49;00m():\u001b[90m\u001b[39;49;00m\n",
            "        \u001b[94massert\u001b[39;49;00m ff.f5(\u001b[94m8\u001b[39;49;00m) == \u001b[94m8\u001b[39;49;00m+\u001b[94m5\u001b[39;49;00m\u001b[90m\u001b[39;49;00m\n",
            ">       \u001b[94massert\u001b[39;49;00m ff.f6(\u001b[94m5\u001b[39;49;00m, \u001b[94m9\u001b[39;49;00m) == \u001b[94m13\u001b[39;49;00m\u001b[90m\u001b[39;49;00m\n",
            "\u001b[1m\u001b[31mE       assert 14 == 13\u001b[0m\n",
            "\u001b[1m\u001b[31mE        +  where 14 = <function f6 at 0x7c7c715f8dc0>(5, 9)\u001b[0m\n",
            "\u001b[1m\u001b[31mE        +    where <function f6 at 0x7c7c715f8dc0> = ff.f6\u001b[0m\n",
            "\n",
            "\u001b[1m\u001b[31mtest_functions.py\u001b[0m:9: AssertionError\n",
            "--------------------------------------- Captured stdout call ---------------------------------------\n",
            "13\n",
            "\u001b[36m\u001b[1m===================================== short test summary info ======================================\u001b[0m\n",
            "\u001b[31mFAILED\u001b[0m test_functions.py::\u001b[1mtest_test2\u001b[0m - assert 14 == 13\n",
            "\u001b[31m=================================== \u001b[31m\u001b[1m1 failed\u001b[0m, \u001b[32m1 passed\u001b[0m\u001b[31m in 0.12s\u001b[0m\u001b[31m ====================================\u001b[0m\n"
          ]
        }
      ]
    }
  ]
}