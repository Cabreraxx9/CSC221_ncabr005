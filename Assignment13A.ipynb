{
  "nbformat": 4,
  "nbformat_minor": 0,
  "metadata": {
    "colab": {
      "provenance": [],
      "authorship_tag": "ABX9TyPSwGPcpquPCElvU4Bjhoc9",
      "include_colab_link": true
    },
    "kernelspec": {
      "name": "python3",
      "display_name": "Python 3"
    },
    "language_info": {
      "name": "python"
    }
  },
  "cells": [
    {
      "cell_type": "markdown",
      "metadata": {
        "id": "view-in-github",
        "colab_type": "text"
      },
      "source": [
        "<a href=\"https://colab.research.google.com/github/Cabreraxx9/CSC221_ncabr005/blob/main/Assignment13A.ipynb\" target=\"_parent\"><img src=\"https://colab.research.google.com/assets/colab-badge.svg\" alt=\"Open In Colab\"/></a>"
      ]
    },
    {
      "cell_type": "markdown",
      "source": [
        "# **Files and Exceptions**"
      ],
      "metadata": {
        "id": "bykiMyBKSqXD"
      }
    },
    {
      "cell_type": "markdown",
      "source": [
        "### Reading the Contents of a File"
      ],
      "metadata": {
        "id": "8S6tGc7bS2uj"
      }
    },
    {
      "cell_type": "code",
      "execution_count": 6,
      "metadata": {
        "id": "cBpIQRzF4ViK",
        "colab": {
          "base_uri": "https://localhost:8080/"
        },
        "outputId": "25283d0b-6ffd-49ea-8fa0-27aec24a34b6"
      },
      "outputs": [
        {
          "output_type": "stream",
          "name": "stdout",
          "text": [
            "3.14159226535\n",
            "   8979323846\n",
            "   2643383279\n"
          ]
        }
      ],
      "source": [
        "#file_reader.py\n",
        "\n",
        "#contents of the file are returned as a single string\n",
        "#seeing the entire contents of a text file\n",
        "\n",
        "from pathlib import Path\n",
        "\n",
        "path = Path(\"pi_digits.txt\")\n",
        "contents = path.read_text()\n",
        "print(contents)\n"
      ]
    },
    {
      "cell_type": "code",
      "source": [
        "#removes the extra blank line thats at the end of file\n",
        "#since read_text() returns an empty string when it reaches the end of file\n",
        "\n",
        "from pathlib import Path\n",
        "\n",
        "path = Path(\"pi_digits.txt\")\n",
        "contents = path.read_text().rstrip()\n",
        "print(contents)"
      ],
      "metadata": {
        "colab": {
          "base_uri": "https://localhost:8080/"
        },
        "id": "NzqjRXD6UuXS",
        "outputId": "f98bb652-7837-47ec-a169-c4cf802d826e"
      },
      "execution_count": 11,
      "outputs": [
        {
          "output_type": "stream",
          "name": "stdout",
          "text": [
            "3.14159226535\n",
            "   8979323846\n",
            "   2643383279\n"
          ]
        }
      ]
    },
    {
      "cell_type": "code",
      "source": [
        "# file_reader.py\n",
        "\n",
        "#splitlines() method to turn a long string into a set of lines\n",
        "#splitlines() returns a list of all lines in a string\n",
        "#and then use a for loop to examine each line from a file, one at a timee\n",
        "\n",
        "from pathlib import Path\n",
        "\n",
        "path = Path(\"pi_digits.txt\")\n",
        "contents = path.read_text()\n",
        "print(type(contents))\n",
        "print(\"contents=\",contents)\n",
        "lines = contents.splitlines()\n",
        "print(lines)\n",
        "for line in lines:\n",
        "\n",
        "  print(\"line=\",line)"
      ],
      "metadata": {
        "colab": {
          "base_uri": "https://localhost:8080/"
        },
        "id": "VHf8A2t4XLRq",
        "outputId": "c6feffe6-6269-4137-8cfc-00799c95850b"
      },
      "execution_count": 29,
      "outputs": [
        {
          "output_type": "stream",
          "name": "stdout",
          "text": [
            "<class 'str'>\n",
            "contents= 3.14159226535\n",
            "   8979323846\n",
            "   2643383279\n",
            "['3.14159226535', '   8979323846', '   2643383279']\n",
            "line= 3.14159226535\n",
            "line=    8979323846\n",
            "line=    2643383279\n"
          ]
        }
      ]
    },
    {
      "cell_type": "markdown",
      "source": [
        "### Working with File's Contents\n",
        "\n",
        "\n",
        "\n"
      ],
      "metadata": {
        "id": "cjgSrT5UZ0Ya"
      }
    },
    {
      "cell_type": "code",
      "source": [
        "# pi_string.py\n",
        "\n",
        "from pathlib import Path\n",
        "\n",
        "path = Path(\"pi_digits.txt\")\n",
        "contents = path.read_text()\n",
        "\n",
        "lines = contents.splitlines()\n",
        "pi_string = \"\"\n",
        "for line in lines:\n",
        "  pi_string = pi_string + line\n",
        "\n",
        "print(pi_string)\n",
        "print(len(pi_string))"
      ],
      "metadata": {
        "colab": {
          "base_uri": "https://localhost:8080/"
        },
        "id": "zUtkowNpaAJI",
        "outputId": "652cf69e-3ba1-4967-fc04-992bbaed873d"
      },
      "execution_count": 14,
      "outputs": [
        {
          "output_type": "stream",
          "name": "stdout",
          "text": [
            "3.1415926535  8979323846  2643383279\n",
            "36\n"
          ]
        }
      ]
    },
    {
      "cell_type": "code",
      "source": [
        "from pathlib import Path\n",
        "\n",
        "path = Path(\"pi_digits.txt\")\n",
        "contents = path.read_text()\n",
        "\n",
        "lines = contents.splitlines()\n",
        "pi_string = \"\"\n",
        "for line in lines:\n",
        "  pi_string = pi_string + line.lstrip()\n",
        "\n",
        "print(pi_string)\n",
        "print(len(pi_string))"
      ],
      "metadata": {
        "colab": {
          "base_uri": "https://localhost:8080/"
        },
        "id": "F3sy-7uHc7cu",
        "outputId": "d1ae7a75-ff70-45d4-c910-38e9c518e4dd"
      },
      "execution_count": 16,
      "outputs": [
        {
          "output_type": "stream",
          "name": "stdout",
          "text": [
            "3.141592653589793238462643383279\n",
            "32\n"
          ]
        }
      ]
    },
    {
      "cell_type": "markdown",
      "source": [
        "### **Try It Yourself**"
      ],
      "metadata": {
        "id": "QsZkHxjtN4_E"
      }
    },
    {
      "cell_type": "markdown",
      "source": [
        "# **10.1 Learning Python**"
      ],
      "metadata": {
        "id": "ZcgMqg67V0tx"
      }
    },
    {
      "cell_type": "code",
      "source": [
        "\n",
        "#reads the files and prints what you have twice\n"
      ],
      "metadata": {
        "id": "UbH5iUgEN-tK"
      },
      "execution_count": null,
      "outputs": []
    },
    {
      "cell_type": "code",
      "source": [
        "#Reads the entire file\n",
        "\n",
        "from pathlib import Path\n",
        "\n",
        "path = Path(\"learning_python.txt\")\n",
        "contents = path.read_text()\n",
        "print(contents)"
      ],
      "metadata": {
        "colab": {
          "base_uri": "https://localhost:8080/"
        },
        "id": "HJ5_dJ_1QQRA",
        "outputId": "7f9487ec-cb77-4e25-9b43-2174ed9be05e"
      },
      "execution_count": 20,
      "outputs": [
        {
          "output_type": "stream",
          "name": "stdout",
          "text": [
            "Python you can do loops\n",
            "Python you can read from a file\n",
            "Python you can get User input\n"
          ]
        }
      ]
    },
    {
      "cell_type": "code",
      "source": [
        "#print file by storing the lines in a list and then looping over each line\n",
        "\n",
        "from pathlib import Path\n",
        "\n",
        "path = Path(\"learning_python.txt\")\n",
        "contents = path.read_text()\n",
        "\n",
        "lines = contents.splitlines()\n",
        "for line in lines:\n",
        "\n",
        "\n",
        " print(line)"
      ],
      "metadata": {
        "colab": {
          "base_uri": "https://localhost:8080/"
        },
        "id": "wpvJd_iWQ8cB",
        "outputId": "2e212c96-23b9-48bc-ee4e-c28d30801f66"
      },
      "execution_count": 25,
      "outputs": [
        {
          "output_type": "stream",
          "name": "stdout",
          "text": [
            "Python you can do loops\n",
            "Python you can read from a file\n",
            "Python you can get User input\n"
          ]
        }
      ]
    },
    {
      "cell_type": "markdown",
      "source": [
        "# **10-4. Guest**"
      ],
      "metadata": {
        "id": "aZnGarDNVqYM"
      }
    },
    {
      "cell_type": "code",
      "source": [
        "#Write a program that prompts the user for their name. When they respond,\n",
        "#write there name to a file called guest.txt\n",
        "\n",
        "name = input(\"Enter your name\")\n",
        "\n",
        "from pathlib import Path\n",
        "\n",
        "path = Path(\"guest.txt\")\n",
        "path.write_text(name)"
      ],
      "metadata": {
        "colab": {
          "base_uri": "https://localhost:8080/"
        },
        "id": "F-MWNjqjaDUq",
        "outputId": "4559d7e0-036e-4f31-ffb1-ea7fedf6515b"
      },
      "execution_count": 2,
      "outputs": [
        {
          "name": "stdout",
          "output_type": "stream",
          "text": [
            "Enter your nameNick\n"
          ]
        },
        {
          "output_type": "execute_result",
          "data": {
            "text/plain": [
              "4"
            ]
          },
          "metadata": {},
          "execution_count": 2
        }
      ]
    }
  ]
}