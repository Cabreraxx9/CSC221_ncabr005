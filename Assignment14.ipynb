{
  "cells": [
    {
      "cell_type": "markdown",
      "metadata": {
        "id": "view-in-github",
        "colab_type": "text"
      },
      "source": [
        "<a href=\"https://colab.research.google.com/github/Cabreraxx9/CSC221_ncabr005/blob/main/Assignment14.ipynb\" target=\"_parent\"><img src=\"https://colab.research.google.com/assets/colab-badge.svg\" alt=\"Open In Colab\"/></a>"
      ]
    },
    {
      "cell_type": "markdown",
      "metadata": {
        "id": "YdCeeSGP377x"
      },
      "source": [
        "# **Exceptions**"
      ]
    },
    {
      "cell_type": "code",
      "execution_count": 29,
      "metadata": {
        "colab": {
          "base_uri": "https://localhost:8080/"
        },
        "id": "q5jbRIYw3VjE",
        "outputId": "148b88b8-6f6c-424c-bdfb-fa013f5bf553"
      },
      "outputs": [
        {
          "output_type": "stream",
          "name": "stdout",
          "text": [
            "Give me a number, operator, number to calculate or 'q' to quit 6 + 7\n",
            "['6', '+', '7']\n",
            "13.0\n",
            "Give me a number, operator, number to calculate or 'q' to quit 6 + 6\n",
            "['6', '+', '6']\n",
            "12.0\n",
            "Give me a number, operator, number to calculate or 'q' to quit t + 6\n",
            "['t', '+', '6']\n",
            "Cant print a string\n",
            "Give me a number, operator, number to calculate or 'q' to quit i + 5\n",
            "['i', '+', '5']\n",
            "Cant print a string\n",
            "Give me a number, operator, number to calculate or 'q' to quit q\n",
            "['q']\n"
          ]
        }
      ],
      "source": [
        "#Modified Calculator\n",
        "\n",
        "#Enhance it so you just type in: number op number <enter>, like \"13 / 5 <enter>\" I'd expect you to print something like: \"13 / 5 = 2.6\"\n",
        "#Use string.split(' ') to separate the numbers and operator. You may assume the operator always has spaces on either side of it.\n",
        "#Convert the numbers using float(arg[0]) and float(arg[2])\n",
        "#Add try: ... except: throughout to make the system robust and error-proof!\n",
        "\n",
        "\n",
        "# Make a super basic calculator using input and while\n",
        "#The total starts at zero.\n",
        "#Ask the user for a number.\n",
        "#Ask the user for an operator which can be +, -, *, or /\n",
        "#Perform the operation.\n",
        "#For example, if the current total is 12, and the user types 100<enter>+<enter>, you should display the new total 112.\n",
        "#If the current total is 45 and the user types 1<enter>-<enter>, you should display the new total 44.\n",
        "\n",
        "total = 0\n",
        "number_1 = 0\n",
        "\n",
        "while True:\n",
        "    number_1 = input(\"Give me a number, operator, number to calculate or 'q' to quit \")\n",
        "\n",
        "    calculation = number_1.split(\" \")\n",
        "\n",
        "    print(calculation)\n",
        "\n",
        "    if number_1 == \"q\" or number_1 == \"quit\":\n",
        "      break\n",
        "\n",
        "\n",
        "    try:\n",
        "      calculation[0] = float(calculation[0])\n",
        "      calculation[2] = float(calculation[2])\n",
        "\n",
        "    except ValueError:\n",
        "      print(\"Cant print a string\")\n",
        "\n",
        "\n",
        "    else:\n",
        "      if calculation[1] == \"+\":\n",
        "        total = calculation[0] + calculation[2]\n",
        "      elif number_1[1] == \"-\":\n",
        "        total = calculation[0] - calculation[2]\n",
        "      elif number_1[1] == \"*\":\n",
        "        total = calculation[0] * calculation[2]\n",
        "      elif number_1[1] == \"/\":\n",
        "        total = calculation[0] / calculation[2]\n",
        "\n",
        "      print(total)\n",
        "\n"
      ]
    }
  ],
  "metadata": {
    "colab": {
      "provenance": [],
      "authorship_tag": "ABX9TyNZYtSTtaOROsxaYk+wFbtp",
      "include_colab_link": true
    },
    "kernelspec": {
      "display_name": "Python 3",
      "name": "python3"
    },
    "language_info": {
      "name": "python"
    }
  },
  "nbformat": 4,
  "nbformat_minor": 0
}