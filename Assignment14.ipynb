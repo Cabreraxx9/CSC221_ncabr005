{
  "nbformat": 4,
  "nbformat_minor": 0,
  "metadata": {
    "colab": {
      "provenance": [],
      "authorship_tag": "ABX9TyPJ8wPt0jtn30iWqbKCddg6",
      "include_colab_link": true
    },
    "kernelspec": {
      "name": "python3",
      "display_name": "Python 3"
    },
    "language_info": {
      "name": "python"
    }
  },
  "cells": [
    {
      "cell_type": "markdown",
      "metadata": {
        "id": "view-in-github",
        "colab_type": "text"
      },
      "source": [
        "<a href=\"https://colab.research.google.com/github/Cabreraxx9/CSC221_ncabr005/blob/main/Assignment14.ipynb\" target=\"_parent\"><img src=\"https://colab.research.google.com/assets/colab-badge.svg\" alt=\"Open In Colab\"/></a>"
      ]
    },
    {
      "cell_type": "markdown",
      "source": [
        "# **Exceptions**"
      ],
      "metadata": {
        "id": "YdCeeSGP377x"
      }
    },
    {
      "cell_type": "code",
      "execution_count": null,
      "metadata": {
        "id": "q5jbRIYw3VjE"
      },
      "outputs": [],
      "source": [
        "#Modified Calculator\n",
        "\n",
        "#Enhance it so you just type in: number op number <enter>, like \"13 / 5 <enter>\" I'd expect you to print something like: \"13 / 5 = 2.6\"\n",
        "#Use string.split(' ') to separate the numbers and operator. You may assume the operator always has spaces on either side of it.\n",
        "#Convert the numbers using float(arg[0]) and float(arg[2])\n",
        "#Add try: ... except: throughout to make the system robust and error-proof!\n",
        "\n",
        "\n",
        "# Make a super basic calculator using input and while\n",
        "#The total starts at zero.\n",
        "#Ask the user for a number.\n",
        "#Ask the user for an operator which can be +, -, *, or /\n",
        "#Perform the operation.\n",
        "#For example, if the current total is 12, and the user types 100<enter>+<enter>, you should display the new total 112.\n",
        "#If the current total is 45 and the user types 1<enter>-<enter>, you should display the new total 44.\n",
        "\n",
        "total = 0\n",
        "number_1 = 0\n",
        "\n",
        "while True:\n",
        "    number_1 = input(\"Give me a number or 'q' to quit \")\n",
        "\n",
        "    if number_1 == \"q\" or number_1 == \"quit\":\n",
        "      break\n",
        "    operator = input(\"Give me an operator +, -, *, or / \")\n",
        "\n",
        "    try:\n",
        "      number_1 = int(number_1)\n",
        "    except ValueError:\n",
        "      print(\"Cant print a string\")\n",
        "\n",
        "\n",
        "    else:\n",
        "      if operator == \"+\":\n",
        "        total = number_1 + total\n",
        "      elif operator == \"-\":\n",
        "        total = total - number_1\n",
        "      elif operator == \"*\":\n",
        "        total = total * number_1\n",
        "      elif operator == \"/\":\n",
        "        total = total / number_1\n",
        "\n",
        "      print(total)\n",
        "\n"
      ]
    }
  ]
}