{
  "nbformat": 4,
  "nbformat_minor": 0,
  "metadata": {
    "colab": {
      "provenance": [],
      "authorship_tag": "ABX9TyMG+t8YbMHh8OiF22VyTNho",
      "include_colab_link": true
    },
    "kernelspec": {
      "name": "python3",
      "display_name": "Python 3"
    },
    "language_info": {
      "name": "python"
    }
  },
  "cells": [
    {
      "cell_type": "markdown",
      "metadata": {
        "id": "view-in-github",
        "colab_type": "text"
      },
      "source": [
        "<a href=\"https://colab.research.google.com/github/Cabreraxx9/CSC221_ncabr005/blob/main/Assignment4.ipynb\" target=\"_parent\"><img src=\"https://colab.research.google.com/assets/colab-badge.svg\" alt=\"Open In Colab\"/></a>"
      ]
    },
    {
      "cell_type": "code",
      "execution_count": null,
      "metadata": {
        "id": "Z2Ll-QMBnfLf"
      },
      "outputs": [],
      "source": []
    },
    {
      "cell_type": "markdown",
      "source": [
        "**Lists**     [   ] indicate a list"
      ],
      "metadata": {
        "id": "u8-8NWv1n-NO"
      }
    },
    {
      "cell_type": "code",
      "source": [],
      "metadata": {
        "id": "k_M2DucOolOc"
      },
      "execution_count": null,
      "outputs": []
    },
    {
      "cell_type": "markdown",
      "source": [
        "bicycles.py      "
      ],
      "metadata": {
        "id": "b2-3PMmNonP-"
      }
    },
    {
      "cell_type": "code",
      "source": [
        "bicycles = [\"trek\",\"cannondale\",\"redline\",\"specialized\"]\n",
        "print(bicycles)"
      ],
      "metadata": {
        "colab": {
          "base_uri": "https://localhost:8080/"
        },
        "id": "jOcS85DDow0K",
        "outputId": "a800b3c0-a5c4-447a-d3c4-027d95471058"
      },
      "execution_count": null,
      "outputs": [
        {
          "output_type": "stream",
          "name": "stdout",
          "text": [
            "['trek', 'cannondale', 'redline', 'specialized']\n"
          ]
        }
      ]
    },
    {
      "cell_type": "code",
      "source": [
        "#Accessing elements in a list   access an element in the list by telling python the position, or index of the item\n",
        "\n",
        "bicycles = [\"trek\", \"cannondale\", \"redline\", \"specialized\"]\n",
        "print(bicycles[0])"
      ],
      "metadata": {
        "colab": {
          "base_uri": "https://localhost:8080/"
        },
        "id": "nwsq46R9qGr0",
        "outputId": "d521c21b-a31f-4d87-be61-17bb33eef096"
      },
      "execution_count": null,
      "outputs": [
        {
          "output_type": "stream",
          "name": "stdout",
          "text": [
            "trek\n"
          ]
        }
      ]
    },
    {
      "cell_type": "code",
      "source": [
        "#Making a title on an element in the list  INDEX POSITIONS ALWAYS START AT 0.....NOT 1  !!!!!\n",
        "\n",
        "bicycles = [\"trek\", \"cannondale\", \"redline\", \"specialized\"]\n",
        "print(bicycles[0].title())"
      ],
      "metadata": {
        "colab": {
          "base_uri": "https://localhost:8080/"
        },
        "id": "uE2LygEzrcaT",
        "outputId": "b3d2cf95-9a09-4b05-f42a-af2beff57870"
      },
      "execution_count": null,
      "outputs": [
        {
          "output_type": "stream",
          "name": "stdout",
          "text": [
            "Trek\n"
          ]
        }
      ]
    },
    {
      "cell_type": "code",
      "source": [
        "bicycles = [\"trek\", \"cannondale\", \"redline\", \"specialized\"]\n",
        "print(bicycles[0])\n",
        "print(bicycles[3])"
      ],
      "metadata": {
        "colab": {
          "base_uri": "https://localhost:8080/"
        },
        "id": "wPVpsK2-sdG5",
        "outputId": "7a9bbc65-966a-4254-8e4d-40cf1219f42c"
      },
      "execution_count": null,
      "outputs": [
        {
          "output_type": "stream",
          "name": "stdout",
          "text": [
            "trek\n",
            "specialized\n"
          ]
        }
      ]
    },
    {
      "cell_type": "code",
      "source": [
        "# -1 position always accesses the last item on the list\n",
        "\n",
        "bicycles = [\"trek\", \"cannondale\", \"redline\", \"specialized\"]\n",
        "print(bicycles[-1])"
      ],
      "metadata": {
        "colab": {
          "base_uri": "https://localhost:8080/"
        },
        "id": "Hir_blgVtNUy",
        "outputId": "c5399281-b13f-4362-8b20-bb7c2ebf687d"
      },
      "execution_count": null,
      "outputs": [
        {
          "output_type": "stream",
          "name": "stdout",
          "text": [
            "specialized\n"
          ]
        }
      ]
    },
    {
      "cell_type": "code",
      "source": [
        "#Using individual values from a list\n",
        "\n",
        "bicycles = [\"trek\", \"cannondale\", \"redline\", \"specialized\"]\n",
        "message = f\"My first bicycle was a {bicycles[0].title()}\"\n",
        "\n",
        "print(message)"
      ],
      "metadata": {
        "colab": {
          "base_uri": "https://localhost:8080/"
        },
        "id": "u1CQVEuit976",
        "outputId": "5c7af14a-c829-4cd8-a0c0-98ac12bea4e8"
      },
      "execution_count": null,
      "outputs": [
        {
          "output_type": "stream",
          "name": "stdout",
          "text": [
            "My first bicycle was a Trek\n"
          ]
        }
      ]
    },
    {
      "cell_type": "markdown",
      "source": [
        "motorcycles.py"
      ],
      "metadata": {
        "id": "DSalsf3A22vq"
      }
    },
    {
      "cell_type": "code",
      "source": [
        "#Modifying elements in a list\n",
        "\n",
        "motorcycles = [\"honda\", \"yamaha\", \"suzuki\"]\n",
        "print(motorcycles)\n",
        "\n",
        "motorcycles[0] = \"ducati\"\n",
        "print(motorcycles)"
      ],
      "metadata": {
        "colab": {
          "base_uri": "https://localhost:8080/"
        },
        "id": "9B8ujfHV260J",
        "outputId": "24c02a07-16d7-4adf-fa35-1852c2f33b66"
      },
      "execution_count": null,
      "outputs": [
        {
          "output_type": "stream",
          "name": "stdout",
          "text": [
            "['honda', 'yamaha', 'suzuki']\n",
            "['ducati', 'yamaha', 'suzuki']\n"
          ]
        }
      ]
    },
    {
      "cell_type": "code",
      "source": [
        "#Appending elements to a list       simplest wasy to add a new element\n",
        "\n",
        "motorcycles = [\"honda\", \"yamaha\", \"suzuki\"]\n",
        "(motorcycles.append(\"ducati\"))\n",
        "print(motorcycles)"
      ],
      "metadata": {
        "colab": {
          "base_uri": "https://localhost:8080/"
        },
        "id": "J07xhtcs5CwI",
        "outputId": "2cfcf1cc-add2-43f6-85f7-c7925915d75b"
      },
      "execution_count": null,
      "outputs": [
        {
          "output_type": "stream",
          "name": "stdout",
          "text": [
            "['honda', 'yamaha', 'suzuki', 'ducati']\n"
          ]
        }
      ]
    },
    {
      "cell_type": "code",
      "source": [
        "#adding to an empty list by append calls\n",
        "\n",
        "motorcycles = []\n",
        "\n",
        "motorcycles.append(\"honda\")\n",
        "motorcycles.append(\"yamaha\")\n",
        "motorcycles.append(\"suzuki\")\n",
        "\n",
        "print(motorcycles)"
      ],
      "metadata": {
        "colab": {
          "base_uri": "https://localhost:8080/"
        },
        "id": "8hh2y7MHBCl4",
        "outputId": "f1f50c2f-d149-4bbc-c6a2-745aba4da634"
      },
      "execution_count": null,
      "outputs": [
        {
          "output_type": "stream",
          "name": "stdout",
          "text": [
            "['honda', 'yamaha', 'suzuki']\n"
          ]
        }
      ]
    },
    {
      "cell_type": "code",
      "source": [
        "#Inserting elements into a list\n",
        "\n",
        "motorcycles = [\"honda\", \"yamaha\", \"suzuki\"]\n",
        "\n",
        "motorcycles.insert(0, \"ducati\")\n",
        "print(motorcycles)"
      ],
      "metadata": {
        "colab": {
          "base_uri": "https://localhost:8080/"
        },
        "id": "Hgya_259GC5z",
        "outputId": "d4fbcd48-7927-43a4-9fec-144535dad445"
      },
      "execution_count": null,
      "outputs": [
        {
          "output_type": "stream",
          "name": "stdout",
          "text": [
            "['ducati', 'honda', 'yamaha', 'suzuki']\n"
          ]
        }
      ]
    },
    {
      "cell_type": "code",
      "source": [
        "# REMOVING ELEMENTS FROM A LIST     NOTE: if you are unsure to use del or pop(). Delete wipes it...pop deletes but stores it\n",
        "\n",
        "#using a del statement\n",
        "motorcycles = [\"honda\", \"yamaha\", \"suzuki\"]\n",
        "print(motorcycles)\n",
        "\n",
        "del motorcycles[0]\n",
        "print(motorcycles)"
      ],
      "metadata": {
        "colab": {
          "base_uri": "https://localhost:8080/"
        },
        "id": "_Uk-8cRyH1-F",
        "outputId": "9198261f-82ba-4edb-ca77-2d07f864adee"
      },
      "execution_count": null,
      "outputs": [
        {
          "output_type": "stream",
          "name": "stdout",
          "text": [
            "['honda', 'yamaha', 'suzuki']\n",
            "['yamaha', 'suzuki']\n"
          ]
        }
      ]
    },
    {
      "cell_type": "code",
      "source": [
        "#removing an item using the pop()Method     NOTE: change any pop() item by selecting the index position.\n",
        "\n",
        "motorcycles = [\"honda\", \"yamaha\", \"suzuki\"]\n",
        "print(motorcycles)\n",
        "\n",
        "popped_motorcycle = motorcycles.pop()\n",
        "print(motorcycles)\n",
        "print(popped_motorcycle)\n",
        "\n",
        "\n",
        "print(f\"The last motorcycle i but was a {popped_motorcycle.title()}.\")"
      ],
      "metadata": {
        "colab": {
          "base_uri": "https://localhost:8080/"
        },
        "id": "AkACfOWNUKzU",
        "outputId": "232077c3-1431-4c40-ddb4-8b8f28377d44"
      },
      "execution_count": null,
      "outputs": [
        {
          "output_type": "stream",
          "name": "stdout",
          "text": [
            "['honda', 'yamaha', 'suzuki']\n",
            "['honda', 'yamaha']\n",
            "suzuki\n",
            "The last motorcycle i but was a Suzuki.\n"
          ]
        }
      ]
    },
    {
      "cell_type": "code",
      "source": [
        "#Removing an item by value      remove() method\n",
        "\n",
        "\n",
        "motorcycles = [\"honda\", \"yamaha\", \"suzuki\", \"ducati\"]\n",
        "print(motorcycles)\n",
        "\n",
        "motorcycles.remove(\"ducati\")\n",
        "print(motorcycles)"
      ],
      "metadata": {
        "colab": {
          "base_uri": "https://localhost:8080/"
        },
        "id": "Mu71QpAyXsIK",
        "outputId": "0df7304e-2b3f-47d3-bb40-1cb2bf60b4f2"
      },
      "execution_count": null,
      "outputs": [
        {
          "output_type": "stream",
          "name": "stdout",
          "text": [
            "['honda', 'yamaha', 'suzuki', 'ducati']\n",
            "['honda', 'yamaha', 'suzuki']\n"
          ]
        }
      ]
    },
    {
      "cell_type": "code",
      "source": [
        "motorcycles = [\"honda\", \"yamaha\", \"suzuki\", \"ducati\"]\n",
        "print(motorcycles)\n",
        "\n",
        "too_expensive = \"ducati\"\n",
        "motorcycles.remove(too_expensive)\n",
        "print(motorcycles)\n",
        "print(f\"\\nA {too_expensive.title()} is to expensive for me.\")"
      ],
      "metadata": {
        "colab": {
          "base_uri": "https://localhost:8080/"
        },
        "id": "dns4ZhwUfJ09",
        "outputId": "a6908c7d-863b-43de-869c-a061d7dc1315"
      },
      "execution_count": null,
      "outputs": [
        {
          "output_type": "stream",
          "name": "stdout",
          "text": [
            "['honda', 'yamaha', 'suzuki', 'ducati']\n",
            "['honda', 'yamaha', 'suzuki']\n",
            "\n",
            "A Ducati is to expensive for me.\n"
          ]
        }
      ]
    },
    {
      "cell_type": "code",
      "source": [
        "\n",
        "\n"
      ],
      "metadata": {
        "id": "e4mCpL1XhQA5"
      },
      "execution_count": null,
      "outputs": []
    },
    {
      "cell_type": "markdown",
      "source": [
        "**cars.py**\n",
        "\n",
        "  Organizing a list permanently with the sort() method"
      ],
      "metadata": {
        "id": "ydybtq_7huYA"
      }
    },
    {
      "cell_type": "code",
      "source": [
        "# sort() method arranges list alphabetically permanently\n",
        "\n",
        "cars = [\"bmw\", \"audi\", \"toyota\", \"subaru\"]\n",
        "cars.sort()\n",
        "print(cars)"
      ],
      "metadata": {
        "colab": {
          "base_uri": "https://localhost:8080/"
        },
        "id": "nvdFBj3EiJil",
        "outputId": "0f6f4374-6d3a-48b9-f2ba-3519bc3db1f6"
      },
      "execution_count": null,
      "outputs": [
        {
          "output_type": "stream",
          "name": "stdout",
          "text": [
            "['audi', 'bmw', 'subaru', 'toyota']\n"
          ]
        }
      ]
    },
    {
      "cell_type": "code",
      "source": [
        "# reverse alphabetical order\n",
        "\n",
        "cars = [\"bmw\", \"audi\", \"toyota\", \"suburu\"]\n",
        "cars.sort(reverse=True)\n",
        "print(cars)"
      ],
      "metadata": {
        "colab": {
          "base_uri": "https://localhost:8080/"
        },
        "id": "fQR_SGaci055",
        "outputId": "1b431894-a071-446b-cf50-b912f18747ca"
      },
      "execution_count": null,
      "outputs": [
        {
          "output_type": "stream",
          "name": "stdout",
          "text": [
            "['toyota', 'suburu', 'bmw', 'audi']\n"
          ]
        }
      ]
    },
    {
      "cell_type": "code",
      "source": [
        "#sorting a list temporarily with the sorted() Function\n",
        "\n",
        "cars = [\"bmw\", \"audi\", \"toyota\", \"suburu\"]\n",
        "\n",
        "print(\"Here is the original list:\")\n",
        "print(cars)\n",
        "\n",
        "print(\"\\nHere is the sorted list:\")\n",
        "print(sorted(cars))\n",
        "\n",
        "print(\"\\nHere is the original list again:\")\n",
        "print(cars)"
      ],
      "metadata": {
        "colab": {
          "base_uri": "https://localhost:8080/"
        },
        "id": "kZpbyWbxlPgB",
        "outputId": "6de1202e-7740-488c-a10c-d208f61c855c"
      },
      "execution_count": null,
      "outputs": [
        {
          "output_type": "stream",
          "name": "stdout",
          "text": [
            "Here is the original list:\n",
            "['bmw', 'audi', 'toyota', 'suburu']\n",
            "\n",
            "Here is the sorted list:\n",
            "['audi', 'bmw', 'suburu', 'toyota']\n",
            "\n",
            "Here is the orginal list again:\n",
            "['bmw', 'audi', 'toyota', 'suburu']\n"
          ]
        }
      ]
    },
    {
      "cell_type": "code",
      "source": [
        "#printing a List in reverse order       if you need to change it back to its original order, apply reverse() again\n",
        "\n",
        "cars = [\"bmw\", \"audi\", \"toyota\", \"suburu\"]\n",
        "print(cars)\n",
        "\n",
        "cars.reverse()\n",
        "print(cars)\n"
      ],
      "metadata": {
        "id": "7mXLLDajn_lm"
      },
      "execution_count": null,
      "outputs": []
    },
    {
      "cell_type": "code",
      "source": [
        "#Finding the length of a list\n",
        "\n",
        "cars = [\"bmw\", \"audi\", \"toyota\", \"subaru\"]\n",
        "len(cars)"
      ],
      "metadata": {
        "colab": {
          "base_uri": "https://localhost:8080/"
        },
        "id": "bXxT-ZTmo6_X",
        "outputId": "6496ef84-16ac-42b9-c5a4-18375e918e82"
      },
      "execution_count": null,
      "outputs": [
        {
          "output_type": "execute_result",
          "data": {
            "text/plain": [
              "4"
            ]
          },
          "metadata": {},
          "execution_count": 14
        }
      ]
    },
    {
      "cell_type": "markdown",
      "source": [
        "USING KNOWLEDGE OF LIST COMPREHENSION FROM CHAPTER 3"
      ],
      "metadata": {
        "id": "6-gv_GXhrqLm"
      }
    },
    {
      "cell_type": "code",
      "source": [
        "#Print the cubes of of all integers that are a multiple of 7 between 60 and 85\n",
        "\n",
        "integers = [67, 74, 81]\n",
        "\n",
        "print((integers[0] ** 3))\n",
        "print((integers[1] ** 3))\n",
        "print((integers[2] ** 3))\n",
        "\n",
        "\n"
      ],
      "metadata": {
        "colab": {
          "base_uri": "https://localhost:8080/"
        },
        "id": "gtMPXjB3sPIn",
        "outputId": "b51c79bf-d3a8-4164-85c3-3bb8e16553c7"
      },
      "execution_count": null,
      "outputs": [
        {
          "output_type": "stream",
          "name": "stdout",
          "text": [
            "300763\n",
            "405224\n",
            "531441\n"
          ]
        }
      ]
    },
    {
      "cell_type": "code",
      "source": [
        "#compute y = 7.4x + 51 for the set of values 40, 50, 120, -8, 6\n",
        "\n",
        "x_list = [40, 50, 120, -8, 6]\n",
        "\n",
        "print(\"y =\",7*(x_list[0])+51)\n",
        "print(\"y =\",7*(x_list[1])+51)\n",
        "print(\"y =\",7*(x_list[2])+51)\n",
        "print(\"y =\",7*(x_list[3])+51)\n",
        "print(\"y =\",7*(x_list[4])+51)\n",
        "\n"
      ],
      "metadata": {
        "colab": {
          "base_uri": "https://localhost:8080/"
        },
        "id": "hwHLbkrRYqTj",
        "outputId": "4c9aed9f-df7f-49f1-8e24-9c764ddf3b49"
      },
      "execution_count": null,
      "outputs": [
        {
          "output_type": "stream",
          "name": "stdout",
          "text": [
            "y = 331\n",
            "y = 401\n",
            "y = 891\n",
            "y = -5\n",
            "y = 93\n"
          ]
        }
      ]
    },
    {
      "cell_type": "code",
      "source": [
        "names = [\"andre\", \"cyle\"]\n",
        "\n",
        "message = \"Hope you having a good day\"\n",
        "\n",
        "print(message, names[0].title())\n",
        "\n",
        "print(f\"\\n{message} {names[1].title()}.\")"
      ],
      "metadata": {
        "colab": {
          "base_uri": "https://localhost:8080/"
        },
        "id": "tR09EpA-y67v",
        "outputId": "23f59a36-5c39-4547-b80d-10cbaa5582b4"
      },
      "execution_count": 25,
      "outputs": [
        {
          "output_type": "stream",
          "name": "stdout",
          "text": [
            "Hope you having a good day Andre\n",
            "\n",
            "Hope you having a good day Cyle.\n"
          ]
        }
      ]
    },
    {
      "cell_type": "code",
      "source": [],
      "metadata": {
        "id": "1pKMY-IC0vHC"
      },
      "execution_count": null,
      "outputs": []
    },
    {
      "cell_type": "code",
      "source": [
        "#GUEST LIST \"try it yourself\"\n",
        "\n",
        "guest_list = [\"nick\", \"andre\", \"cyle\", \"matt\"]\n",
        "\n",
        "message = '\"Would you like to go out to dinner,\"'\n",
        "\n",
        "print(message, guest_list[0].title())\n",
        "print(message, guest_list[1].title())\n",
        "print(message, guest_list[2].title())\n",
        "print(message, guest_list[3].title())\n",
        "\n",
        "print(\"list has been updated to....\")\n",
        "\n",
        "guest_list[0] = \"Sean\"\n",
        "\n",
        "print(guest_list)\n",
        "\n",
        "\n",
        "print(\"we found a bigger table for dinner!\")\n",
        "\n",
        "guest_list.insert(0, \"cameron\")\n",
        "guest_list.insert(3, \"laura\")\n",
        "guest_list.append(\"anthony\")\n",
        "print(len(guest_list))\n",
        "\n",
        "\n",
        "print(\"plans changed, i can only invite 2 people for dinner\")\n",
        "\n",
        "\n",
        "guest_list.pop(0)\n",
        "print(\"sorry for the cancel\")\n",
        "guest_list.pop(1)\n",
        "print(\"sorry i had to cancel\")\n",
        "guest_list.pop(2)\n",
        "print(\"sorry i canceled\")\n",
        "guest_list.pop(3)\n",
        "print(\"i had to cancel\")\n",
        "guest_list.pop(-1)\n",
        "print(\"sorry i canceled\")\n",
        "\n",
        "\n",
        "print(guest_list, \"You are still invited!!\")\n",
        "\n",
        "len(guest_list)\n",
        "\n",
        "\n",
        "\n"
      ],
      "metadata": {
        "colab": {
          "base_uri": "https://localhost:8080/"
        },
        "id": "Fc5S9Y9ZEjdx",
        "outputId": "dbabb4e6-0b23-4962-962f-284c11ee55b6"
      },
      "execution_count": 38,
      "outputs": [
        {
          "output_type": "stream",
          "name": "stdout",
          "text": [
            "\"Would you like to go out to dinner,\" Nick\n",
            "\"Would you like to go out to dinner,\" Andre\n",
            "\"Would you like to go out to dinner,\" Cyle\n",
            "\"Would you like to go out to dinner,\" Matt\n",
            "list has been updated to....\n",
            "['Sean', 'andre', 'cyle', 'matt']\n",
            "we found a bigger table for dinner!\n",
            "7\n",
            "plans changed, i can only invite 2 people for dinner\n",
            "sorry for the cancel\n",
            "sorry i had to cancel\n",
            "sorry i canceled\n",
            "i had to cancel\n",
            "sorry i canceled\n",
            "['Sean', 'laura'] You are still invited!!\n"
          ]
        },
        {
          "output_type": "execute_result",
          "data": {
            "text/plain": [
              "2"
            ]
          },
          "metadata": {},
          "execution_count": 38
        }
      ]
    },
    {
      "cell_type": "code",
      "source": [
        "#try it yourself \"SEEING THE WORLD\"\n",
        "\n",
        "locations = [\"spain\", \"ecuador\", \"china\", \"egypt\"]\n",
        "\n",
        "print(locations)\n",
        "\n",
        "print(sorted(locations))\n",
        "print(locations)\n",
        "\n",
        "locations.reverse()\n",
        "print(locations)\n",
        "\n",
        "locations.reverse()\n",
        "print(locations)\n",
        "\n",
        "locations.sort()\n",
        "print(locations)\n",
        "\n",
        "locations.sort(reverse=True)\n",
        "print(locations)\n",
        "\n",
        "\n"
      ],
      "metadata": {
        "colab": {
          "base_uri": "https://localhost:8080/"
        },
        "id": "uVVS8dtr4og5",
        "outputId": "0e68fd94-836f-4af5-8b15-3799c944b334"
      },
      "execution_count": 33,
      "outputs": [
        {
          "output_type": "stream",
          "name": "stdout",
          "text": [
            "['spain', 'ecuador', 'china', 'egypt']\n",
            "['china', 'ecuador', 'egypt', 'spain']\n",
            "['spain', 'ecuador', 'china', 'egypt']\n",
            "['egypt', 'china', 'ecuador', 'spain']\n",
            "['spain', 'ecuador', 'china', 'egypt']\n",
            "['china', 'ecuador', 'egypt', 'spain']\n",
            "['spain', 'egypt', 'ecuador', 'china']\n"
          ]
        }
      ]
    }
  ]
}