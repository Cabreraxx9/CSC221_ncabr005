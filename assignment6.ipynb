{
  "nbformat": 4,
  "nbformat_minor": 0,
  "metadata": {
    "colab": {
      "provenance": [],
      "authorship_tag": "ABX9TyOvvkecbDp4niIHqFsioCya",
      "include_colab_link": true
    },
    "kernelspec": {
      "name": "python3",
      "display_name": "Python 3"
    },
    "language_info": {
      "name": "python"
    }
  },
  "cells": [
    {
      "cell_type": "markdown",
      "metadata": {
        "id": "view-in-github",
        "colab_type": "text"
      },
      "source": [
        "<a href=\"https://colab.research.google.com/github/Cabreraxx9/CSC221_ncabr005/blob/main/assignment6.ipynb\" target=\"_parent\"><img src=\"https://colab.research.google.com/assets/colab-badge.svg\" alt=\"Open In Colab\"/></a>"
      ]
    },
    {
      "cell_type": "markdown",
      "source": [
        "cars.py"
      ],
      "metadata": {
        "id": "Tdxo5r0A_SI_"
      }
    },
    {
      "cell_type": "code",
      "execution_count": 3,
      "metadata": {
        "colab": {
          "base_uri": "https://localhost:8080/"
        },
        "id": "74Wjl3rukh_g",
        "outputId": "cec7fd6e-8f90-4b9b-8d6a-ba425fc64388"
      },
      "outputs": [
        {
          "output_type": "stream",
          "name": "stdout",
          "text": [
            "Audi\n",
            "BMW\n",
            "Subaru\n",
            "Toyota\n"
          ]
        }
      ],
      "source": [
        "#Simple if test\n",
        "cars = [\"audi\", \"bmw\", \"subaru\", \"toyota\"]\n",
        "\n",
        "for car in cars:\n",
        "  if car == \"bmw\":\n",
        "    print(car.upper())\n",
        "\n",
        "  else:\n",
        "    print(car.title())"
      ]
    },
    {
      "cell_type": "code",
      "source": [
        "#checking for equality\n",
        "car =\"bmw\"\n",
        "car == \"bmw\""
      ],
      "metadata": {
        "colab": {
          "base_uri": "https://localhost:8080/"
        },
        "id": "OH4_MjZarPjr",
        "outputId": "e385d35a-47b9-429d-f014-b730dac5a831"
      },
      "execution_count": 1,
      "outputs": [
        {
          "output_type": "execute_result",
          "data": {
            "text/plain": [
              "True"
            ]
          },
          "metadata": {},
          "execution_count": 1
        }
      ]
    },
    {
      "cell_type": "code",
      "source": [
        "car =\"audi\"\n",
        "car == \"bmw\""
      ],
      "metadata": {
        "id": "kviI4yv4If0N"
      },
      "execution_count": null,
      "outputs": []
    },
    {
      "cell_type": "code",
      "source": [
        "#testing for equality is case sensitive\n",
        "\n",
        "car =\"Audi\"\n",
        "car == \"audi\""
      ],
      "metadata": {
        "colab": {
          "base_uri": "https://localhost:8080/"
        },
        "id": "WN0Zdzpe7p2k",
        "outputId": "f8ac75f0-1780-4c61-da75-a9fb13a988d9"
      },
      "execution_count": 2,
      "outputs": [
        {
          "output_type": "execute_result",
          "data": {
            "text/plain": [
              "False"
            ]
          },
          "metadata": {},
          "execution_count": 2
        }
      ]
    },
    {
      "cell_type": "code",
      "source": [
        "#some sites use a conditional test like these to ensure every users name is truly unique, not just a varation on the capitlizaton\n",
        "#when someone submits a new username its usually converted to lowercase and compared to all lower case versions of all existing usernames\n",
        "\n",
        "car =\"Audi\"\n",
        "car.lower() == \"audi\"\n",
        "\n",
        "car"
      ],
      "metadata": {
        "colab": {
          "base_uri": "https://localhost:8080/"
        },
        "id": "Hs6hyJ1h9N2o",
        "outputId": "e99a9327-4f5a-4a8c-93b5-18b167081fc7"
      },
      "execution_count": 35,
      "outputs": [
        {
          "output_type": "execute_result",
          "data": {
            "text/plain": [
              "True"
            ]
          },
          "metadata": {},
          "execution_count": 35
        }
      ]
    },
    {
      "cell_type": "code",
      "source": [
        "#Checking for inequality\n",
        "\n",
        "# When you want to check whether two values are not equal, can use a inequality operator(!=)\n",
        "\n",
        "# toppings.py\n",
        "\n",
        "requested_topping = \"mushrooms\"\n",
        "\n",
        "if requested_topping != \"anchovies\":\n",
        "  print(\"Hold the anchovies\")"
      ],
      "metadata": {
        "colab": {
          "base_uri": "https://localhost:8080/"
        },
        "id": "8v7QJkNR-ekR",
        "outputId": "53a03696-c48d-4eb8-c353-c04276a43049"
      },
      "execution_count": 5,
      "outputs": [
        {
          "output_type": "stream",
          "name": "stdout",
          "text": [
            "Hold the anchovies\n"
          ]
        }
      ]
    },
    {
      "cell_type": "code",
      "source": [
        "#numerical comparisons\n",
        "\n",
        "#checking whether a person is 18 years old\n",
        "\n",
        "age = 18\n",
        "\n",
        "age == 18"
      ],
      "metadata": {
        "colab": {
          "base_uri": "https://localhost:8080/"
        },
        "id": "TbKGnOT0AENx",
        "outputId": "9744941b-54ee-40fd-f7d9-c00ac8e63015"
      },
      "execution_count": 6,
      "outputs": [
        {
          "output_type": "execute_result",
          "data": {
            "text/plain": [
              "True"
            ]
          },
          "metadata": {},
          "execution_count": 6
        }
      ]
    },
    {
      "cell_type": "code",
      "source": [
        "# magic_number.py\n",
        "\n",
        "#test to see two numbers are not equal\n",
        "\n",
        "answer = 17\n",
        "\n",
        "if answer != 42:\n",
        "  print(\"Wrong answer\")"
      ],
      "metadata": {
        "colab": {
          "base_uri": "https://localhost:8080/"
        },
        "id": "TgslM4I4Ag6m",
        "outputId": "b8923848-e4b6-4c8f-8787-7e6e53666ab7"
      },
      "execution_count": 10,
      "outputs": [
        {
          "output_type": "stream",
          "name": "stdout",
          "text": [
            "Wrong answer\n"
          ]
        }
      ]
    },
    {
      "cell_type": "code",
      "source": [
        "#Including various mathematical comparisons in conditional statements\n",
        "\n",
        "age = 19\n",
        "age < 21"
      ],
      "metadata": {
        "colab": {
          "base_uri": "https://localhost:8080/"
        },
        "id": "m_j5bUWhBlXy",
        "outputId": "3ab805b7-f090-44b6-db09-060dfd782351"
      },
      "execution_count": 12,
      "outputs": [
        {
          "output_type": "execute_result",
          "data": {
            "text/plain": [
              "True"
            ]
          },
          "metadata": {},
          "execution_count": 12
        }
      ]
    },
    {
      "cell_type": "code",
      "source": [
        "age = 19\n",
        "age > 21"
      ],
      "metadata": {
        "colab": {
          "base_uri": "https://localhost:8080/"
        },
        "id": "xorDMDiXCExs",
        "outputId": "3083bfd7-9d4d-458d-d523-eb8816240202"
      },
      "execution_count": 13,
      "outputs": [
        {
          "output_type": "execute_result",
          "data": {
            "text/plain": [
              "False"
            ]
          },
          "metadata": {},
          "execution_count": 13
        }
      ]
    },
    {
      "cell_type": "code",
      "source": [
        "#Checking multiple conditions\n",
        "\n",
        "#using \"and\" to check two conditions simultaneously\n",
        "\n",
        "age_0 = 22\n",
        "age_1 = 18\n",
        "age_0 >= 21 and age_1 >= 21"
      ],
      "metadata": {
        "colab": {
          "base_uri": "https://localhost:8080/"
        },
        "id": "tGtz-jpMDxQb",
        "outputId": "1e0b8009-eb0b-4dc0-b41b-b89c9b3facb0"
      },
      "execution_count": 14,
      "outputs": [
        {
          "output_type": "execute_result",
          "data": {
            "text/plain": [
              "False"
            ]
          },
          "metadata": {},
          "execution_count": 14
        }
      ]
    },
    {
      "cell_type": "code",
      "source": [
        "#Using or to check multiple conditions\n",
        "#passes true if one condition passes\n",
        "\n",
        "age_0 = 22\n",
        "age_1 = 18\n",
        "age_0 >= 21 or age_1 >= 21"
      ],
      "metadata": {
        "colab": {
          "base_uri": "https://localhost:8080/"
        },
        "id": "AL_0Bij2E7uc",
        "outputId": "a77b0bae-32ac-4651-e13c-a8e76c73c338"
      },
      "execution_count": 15,
      "outputs": [
        {
          "output_type": "execute_result",
          "data": {
            "text/plain": [
              "True"
            ]
          },
          "metadata": {},
          "execution_count": 15
        }
      ]
    },
    {
      "cell_type": "code",
      "source": [
        "age_0 = 20\n",
        "\n",
        "age_0 >= 21 or age_1 >= 21"
      ],
      "metadata": {
        "colab": {
          "base_uri": "https://localhost:8080/"
        },
        "id": "uvE4K0p-GX4S",
        "outputId": "2dc53919-d6c3-439f-e875-f7957ee5021b"
      },
      "execution_count": 17,
      "outputs": [
        {
          "output_type": "execute_result",
          "data": {
            "text/plain": [
              "False"
            ]
          },
          "metadata": {},
          "execution_count": 17
        }
      ]
    },
    {
      "cell_type": "code",
      "source": [
        "#Check whether a value is in a list\n",
        "\n",
        "requested_toppings = [\"mushrooms\", \"onions\", \"pineapple\"]\n",
        "\n",
        "\"mushrooms\" in requested_toppings"
      ],
      "metadata": {
        "colab": {
          "base_uri": "https://localhost:8080/"
        },
        "id": "SOEeQNshHcQe",
        "outputId": "46f22f21-dec8-4aab-a07b-66eb78694437"
      },
      "execution_count": 23,
      "outputs": [
        {
          "output_type": "execute_result",
          "data": {
            "text/plain": [
              "True"
            ]
          },
          "metadata": {},
          "execution_count": 23
        }
      ]
    },
    {
      "cell_type": "code",
      "source": [
        "requested_toppings = [\"mushrooms\", \"onions\", \"pineapple\"]\n",
        "\n",
        "\"pepporoni\" in requested_toppings"
      ],
      "metadata": {
        "colab": {
          "base_uri": "https://localhost:8080/"
        },
        "id": "KCH58KmiI38a",
        "outputId": "212ef1b9-a8e0-40b6-9161-5161c0dcd3e4"
      },
      "execution_count": 22,
      "outputs": [
        {
          "output_type": "execute_result",
          "data": {
            "text/plain": [
              "False"
            ]
          },
          "metadata": {},
          "execution_count": 22
        }
      ]
    },
    {
      "cell_type": "code",
      "source": [
        "#Checking whether a value is not in a list\n",
        "\n",
        "# banned_users.py\n",
        "\n",
        "banned_users = [\"andrew\", \"carolina\", \"david\"]\n",
        "user = \"marie\"\n",
        "\n",
        "if user not in banned_users:\n",
        "  print(f\"{user.title()}, you cant post if you want.\")"
      ],
      "metadata": {
        "colab": {
          "base_uri": "https://localhost:8080/"
        },
        "id": "Qf_QZVPzJH7M",
        "outputId": "46be783f-0bf6-4bf8-ce0d-a82703dbe054"
      },
      "execution_count": 24,
      "outputs": [
        {
          "output_type": "stream",
          "name": "stdout",
          "text": [
            "Marie, you cant post if you want.\n"
          ]
        }
      ]
    },
    {
      "cell_type": "code",
      "source": [
        "#  BOOLEAN EXPRESSIONS another name for conditonal test.\n",
        "\n",
        "game_active = True\n",
        "can_edit = False"
      ],
      "metadata": {
        "id": "l78mZNggLVXB"
      },
      "execution_count": 25,
      "outputs": []
    },
    {
      "cell_type": "code",
      "source": [
        "#Try it yourself\n",
        "\n",
        "# conditonal test\n",
        "\n",
        "motorcycle = \"kawasaki\"\n",
        "\n",
        "print(\"Is motorcycle == kawasaki? I predict true.\")\n",
        "print(motorcycle == \"kawasaki\")\n",
        "\n",
        "print(\"\\nIs your motorcyle == honda\")\n",
        "print(motorcycle == \"honda\")\n",
        "\n",
        "print(\"\\nIs your motorcycle not equal to honda. def not equal so thats gotta be true\")\n",
        "print(motorcycle != \"honda\")"
      ],
      "metadata": {
        "id": "njhupU-SMKLm"
      },
      "execution_count": null,
      "outputs": []
    },
    {
      "cell_type": "code",
      "source": [
        "motorcycle = \"Kawasaki\"\n",
        "motorcycle.lower() == \"kawasaki\"\n"
      ],
      "metadata": {
        "colab": {
          "base_uri": "https://localhost:8080/"
        },
        "id": "9qY4M0PQU61D",
        "outputId": "22acb71b-a5e7-4423-dc4b-02e1644475a9"
      },
      "execution_count": 36,
      "outputs": [
        {
          "output_type": "execute_result",
          "data": {
            "text/plain": [
              "True"
            ]
          },
          "metadata": {},
          "execution_count": 36
        }
      ]
    },
    {
      "cell_type": "markdown",
      "source": [
        "**if statements**"
      ],
      "metadata": {
        "id": "gTz2MG8OW8u6"
      }
    },
    {
      "cell_type": "code",
      "source": [
        "# simple if statements\n",
        "\n",
        "# voting.py\n",
        "\n",
        "age = 19\n",
        "if age >= 18:\n",
        "  print(\"youre old enough to vote\")"
      ],
      "metadata": {
        "colab": {
          "base_uri": "https://localhost:8080/"
        },
        "id": "q0x__SSnXAu3",
        "outputId": "deed2119-11d7-4561-b5a6-0abd8707c131"
      },
      "execution_count": 37,
      "outputs": [
        {
          "output_type": "stream",
          "name": "stdout",
          "text": [
            "youre old enought to vote\n"
          ]
        }
      ]
    },
    {
      "cell_type": "code",
      "source": [
        "age = 19\n",
        "\n",
        "if age >= 18:\n",
        "  print(\"youre old enough to vote\")\n",
        "  print(\"Have you registered to vote yet\")"
      ],
      "metadata": {
        "colab": {
          "base_uri": "https://localhost:8080/"
        },
        "id": "pqxnIcPJXq60",
        "outputId": "3148474c-06b5-4840-9187-6dc05a544e4e"
      },
      "execution_count": 38,
      "outputs": [
        {
          "output_type": "stream",
          "name": "stdout",
          "text": [
            "youre old enough to vote\n",
            "Have you registered to vote yet\n"
          ]
        }
      ]
    },
    {
      "cell_type": "markdown",
      "source": [
        "**if-else statements**"
      ],
      "metadata": {
        "id": "FJPE676uX2hs"
      }
    },
    {
      "cell_type": "code",
      "source": [
        "#else allows you to define an action or actions that are executed when the conditon fails\n",
        "\n",
        "age = 17\n",
        "\n",
        "if age >= 18:\n",
        "  print(\"You're old enough to vote\")\n",
        "  print(\"Have you registered to vote yet\")\n",
        "\n",
        "else:\n",
        "  print(\"Sorry, you are to young to vote\")\n",
        "  print(\"Please register to vote as soon as you turn 18\")"
      ],
      "metadata": {
        "colab": {
          "base_uri": "https://localhost:8080/"
        },
        "id": "0MU-XpDIX62E",
        "outputId": "a63f29b3-4634-4d50-ba2c-6accce97bbd1"
      },
      "execution_count": 39,
      "outputs": [
        {
          "output_type": "stream",
          "name": "stdout",
          "text": [
            "Sorry, you are to young to vote\n",
            "Please register to vote as soon as you turn 18\n"
          ]
        }
      ]
    },
    {
      "cell_type": "markdown",
      "source": [
        "**The if-elif-else Chain**"
      ],
      "metadata": {
        "id": "u35Ttyo1ZLMi"
      }
    },
    {
      "cell_type": "code",
      "source": [
        "#amusement-park.py\n",
        "\n",
        "age = 2\n",
        "\n",
        "if age < 4:\n",
        "  print(\"your admission cost is 0\")\n",
        "elif age < 18:\n",
        "  print(\"Your admission cost is $25\")\n",
        "else:\n",
        "  print(\"Your admission cost is $40\")"
      ],
      "metadata": {
        "colab": {
          "base_uri": "https://localhost:8080/"
        },
        "id": "HgkP1Hx5ZQHH",
        "outputId": "fc83d5e4-93ea-43eb-83ab-2625d776aea7"
      },
      "execution_count": 42,
      "outputs": [
        {
          "output_type": "stream",
          "name": "stdout",
          "text": [
            "your admission cost is 0\n"
          ]
        }
      ]
    },
    {
      "cell_type": "code",
      "source": [
        "#more concise code than previous\n",
        "\n",
        "age = 20\n",
        "\n",
        "if age < 4:\n",
        "  price = 0\n",
        "\n",
        "elif age < 18:\n",
        "  price = 25\n",
        "\n",
        "else:\n",
        "  price = 40\n",
        "\n",
        "print(f\"Your admission cost is {price}\")"
      ],
      "metadata": {
        "colab": {
          "base_uri": "https://localhost:8080/"
        },
        "id": "UHW775RjfDHs",
        "outputId": "f133ae9b-d52d-45bd-be47-6ce3b569ef98"
      },
      "execution_count": 44,
      "outputs": [
        {
          "output_type": "stream",
          "name": "stdout",
          "text": [
            "Your admission cost is 40\n"
          ]
        }
      ]
    },
    {
      "cell_type": "markdown",
      "source": [
        "**Using multiple elif blocks**"
      ],
      "metadata": {
        "id": "9cSt22OPgFRQ"
      }
    },
    {
      "cell_type": "code",
      "source": [
        "age = 70\n",
        "\n",
        "if age < 4:\n",
        "  price = 0\n",
        "\n",
        "elif age < 18:\n",
        "  price = 25\n",
        "\n",
        "elif age < 65:\n",
        "  price = 40\n",
        "\n",
        "else:\n",
        "  price = 20\n",
        "\n",
        "print(f\"Your admission cost is {price}\")"
      ],
      "metadata": {
        "colab": {
          "base_uri": "https://localhost:8080/"
        },
        "id": "3owLqWEZgJZb",
        "outputId": "529b2ec5-9c51-4416-e0d6-102636dc1d65"
      },
      "execution_count": 48,
      "outputs": [
        {
          "output_type": "stream",
          "name": "stdout",
          "text": [
            "Your admission cost is 20\n"
          ]
        }
      ]
    },
    {
      "cell_type": "markdown",
      "source": [
        "**Omitting the else block**"
      ],
      "metadata": {
        "id": "EU1gnpEQiQt-"
      }
    },
    {
      "cell_type": "code",
      "source": [
        "age = 70\n",
        "\n",
        "if age < 4:\n",
        "  price = 0\n",
        "\n",
        "elif age < 18:\n",
        "  price = 25\n",
        "\n",
        "elif age < 65:\n",
        "  price = 40\n",
        "\n",
        "elif age >= 65:\n",
        "  price = 20\n",
        "\n",
        "print(f\"Your admission cost is {price}\")"
      ],
      "metadata": {
        "colab": {
          "base_uri": "https://localhost:8080/"
        },
        "id": "ShlyeUNliUXZ",
        "outputId": "8a6eb508-4abd-4b2b-e6c3-8f44b5a04c5e"
      },
      "execution_count": 49,
      "outputs": [
        {
          "output_type": "stream",
          "name": "stdout",
          "text": [
            "Your admission cost is 20\n"
          ]
        }
      ]
    },
    {
      "cell_type": "markdown",
      "source": [
        "Testing multiple Conditions"
      ],
      "metadata": {
        "id": "sWjf-wlSs8je"
      }
    },
    {
      "cell_type": "code",
      "source": [
        "# toppings.py\n",
        "\n",
        "requested_toppings = [\"mushrooms\", \"extra cheese\"]\n",
        "\n",
        "if \"mushrooms\" in requested_toppings:\n",
        "  print(\"Adding mushrooms.\")\n",
        "if \"pepperoni\" in requested_toppings:\n",
        "  print(\"adding pepporoni.\")\n",
        "if \"extra cheese\" in requested_toppings:\n",
        "  print(\"Adding extra cheese.\")\n",
        "\n",
        "print(\"\\nFinished making your pizza!\")"
      ],
      "metadata": {
        "colab": {
          "base_uri": "https://localhost:8080/"
        },
        "id": "nHm5IsgUtKKq",
        "outputId": "f858eed4-04b5-46ed-a380-34e02a96d5cd"
      },
      "execution_count": 52,
      "outputs": [
        {
          "output_type": "stream",
          "name": "stdout",
          "text": [
            "Adding mushrooms.\n",
            "Adding extra cheese.\n",
            "\n",
            "Finished making your pizza!\n"
          ]
        }
      ]
    },
    {
      "cell_type": "code",
      "source": [
        "#Test it yourself\n",
        "\n",
        "#5-3 Alien Colors #1\n",
        "\n",
        "alien_color = \"green\"\n",
        "\n",
        "if alien_color == \"green\":\n",
        " print(\"aliens are always green and you earn 5 points\")\n",
        "\n",
        "elif alien_color == \"black\":\n",
        "  print()"
      ],
      "metadata": {
        "id": "dqrap2N-4Lyf"
      },
      "execution_count": null,
      "outputs": []
    },
    {
      "cell_type": "code",
      "source": [
        "#5-4 Alien colors #2\n",
        "\n",
        "alien_color = \"red\"\n",
        "\n",
        "if alien_color ==  \"red\":\n",
        "  print(\"5 points for shooting alien\")\n",
        "\n",
        "\n",
        "else:\n",
        "  print(\"you earned 10 points\")\n",
        ""
      ],
      "metadata": {
        "colab": {
          "base_uri": "https://localhost:8080/"
        },
        "id": "h4a3E-V78wmG",
        "outputId": "c6ebc0b2-6674-433f-9005-59c2ef466b06"
      },
      "execution_count": 58,
      "outputs": [
        {
          "output_type": "stream",
          "name": "stdout",
          "text": [
            "5 points for shooting alien\n"
          ]
        }
      ]
    },
    {
      "cell_type": "code",
      "source": [
        "alien_color = \"green\"\n",
        "\n",
        "if alien_color ==  \"red\":\n",
        "  print(\"5 points for shooting alien\")\n",
        "\n",
        "\n",
        "else:\n",
        "  print(\"you earned 10 points\")\n",
        ""
      ],
      "metadata": {
        "colab": {
          "base_uri": "https://localhost:8080/"
        },
        "id": "H8Z7Hoqz94_e",
        "outputId": "cf14fd27-933b-4fb9-be5c-5d47a45647f1"
      },
      "execution_count": 59,
      "outputs": [
        {
          "output_type": "stream",
          "name": "stdout",
          "text": [
            "you earned 10 points\n"
          ]
        }
      ]
    },
    {
      "cell_type": "code",
      "source": [
        "#Alien Colors #3\n",
        "\n",
        "alien_color = \"green\"\n",
        "\n",
        "if alien_color ==  \"green\":\n",
        "  print(\"5 points for shooting alien\")\n",
        "\n",
        "elif alien_color == \"yellow\":\n",
        "  print(\"you earned 10 points\")\n",
        "\n",
        "else:\n",
        "  print(\"you earn 15 point\")\n",
        ""
      ],
      "metadata": {
        "colab": {
          "base_uri": "https://localhost:8080/"
        },
        "id": "cCRWl_76-O-1",
        "outputId": "59e0bafd-d0c0-4602-f28f-fcbca596f96e"
      },
      "execution_count": 61,
      "outputs": [
        {
          "output_type": "stream",
          "name": "stdout",
          "text": [
            "you earn 15 point\n"
          ]
        }
      ]
    },
    {
      "cell_type": "code",
      "source": [
        "alien_color = \"yellow\"\n",
        "\n",
        "if alien_color ==  \"green\":\n",
        "  print(\"5 points for shooting alien\")\n",
        "\n",
        "elif alien_color == \"yellow\":\n",
        "  print(\"you earned 10 points\")\n",
        "\n",
        "else:\n",
        "  print(\"you earn 15 point\")\n"
      ],
      "metadata": {
        "id": "kS1w0M0bAEu7"
      },
      "execution_count": null,
      "outputs": []
    },
    {
      "cell_type": "code",
      "source": [
        "alien_color = \"black\"\n",
        "\n",
        "if alien_color ==  \"green\":\n",
        "  print(\"5 points for shooting alien\")\n",
        "\n",
        "elif alien_color == \"yellow\":\n",
        "  print(\"you earned 10 points\")\n",
        "\n",
        "else:\n",
        "  print(\"you earn 15 point\")"
      ],
      "metadata": {
        "id": "_k5mfWIFAJw-"
      },
      "execution_count": null,
      "outputs": []
    },
    {
      "cell_type": "code",
      "source": [
        "# 5-6 Stages of Life\n",
        "\n",
        "age  = 64\n",
        "\n",
        "if age < 2:\n",
        "  print(\"youre a baby\")\n",
        "\n",
        "elif age >=2 and age < 4:\n",
        "  print(\"youre a toddler\")\n",
        "\n",
        "elif age >= 4 and age < 13:\n",
        "  print(\"youre a kid\")\n",
        "elif age > 13 and age < 20:\n",
        "  print(\"youre a teenager\")\n",
        "elif age >= 20 and age < 65:\n",
        "  print(\"youre an adult\")\n",
        "\n",
        "else:\n",
        "  print(\"youre an elder\")\n",
        ""
      ],
      "metadata": {
        "colab": {
          "base_uri": "https://localhost:8080/"
        },
        "id": "uhb_8No2ARhN",
        "outputId": "d4be0532-9474-4c6f-ba83-4044e3fc059e"
      },
      "execution_count": 4,
      "outputs": [
        {
          "output_type": "stream",
          "name": "stdout",
          "text": [
            "youre an adult\n"
          ]
        }
      ]
    },
    {
      "cell_type": "code",
      "source": [
        "# 5-7 Favorite Fruit\n",
        "\n",
        "favorite_fruits = [\"apples\", \"bananas\", \"watermelon\"]\n",
        "\n",
        "if \"watermelon\" in favorite_fruits:\n",
        "  print(\"Youre addicted to watermelon\")"
      ],
      "metadata": {
        "colab": {
          "base_uri": "https://localhost:8080/"
        },
        "id": "8gRhifyR494R",
        "outputId": "a1269af4-e9bb-48e2-f606-df2e67204edc"
      },
      "execution_count": 5,
      "outputs": [
        {
          "output_type": "stream",
          "name": "stdout",
          "text": [
            "Youre addicted to watermelon\n"
          ]
        }
      ]
    },
    {
      "cell_type": "code",
      "source": [
        "#Checking a list that is not empty\n",
        "\n",
        "requested_toppings = []\n",
        "\n",
        "if requested_toppings:\n",
        "   for requested_toppings in requested_toppings:\n",
        "      print(\"Adding {requested_toppings}.\")\n",
        "\n",
        "   print(\"finished making your pizza\")\n",
        "\n",
        "else:\n",
        "  print(\"Are you sure you want a plain pizza?\")"
      ],
      "metadata": {
        "colab": {
          "base_uri": "https://localhost:8080/"
        },
        "id": "_oejl81A8DTZ",
        "outputId": "07eebb8e-47a5-49c7-a85e-d9326ebfe165"
      },
      "execution_count": 6,
      "outputs": [
        {
          "output_type": "stream",
          "name": "stdout",
          "text": [
            "Are you sure you want a plain pizza?\n"
          ]
        }
      ]
    },
    {
      "cell_type": "code",
      "source": [
        "available_toppings = [\"mushrooms\", \"olives\", \"green peppers\", \"pepporoni\", \"pineapple\", \"extracheese\"]\n",
        "\n",
        "requested_toppings = [\"mushrooms\", \"french fries\", \"extra cheese\"]\n",
        "\n",
        "for requested_topping in requested_toppings:\n",
        "      if requested_topping in available_toppings:\n",
        "        print(f\"Adding {requested_toppings}.\")\n",
        "\n",
        "      else:\n",
        "        print(f\"Sorry, we dont have {requested_topping}.\")\n",
        "\n",
        "print(\"finished making your pizza!!.\")"
      ],
      "metadata": {
        "colab": {
          "base_uri": "https://localhost:8080/"
        },
        "id": "a7AmPH139OSu",
        "outputId": "d7337fd4-fe1a-4ca4-ff9f-2f8afaf1147d"
      },
      "execution_count": 7,
      "outputs": [
        {
          "output_type": "stream",
          "name": "stdout",
          "text": [
            "Adding ['mushrooms', 'french fries', 'extra cheese'].\n",
            "Sorry, we dont have french fries.\n",
            "Sorry, we dont have extra cheese.\n",
            "finished making your pizza!!.\n"
          ]
        }
      ]
    },
    {
      "cell_type": "code",
      "source": [
        "#try it yourself\n",
        "\n",
        "#5-8 Hello Admin\n",
        "\n",
        "usernames = [\"nick\", \"andre\", \"cyle\", \"brian\", \"admin\"]\n",
        "\n",
        "for username in usernames:\n",
        "  print(f\"Hello {username}\")\n",
        "\n",
        "  if username == \"admin\":\n",
        "    print(\"Hello admin, would you like to see a status report\")\n",
        "  else:\n",
        "    print(f\"thank you {username} for logging in again\")"
      ],
      "metadata": {
        "colab": {
          "base_uri": "https://localhost:8080/"
        },
        "id": "_NGUDCng_W3i",
        "outputId": "ae17b9b3-03a0-4823-c7db-c1cc278f10d9"
      },
      "execution_count": 44,
      "outputs": [
        {
          "output_type": "stream",
          "name": "stdout",
          "text": [
            "Hello nick\n",
            "thank you nick for logging in again\n",
            "Hello andre\n",
            "thank you andre for logging in again\n",
            "Hello cyle\n",
            "thank you cyle for logging in again\n",
            "Hello brian\n",
            "thank you brian for logging in again\n",
            "Hello admin\n",
            "Hello admin, would you like to see a status report\n"
          ]
        }
      ]
    },
    {
      "cell_type": "code",
      "source": [
        "#5-8 Hello Admin\n",
        "\n",
        "usernames = []\n",
        "\n",
        "if usernames:\n",
        "    for username in usernames:\n",
        "      print(\"Hello admin, would you like to see a status report\")\n",
        "\n",
        "else:\n",
        "      print(\"we need to find some users\")"
      ],
      "metadata": {
        "colab": {
          "base_uri": "https://localhost:8080/"
        },
        "id": "ytXDPZYWC5Cx",
        "outputId": "b40fe6a6-0125-483c-81d1-efecb03f8890"
      },
      "execution_count": 26,
      "outputs": [
        {
          "output_type": "stream",
          "name": "stdout",
          "text": [
            "we need to find some users\n"
          ]
        }
      ]
    },
    {
      "cell_type": "code",
      "source": [
        "#5-10 Checking username\n",
        "\n",
        "current_users =[\"nick\", \"brian\", \"jack\"]\n",
        "\n",
        "new_users = [\"kim\", \"nick\",\"katie\", \"sue\"]\n",
        "\n",
        "for new_user in new_users:\n",
        "      if new_user in current_users:\n",
        "        print(f\"you will need to enter a new username {new_user}.\")\n",
        "\n",
        "      else:\n",
        "        print(f\"the username {new_user} is available\")\n",
        "\n"
      ],
      "metadata": {
        "colab": {
          "base_uri": "https://localhost:8080/"
        },
        "id": "DqSIAfeQHAqF",
        "outputId": "0ceffc1e-fabe-4b2c-ace6-dcf3f39c7a1e"
      },
      "execution_count": 43,
      "outputs": [
        {
          "output_type": "stream",
          "name": "stdout",
          "text": [
            "the username kim is available\n",
            "you will need to enter a new username nick.\n",
            "the username katie is available\n",
            "the username sue is available\n"
          ]
        }
      ]
    },
    {
      "cell_type": "code",
      "source": [
        "#5-11 ordinal numbers\n",
        "\n",
        "numbers = [1,2,3,4,5,6,7,8,9]\n",
        "\n",
        "for number in numbers:\n",
        "  if number == 1:\n",
        "    print(\"1st\")\n",
        "  elif number == 2:\n",
        "    print(\"2nd\")\n",
        "  elif number == 3:\n",
        "    print(\"3rd\")\n",
        "  else:\n",
        "    print(f\"{number}th\")"
      ],
      "metadata": {
        "colab": {
          "base_uri": "https://localhost:8080/"
        },
        "id": "DukDS0QeMelN",
        "outputId": "7e198100-a528-42b4-83d6-4ab3fffc7dae"
      },
      "execution_count": 47,
      "outputs": [
        {
          "output_type": "stream",
          "name": "stdout",
          "text": [
            "1st\n",
            "2nd\n",
            "3rd\n",
            "4th\n",
            "5th\n",
            "6th\n",
            "7th\n",
            "8th\n",
            "9th\n"
          ]
        }
      ]
    }
  ]
}