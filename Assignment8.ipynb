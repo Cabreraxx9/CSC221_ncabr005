{
  "nbformat": 4,
  "nbformat_minor": 0,
  "metadata": {
    "colab": {
      "provenance": [],
      "authorship_tag": "ABX9TyMtOHeA9j+tcV0FmqzCVAbw",
      "include_colab_link": true
    },
    "kernelspec": {
      "name": "python3",
      "display_name": "Python 3"
    },
    "language_info": {
      "name": "python"
    }
  },
  "cells": [
    {
      "cell_type": "markdown",
      "metadata": {
        "id": "view-in-github",
        "colab_type": "text"
      },
      "source": [
        "<a href=\"https://colab.research.google.com/github/Cabreraxx9/CSC221_ncabr005/blob/main/Assignment8.ipynb\" target=\"_parent\"><img src=\"https://colab.research.google.com/assets/colab-badge.svg\" alt=\"Open In Colab\"/></a>"
      ]
    },
    {
      "cell_type": "code",
      "execution_count": null,
      "metadata": {
        "id": "0Ezn1h3zMrrH"
      },
      "outputs": [],
      "source": []
    },
    {
      "cell_type": "markdown",
      "source": [
        "**#Nicholas Cabrera**\n",
        "**#Assignment 8**\n",
        "#Chapter 7: User input and While loops\n",
        "\n"
      ],
      "metadata": {
        "id": "RI5DNRhFRxI4"
      }
    },
    {
      "cell_type": "markdown",
      "source": [
        "## **How the input Function Works**\n",
        "\n",
        "\n"
      ],
      "metadata": {
        "id": "qHTfp8oHSdI-"
      }
    },
    {
      "cell_type": "code",
      "source": [
        "#parrot.py\n",
        "\n",
        "message = input(\"Tell me something, and I will repeat it back to you:\")\n",
        "print(message)"
      ],
      "metadata": {
        "colab": {
          "base_uri": "https://localhost:8080/"
        },
        "id": "yfktXPGPR3is",
        "outputId": "32203016-3c3f-421f-d848-fe299e164cf0"
      },
      "execution_count": 1,
      "outputs": [
        {
          "output_type": "stream",
          "name": "stdout",
          "text": [
            "Tell me something, and I will repeat it back to you:nick\n",
            "nick\n"
          ]
        }
      ]
    },
    {
      "cell_type": "markdown",
      "source": [
        "## **Writing clear Prompts**\n",
        "\n",
        "\n"
      ],
      "metadata": {
        "id": "G71_VvAsT7XE"
      }
    },
    {
      "cell_type": "code",
      "source": [
        "# greeter.py        #add a space after colon to make it a little clearer for your user\n",
        "\n",
        "name = input(\"Please enter your name: \")\n",
        "print(f\"\\nHello, {name}!!\")\n",
        "\n"
      ],
      "metadata": {
        "colab": {
          "base_uri": "https://localhost:8080/"
        },
        "id": "Ro8fC-llUAt4",
        "outputId": "5645d356-23ce-4c1b-d694-187bb9bd796d"
      },
      "execution_count": 4,
      "outputs": [
        {
          "output_type": "stream",
          "name": "stdout",
          "text": [
            "Please enter your name: Nick\n",
            "\n",
            "Hello, Nick!!\n"
          ]
        }
      ]
    },
    {
      "cell_type": "code",
      "source": [
        "# greeter.py          #assigning a prompt to a variable so you can pass it to the input function\n",
        "                      #this allows you to build your promp over several lines if its long\n",
        "                      #makes the line for the input statement more clean\n",
        "\n",
        "prompt = \"If you share your name, we can personalize the messages you see.\"\n",
        "prompt += \"\\nWhat is your first name?\"\n",
        "\n",
        "name = input(prompt)\n",
        "print(f\"\\nHello,{name}!!\")\n"
      ],
      "metadata": {
        "colab": {
          "base_uri": "https://localhost:8080/"
        },
        "id": "oawndCUcVTzB",
        "outputId": "228be992-6527-44e6-8c72-1d779d611e72"
      },
      "execution_count": 6,
      "outputs": [
        {
          "output_type": "stream",
          "name": "stdout",
          "text": [
            "If you share your name, we can personalize the messages you see.\n",
            "What is your first name?Nick\n",
            "\n",
            "Hello,Nick!!\n"
          ]
        }
      ]
    },
    {
      "cell_type": "markdown",
      "source": [
        "## **Using int() to Accept Numerical Input**"
      ],
      "metadata": {
        "id": "_DOL-qCMZtQ5"
      }
    },
    {
      "cell_type": "code",
      "source": [
        "#python interpreting the input as a string because of it returning a number with quotes around it\n",
        "#but if you try to use it as a number youll get a error\n",
        "age = input(\"How old are you?\")\n",
        "\n",
        "age\n"
      ],
      "metadata": {
        "colab": {
          "base_uri": "https://localhost:8080/",
          "height": 54
        },
        "id": "0sLaQWuWZzSO",
        "outputId": "3cde997b-bddd-4333-a112-b6face2f6c2a"
      },
      "execution_count": 15,
      "outputs": [
        {
          "name": "stdout",
          "output_type": "stream",
          "text": [
            "How old are you?50\n"
          ]
        },
        {
          "output_type": "execute_result",
          "data": {
            "text/plain": [
              "'50'"
            ],
            "application/vnd.google.colaboratory.intrinsic+json": {
              "type": "string"
            }
          },
          "metadata": {},
          "execution_count": 15
        }
      ]
    },
    {
      "cell_type": "code",
      "source": [
        "age = input(\"How old are you?\")\n",
        "\n",
        "age = int(age)\n",
        "\n",
        "age >= 18"
      ],
      "metadata": {
        "colab": {
          "base_uri": "https://localhost:8080/"
        },
        "id": "BZp3d7PVhhh-",
        "outputId": "21e41433-3e63-496a-a17f-31507556b9d2"
      },
      "execution_count": 16,
      "outputs": [
        {
          "name": "stdout",
          "output_type": "stream",
          "text": [
            "How old are you?38\n"
          ]
        },
        {
          "output_type": "execute_result",
          "data": {
            "text/plain": [
              "True"
            ]
          },
          "metadata": {},
          "execution_count": 16
        }
      ]
    },
    {
      "cell_type": "code",
      "source": [
        "# rollercoaster.py\n",
        "\n",
        "height = input(\"How tall are you, in inches?\")\n",
        "height = int(height)\n",
        "\n",
        "if height >= 48:\n",
        "  print(\"\\nYoure tall enought to ride!\")\n",
        "else:\n",
        "  print(\"\\nYoull be able to ride when youre a little older\")"
      ],
      "metadata": {
        "id": "SVwtWsdti-xW"
      },
      "execution_count": null,
      "outputs": []
    },
    {
      "cell_type": "markdown",
      "source": [
        "## **The Modelo Operator**"
      ],
      "metadata": {
        "id": "Rq8em88Qj_-b"
      }
    },
    {
      "cell_type": "code",
      "source": [
        "# the modelo operator divides one number by another number and returns the remainder\n",
        "4 % 3"
      ],
      "metadata": {
        "id": "gPV2Bxw7j_Pc"
      },
      "execution_count": null,
      "outputs": []
    },
    {
      "cell_type": "code",
      "source": [
        "# even_or_odd.py\n",
        "\n",
        "#if any number is divisible by a number it will return a 0\n",
        "#even number are always divisible by 2\n",
        "\n",
        "number = input(\"Enter a number, and ill tell you if its even or odd:\")\n",
        "number = int(number)\n",
        "\n",
        "if number % 2 == 0:\n",
        "  print(\"f\\nThe number {number} is even.\")\n",
        "else:\n",
        "  print(f\"\\nThe number {number} is odd\")\n",
        "\n"
      ],
      "metadata": {
        "colab": {
          "base_uri": "https://localhost:8080/"
        },
        "id": "WpYILc-ukkBh",
        "outputId": "22f81e96-fd88-444c-8933-fd56a138ce4e"
      },
      "execution_count": 22,
      "outputs": [
        {
          "output_type": "stream",
          "name": "stdout",
          "text": [
            "Enter a number, and ill tell you if its even or odd:7\n",
            "\n",
            "The number 7 is odd\n"
          ]
        }
      ]
    },
    {
      "cell_type": "code",
      "source": [],
      "metadata": {
        "id": "D1aZNonTrRy6"
      },
      "execution_count": null,
      "outputs": []
    },
    {
      "cell_type": "markdown",
      "source": [
        "***Try It Yourself***"
      ],
      "metadata": {
        "id": "pjagwSIcrTpG"
      }
    },
    {
      "cell_type": "code",
      "source": [
        "# 7-1 Rental Car\n",
        "\n",
        "car = input(\"What kind of rental car would you like \")\n",
        "print(f\"Let me see if i can find you a {car.title()}!!\")"
      ],
      "metadata": {
        "colab": {
          "base_uri": "https://localhost:8080/"
        },
        "id": "MQqD_VQfrZ-t",
        "outputId": "1f57c807-424c-47bf-f28e-940bac37d99c"
      },
      "execution_count": 25,
      "outputs": [
        {
          "output_type": "stream",
          "name": "stdout",
          "text": [
            "What kind of rental car would you like toyota\n",
            "Let me see if i can find you a Toyota!!\n"
          ]
        }
      ]
    },
    {
      "cell_type": "code",
      "source": [
        "# 7-2 Restaurant seating\n",
        "\n",
        "dinner_group = input(\"How many people are in your dinner group?? \")\n",
        "\n",
        "dinner_group = int(dinner_group)\n",
        "\n",
        "if dinner_group > 8:\n",
        "  print(\"Youll have to wait for a table\")\n",
        "\n",
        "else:\n",
        "  print(\"Your table is ready\")"
      ],
      "metadata": {
        "colab": {
          "base_uri": "https://localhost:8080/"
        },
        "id": "d_pDIfZJsDr3",
        "outputId": "27970b03-057e-45ce-f4db-4f3574068bfb"
      },
      "execution_count": 27,
      "outputs": [
        {
          "output_type": "stream",
          "name": "stdout",
          "text": [
            "How many people are in your dinner group?? 5\n",
            "Your table is ready\n"
          ]
        }
      ]
    },
    {
      "cell_type": "code",
      "source": [
        "7-3 # Multiples of ten\n",
        "\n",
        "users_number = input(\"Enter a number so i can tell you if its a multiple of 10 ?\")\n",
        "users_number = int(users_number)\n",
        "\n",
        "if users_number % 10 == 0:\n",
        "  print(f\"Your number {users_number} is a multiple of 10\")\n",
        "\n",
        "else:\n",
        "  print(\"Your number isnt a multiple of 10\")"
      ],
      "metadata": {
        "colab": {
          "base_uri": "https://localhost:8080/"
        },
        "id": "USoiOgDQtjuX",
        "outputId": "c3e90b8f-9274-44f2-875e-ab3347a8e308"
      },
      "execution_count": 31,
      "outputs": [
        {
          "output_type": "stream",
          "name": "stdout",
          "text": [
            "Enter a number so i can tell you if its a multiple of 10 ?60\n",
            "Your number 60 is a multiple of 10\n"
          ]
        }
      ]
    },
    {
      "cell_type": "markdown",
      "source": [
        "## **Introducing while loops**"
      ],
      "metadata": {
        "id": "5njV2o2Nn4Dk"
      }
    },
    {
      "cell_type": "markdown",
      "source": [
        "### **The while loop in action**"
      ],
      "metadata": {
        "id": "X8FVC9cEpBJi"
      }
    },
    {
      "cell_type": "code",
      "source": [
        "#while loop to count up through a series of numbers\n",
        "\n",
        "# counting.py\n",
        "\n",
        "current_number = 1\n",
        "\n",
        "while current_number <=5:\n",
        "  print(current_number)\n",
        "  current_number += 1\n",
        ""
      ],
      "metadata": {
        "colab": {
          "base_uri": "https://localhost:8080/"
        },
        "id": "UBV5xxwdn9Ay",
        "outputId": "a3196a89-9904-47a7-8d06-3f1c3bafe9d4"
      },
      "execution_count": 5,
      "outputs": [
        {
          "output_type": "stream",
          "name": "stdout",
          "text": [
            "1\n",
            "2\n",
            "3\n",
            "4\n",
            "5\n"
          ]
        }
      ]
    },
    {
      "cell_type": "markdown",
      "source": [
        "### **Letting the User Choose When to Quit**"
      ],
      "metadata": {
        "id": "nUqois7OqbXi"
      }
    },
    {
      "cell_type": "code",
      "source": [
        "# parrot.py\n",
        "\n",
        "prompt = \"\\nTell me something, and i will repeat it back to you:\"\n",
        "prompt += \"\\nEnter 'quit' to end the program  \"\n",
        "\n",
        "message = \"\"\n",
        "\n",
        "while message != \"quit\":\n",
        "  message = input(prompt)\n",
        "  print(message)\n",
        ""
      ],
      "metadata": {
        "colab": {
          "base_uri": "https://localhost:8080/"
        },
        "id": "iXoE_RporFlv",
        "outputId": "ae94c2dd-4dbf-4da9-b507-20f5d1ac7223"
      },
      "execution_count": 75,
      "outputs": [
        {
          "output_type": "stream",
          "name": "stdout",
          "text": [
            "\n",
            "Tell me something, and i will repeat it back to you:\n",
            "Enter 'quit' to end the program  quit\n",
            "quit\n"
          ]
        }
      ]
    },
    {
      "cell_type": "code",
      "source": [
        "#using an if to get the program to quit without printing the word \"quit\"\n",
        "\n",
        "prompt = \"\\nTell me something, and i will repeat it back to you:\"\n",
        "prompt += \"\\nEnter 'quit' to end the program\"\n",
        "\n",
        "message = \"\"\n",
        "while message != \"quit\":\n",
        "  message = input(prompt)\n",
        "\n",
        "\n",
        "  if message != \"quit\":\n",
        "    print(message)"
      ],
      "metadata": {
        "colab": {
          "base_uri": "https://localhost:8080/"
        },
        "id": "-4wx_wOyuoQP",
        "outputId": "7f660e20-2ead-4ab9-f210-a9159bbcd161"
      },
      "execution_count": 12,
      "outputs": [
        {
          "name": "stdout",
          "output_type": "stream",
          "text": [
            "\n",
            "Tell me something, and i will repeat it back to you:\n",
            "Enter 'quit' to end the programquit\n"
          ]
        }
      ]
    },
    {
      "cell_type": "markdown",
      "source": [
        "### **Using a flag**"
      ],
      "metadata": {
        "id": "Dvhp18NEwnPg"
      }
    },
    {
      "cell_type": "code",
      "source": [
        "prompt = \"\\nTell me something, and i will repeat it back to you:\"\n",
        "prompt += \"\\nEnter 'quit' to end the program\"\n",
        "\n",
        "active = True\n",
        "while active:\n",
        "  message = input(prompt)\n",
        "\n",
        "  if message == \"quit\":\n",
        "    active = False\n",
        "  else:\n",
        "    print(message)"
      ],
      "metadata": {
        "id": "lk_rZf5MwqW-"
      },
      "execution_count": null,
      "outputs": []
    },
    {
      "cell_type": "markdown",
      "source": [
        "### **Using break to Exit a Loop**"
      ],
      "metadata": {
        "id": "3z3CdQcgxmpm"
      }
    },
    {
      "cell_type": "code",
      "source": [
        "# cities.py\n",
        "\n",
        "prompt = \"\\nPlease enter the name of a City you have visited: \"\n",
        "prompt += \"\\nEnter 'quit' when you are finished \"\n",
        "\n",
        "while True:\n",
        "  city = input(prompt)\n",
        "\n",
        "  if city == \"quit\":\n",
        "    break\n",
        "  else:\n",
        "    print(f\"Id love to go to {city.title()}!!\")"
      ],
      "metadata": {
        "colab": {
          "base_uri": "https://localhost:8080/"
        },
        "id": "pbChjY1mxqwF",
        "outputId": "e7874d19-7796-411f-f457-0912653d4dcd"
      },
      "execution_count": 16,
      "outputs": [
        {
          "name": "stdout",
          "output_type": "stream",
          "text": [
            "\n",
            "Please enter the name of a City you have visited: \n",
            "Enter 'quit' when you are finished quit\n"
          ]
        }
      ]
    },
    {
      "cell_type": "markdown",
      "source": [
        "### **Using continue in a Loop**"
      ],
      "metadata": {
        "id": "_Sw1BPklz1Zc"
      }
    },
    {
      "cell_type": "code",
      "source": [
        "# counting.py\n",
        "\n",
        "current_number = 0\n",
        "while current_number < 10:\n",
        "  current_number += 1\n",
        "  if current_number % 2 == 0:\n",
        "    continue\n",
        "\n",
        "  print(current_number)"
      ],
      "metadata": {
        "colab": {
          "base_uri": "https://localhost:8080/"
        },
        "id": "ZPWElfbZz9UA",
        "outputId": "000e74c5-b0ca-49bb-976d-2f573488d36f"
      },
      "execution_count": 19,
      "outputs": [
        {
          "output_type": "stream",
          "name": "stdout",
          "text": [
            "1\n",
            "3\n",
            "5\n",
            "7\n",
            "9\n"
          ]
        }
      ]
    },
    {
      "cell_type": "markdown",
      "source": [
        "### **Avoiding Infinite Loops**"
      ],
      "metadata": {
        "id": "OqYpwndp1uGM"
      }
    },
    {
      "cell_type": "code",
      "source": [
        "# counting.py # omitting the last line will mae it run forever and will only print 1 continously\n",
        "\n",
        "x = 1\n",
        "\n",
        "while x <=5:\n",
        "  print(x)\n",
        "  x += 1"
      ],
      "metadata": {
        "colab": {
          "base_uri": "https://localhost:8080/"
        },
        "id": "bZAhJF4A1zjE",
        "outputId": "2685d026-95d1-4d93-a44b-47f14afb3787"
      },
      "execution_count": 20,
      "outputs": [
        {
          "output_type": "stream",
          "name": "stdout",
          "text": [
            "1\n",
            "2\n",
            "3\n",
            "4\n",
            "5\n"
          ]
        }
      ]
    },
    {
      "cell_type": "markdown",
      "source": [
        "**TRY IT YOURSELF**"
      ],
      "metadata": {
        "id": "AFj3s39k3G1J"
      }
    },
    {
      "cell_type": "code",
      "source": [
        "# 7-4 Pizza toppings\n",
        "\n",
        "active = True\n",
        "while active:\n",
        "  message = input(\"\\nEnter a pizza topping and enter quit when you are done \")\n",
        "\n",
        "  if message == \"quit\":\n",
        "    active = False\n",
        "  else:\n",
        "    print(f\"\\nWe will add {message} to your pizza!\")"
      ],
      "metadata": {
        "colab": {
          "base_uri": "https://localhost:8080/"
        },
        "id": "eCRupQf83FO5",
        "outputId": "e545d274-a84f-4790-ad73-54e70cd25425"
      },
      "execution_count": 38,
      "outputs": [
        {
          "name": "stdout",
          "output_type": "stream",
          "text": [
            "\n",
            "Enter a pizza topping and enter quit when you are done quit\n"
          ]
        }
      ]
    },
    {
      "cell_type": "code",
      "source": [
        "#7-5 Movie tickets\n",
        "\n",
        "active = True\n",
        "while active:\n",
        "  age = input(\"Enter your age to see how much your ticket cost \")\n",
        "  age = int(age)\n",
        "  if age <= 3:\n",
        "    print(\"your ticket is free\")\n",
        "    break\n",
        "  elif age > 3 and age < 12:\n",
        "    print(\"Your ticket is $10\")\n",
        "    break\n",
        "  else:\n",
        "    print(\"Your ticket is $15\")\n"
      ],
      "metadata": {
        "colab": {
          "base_uri": "https://localhost:8080/"
        },
        "id": "DwvxyyQT49WQ",
        "outputId": "17a2f4d3-bac4-4d29-958d-f06969037226"
      },
      "execution_count": 48,
      "outputs": [
        {
          "output_type": "stream",
          "name": "stdout",
          "text": [
            "Enter your age to see how much your ticket cost 3\n",
            "your ticket is free\n"
          ]
        }
      ]
    },
    {
      "cell_type": "code",
      "source": [
        "#7-6 Conditonal test\n",
        "age = \"\"\n",
        "\n",
        "while age != 1000:\n",
        "  age = input(\"Enter your age to see how much your ticket cost and enter quit to exit \")\n",
        "  age = int(age)\n",
        "  if age < 3:\n",
        "    print(\"your ticket is free\")\n",
        "  elif age > 3 and age < 12:\n",
        "    print(\"Your ticket is $10\")\n",
        "  elif age >= 12:\n",
        "    print(\"your ticket is $15\")\n",
        "  else:\n",
        "    age != 1000\n",
        "\n",
        "\n"
      ],
      "metadata": {
        "colab": {
          "base_uri": "https://localhost:8080/"
        },
        "id": "ZWmWrujc_FvH",
        "outputId": "d6b00f08-ea6b-4305-e502-1e4ada9c005b"
      },
      "execution_count": 2,
      "outputs": [
        {
          "output_type": "stream",
          "name": "stdout",
          "text": [
            "Enter your age to see how much your ticket cost and enter quit to exit 1000\n",
            "your ticket is $15\n"
          ]
        }
      ]
    },
    {
      "cell_type": "code",
      "source": [
        "#active variable  to contol how long the loop runs\n",
        "\n",
        "active = True\n",
        "while active:\n",
        "  age = input(\"Enter your age to see how much your ticket cost and enter 911 to exit \")\n",
        "  age = int(age)\n",
        "  if age < 3:\n",
        "    print(\"your ticket is free\")\n",
        "  elif age > 3 and age < 12:\n",
        "    print(\"Your ticket is $10\")\n",
        "  elif age == 911:\n",
        "    active = False\n",
        "  else:\n",
        "    print(\"Your ticket is $15\")\n",
        "\n",
        "print(\"Thanks for checking out your local movie theatre\")"
      ],
      "metadata": {
        "colab": {
          "base_uri": "https://localhost:8080/"
        },
        "id": "WRCVR986CMvD",
        "outputId": "196c2e1c-6447-43ac-9cfb-841ce9b73bea"
      },
      "execution_count": 40,
      "outputs": [
        {
          "output_type": "stream",
          "name": "stdout",
          "text": [
            "Enter your age to see how much your ticket cost and enter 911 to exit 911\n",
            "Thanks for checking out your local movie theatre\n"
          ]
        }
      ]
    },
    {
      "cell_type": "code",
      "source": [
        "#break statement to end the loop\n",
        "\n",
        "while True:\n",
        "  age = input(\"Enter your age to see how much your ticket cost and enter 911 to exit \")\n",
        "  age = int(age)\n",
        "  if age < 3:\n",
        "    print(\"your ticket is free\")\n",
        "  elif age > 3 and age < 12:\n",
        "    print(\"Your ticket is $10\")\n",
        "  elif age == 911:\n",
        "    break\n",
        "  else:\n",
        "    print(\"Your ticket is $15\")\n"
      ],
      "metadata": {
        "colab": {
          "base_uri": "https://localhost:8080/"
        },
        "id": "Fvq75HR1DH-o",
        "outputId": "83a5cd66-852d-4953-94a7-00bf0f648db2"
      },
      "execution_count": 42,
      "outputs": [
        {
          "name": "stdout",
          "output_type": "stream",
          "text": [
            "Enter your age to see how much your ticket cost and enter 911 to exit 3\n",
            "Your ticket is $15\n",
            "Enter your age to see how much your ticket cost and enter 911 to exit 5\n",
            "Your ticket is $10\n",
            "Enter your age to see how much your ticket cost and enter 911 to exit 911\n"
          ]
        }
      ]
    },
    {
      "cell_type": "markdown",
      "source": [
        "### **Using a while loop with Lists and Dictionaries**"
      ],
      "metadata": {
        "id": "UDV_bR5NRLCc"
      }
    },
    {
      "cell_type": "markdown",
      "source": [
        "Moving Items from one List to another"
      ],
      "metadata": {
        "id": "g2YfNuCERWIa"
      }
    },
    {
      "cell_type": "markdown",
      "source": [
        "### **Moving Items from one list to Another**"
      ],
      "metadata": {
        "id": "1bfRGBjhY16W"
      }
    },
    {
      "cell_type": "code",
      "source": [
        "#confirmed_users.py\n",
        "\n",
        "#start with the users that need to be verified and an empty list to hold confirmed users\n",
        "\n",
        "unconfirmed_users = [\"alice\", \"brian\", \"candace\"]\n",
        "confirmed_users = []\n",
        "\n",
        "#verify each user until there are no more unconfirmed users. Move each verified user into the list of confirmed users.\n",
        "\n",
        "while unconfirmed_users:\n",
        "  current_user = unconfirmed_users.pop()\n",
        "\n",
        "  print(f\"Verifying user: {current_user.title()}\")\n",
        "  confirmed_users.append(current_user)\n",
        "\n",
        "  #Display all confirmed users\n",
        "  print(f\"\\nThe following users have been confirmed:\")\n",
        "  for confirmed_user in confirmed_users:\n",
        "    print(confirmed_user.title())"
      ],
      "metadata": {
        "colab": {
          "base_uri": "https://localhost:8080/"
        },
        "id": "zNFzKBZgRTzE",
        "outputId": "c4a55820-71a1-4444-d144-64f756c25291"
      },
      "execution_count": 4,
      "outputs": [
        {
          "output_type": "stream",
          "name": "stdout",
          "text": [
            "Verifying user: Candace\n",
            "\n",
            "The following users have been confirmed:\n",
            "Candace\n",
            "Verifying user: Brian\n",
            "\n",
            "The following users have been confirmed:\n",
            "Candace\n",
            "Brian\n",
            "Verifying user: Alice\n",
            "\n",
            "The following users have been confirmed:\n",
            "Candace\n",
            "Brian\n",
            "Alice\n"
          ]
        }
      ]
    },
    {
      "cell_type": "markdown",
      "source": [
        "### **Removing All Instances of Specific Values from a List**"
      ],
      "metadata": {
        "id": "5Fi_J9pT8P3A"
      }
    },
    {
      "cell_type": "code",
      "source": [
        "pets = [\"dog\", \"cat\", \"dog\", \"goldfish\", \"cat\", \"rabbit\", \"cat\"]\n",
        "print(pets)\n",
        "\n",
        "while \"cat\" in pets:\n",
        "  pets.remove(\"cat\")\n",
        "\n",
        "print(pets)"
      ],
      "metadata": {
        "colab": {
          "base_uri": "https://localhost:8080/"
        },
        "id": "ujMuYlYX8Z_W",
        "outputId": "7616fa9f-a686-4dd2-b099-8c9332e1a9ee"
      },
      "execution_count": 5,
      "outputs": [
        {
          "output_type": "stream",
          "name": "stdout",
          "text": [
            "['dog', 'cat', 'dog', 'goldfish', 'cat', 'rabbit', 'cat']\n",
            "['dog', 'dog', 'goldfish', 'rabbit']\n"
          ]
        }
      ]
    },
    {
      "cell_type": "markdown",
      "source": [
        "### **Filling a Dictionary with User Input**"
      ],
      "metadata": {
        "id": "67sIFimK9ODW"
      }
    },
    {
      "cell_type": "code",
      "source": [
        "#mountian_poll.py\n",
        "\n",
        "responses = {}\n",
        "\n",
        "#set a flag to indicate the polling is active\n",
        "\n",
        "polling_active = True\n",
        "\n",
        "while polling_active:\n",
        "  #prompt for the person's name and response\n",
        "  name = input(\"\\nWhat is your name\")\n",
        "  response = input(\"Which mountian would you liek to climb someday?\")\\\n",
        "\n",
        "  #store the responses in the dictionary\n",
        "  responses[name] = response\n",
        "\n",
        "  #find out if anyone else is going to take the poll\n",
        "  repeat = input(\"Would you like another person to respond? (yes/no)\")\n",
        "  if repeat == \"no\":\n",
        "    polling_active = False\n",
        "\n",
        "#polling is complete. Show the results.\n",
        "print(\"\\n--- Poll Results ---\")\n",
        "for name, response in responses.items():\n",
        "  print(f\"{name} would you like to climb {response}\")"
      ],
      "metadata": {
        "colab": {
          "base_uri": "https://localhost:8080/"
        },
        "id": "PnaWj2SE9XCq",
        "outputId": "1cf988bd-51dc-4e2c-a027-a6b4da003f6a"
      },
      "execution_count": 6,
      "outputs": [
        {
          "output_type": "stream",
          "name": "stdout",
          "text": [
            "\n",
            "What is your nameNick\n",
            "Which mountian would you liek to climb someday?everest\n",
            "Would you like another person to respond? (yes/no)yes\n",
            "\n",
            "What is your namebill\n",
            "Which mountian would you liek to climb someday?poko\n",
            "Would you like another person to respond? (yes/no)no\n",
            "\n",
            "--- Poll Results ---\n",
            "Nick would you like to climb everest\n",
            "bill would you like to climb poko\n"
          ]
        }
      ]
    },
    {
      "cell_type": "markdown",
      "source": [
        "**Try it yourself**"
      ],
      "metadata": {
        "id": "7WO48EpNBjG8"
      }
    },
    {
      "cell_type": "code",
      "source": [
        "# 7-8 Deli\n",
        "\n",
        "sandwhich_orders = [\"turkey\", \"bologna\", \"ham\", \"salami\"]\n",
        "\n",
        "finished_sandwiches = []\n",
        "\n",
        "while sandwhich_orders:\n",
        "  sandwich = sandwhich_orders.pop()\n",
        "\n",
        "  print(f\"I made your {sandwich} sandwich\")\n",
        "  finished_sandwiches.append(sandwich)\n",
        "\n",
        "print(\"\\nAll the sandwhiches that have been made:\")\n",
        "\n",
        "for sandwich in finished_sandwiches:\n",
        "  print(sandwich)"
      ],
      "metadata": {
        "colab": {
          "base_uri": "https://localhost:8080/"
        },
        "id": "Drvb3dWYBnAd",
        "outputId": "de7d961a-b18e-487f-8015-021f08a7d9f1"
      },
      "execution_count": 12,
      "outputs": [
        {
          "output_type": "stream",
          "name": "stdout",
          "text": [
            "I made your salami sandwich\n",
            "I made your ham sandwich\n",
            "I made your bologna sandwich\n",
            "I made your turkey sandwich\n",
            "\n",
            "All the sandwhiches that have been made:\n",
            "salami\n",
            "ham\n",
            "bologna\n",
            "turkey\n"
          ]
        }
      ]
    },
    {
      "cell_type": "code",
      "source": [
        "# 7-9 No Pastrami"
      ],
      "metadata": {
        "id": "8SzG5Vs-H_0i"
      },
      "execution_count": null,
      "outputs": []
    },
    {
      "cell_type": "code",
      "source": [
        "# Make a super basic calculator using input and while\n",
        "\n",
        "#The total starts at zero.\n",
        "#Ask the user for a number.\n",
        "#Ask the user for an operator which can be +, -, *, or /\n",
        "#Perform the operation.\n",
        "#For example, if the current total is 12, and the user types 100<enter>+<enter>, you should display the new total 112.\n",
        "#If the current total is 45 and the user types 1<enter>-<enter>, you should display the new total 44.\n",
        "\n",
        "total = 0\n",
        "\n",
        "\n",
        "while True:\n",
        "    number = input(\"Give me a number\")\n",
        "    operator = input(\"Give me an operator +, -, *, or /\")\n",
        "    number_2 = input(\"Give me another number to perform the operation\")\n",
        "\n",
        "    number = int(number)\n",
        "    number_2 = int(number_2)\n",
        "\n",
        "    if operator == \"+\":\n",
        "      total = number + number_2\n",
        "      print(total)\n",
        "    elif operator == \"-\":\n",
        "      total = number - number_2\n",
        "      print(total)\n",
        "    elif operator == \"*\":\n",
        "      total = number * number_2\n",
        "      print(total)\n",
        "    elif operator == \"/\":\n",
        "      total = number / number_2\n",
        "      print(total)\n",
        "\n",
        "\n",
        "\n"
      ],
      "metadata": {
        "colab": {
          "base_uri": "https://localhost:8080/",
          "height": 550
        },
        "id": "aL-IN6r0JH5m",
        "outputId": "46404a7d-7260-4c56-d05a-e70b6cfe982d"
      },
      "execution_count": 13,
      "outputs": [
        {
          "output_type": "stream",
          "name": "stdout",
          "text": [
            "Give me a number6\n",
            "Give me an operator +, -, *, or /+\n",
            "Give me another number to perform the operation6\n",
            "12\n",
            "Give me a number12\n",
            "Give me an operator +, -, *, or /+\n",
            "Give me another number to perform the operation10\n",
            "22\n"
          ]
        },
        {
          "output_type": "error",
          "ename": "KeyboardInterrupt",
          "evalue": "ignored",
          "traceback": [
            "\u001b[0;31m---------------------------------------------------------------------------\u001b[0m",
            "\u001b[0;31mKeyboardInterrupt\u001b[0m                         Traceback (most recent call last)",
            "\u001b[0;32m<ipython-input-13-898d47716a32>\u001b[0m in \u001b[0;36m<cell line: 13>\u001b[0;34m()\u001b[0m\n\u001b[1;32m     12\u001b[0m \u001b[0;34m\u001b[0m\u001b[0m\n\u001b[1;32m     13\u001b[0m \u001b[0;32mwhile\u001b[0m \u001b[0;32mTrue\u001b[0m\u001b[0;34m:\u001b[0m\u001b[0;34m\u001b[0m\u001b[0;34m\u001b[0m\u001b[0m\n\u001b[0;32m---> 14\u001b[0;31m     \u001b[0mnumber\u001b[0m \u001b[0;34m=\u001b[0m \u001b[0minput\u001b[0m\u001b[0;34m(\u001b[0m\u001b[0;34m\"Give me a number\"\u001b[0m\u001b[0;34m)\u001b[0m\u001b[0;34m\u001b[0m\u001b[0;34m\u001b[0m\u001b[0m\n\u001b[0m\u001b[1;32m     15\u001b[0m     \u001b[0moperator\u001b[0m \u001b[0;34m=\u001b[0m \u001b[0minput\u001b[0m\u001b[0;34m(\u001b[0m\u001b[0;34m\"Give me an operator +, -, *, or /\"\u001b[0m\u001b[0;34m)\u001b[0m\u001b[0;34m\u001b[0m\u001b[0;34m\u001b[0m\u001b[0m\n\u001b[1;32m     16\u001b[0m     \u001b[0mnumber_2\u001b[0m \u001b[0;34m=\u001b[0m \u001b[0minput\u001b[0m\u001b[0;34m(\u001b[0m\u001b[0;34m\"Give me another number to perform the operation\"\u001b[0m\u001b[0;34m)\u001b[0m\u001b[0;34m\u001b[0m\u001b[0;34m\u001b[0m\u001b[0m\n",
            "\u001b[0;32m/usr/local/lib/python3.10/dist-packages/ipykernel/kernelbase.py\u001b[0m in \u001b[0;36mraw_input\u001b[0;34m(self, prompt)\u001b[0m\n\u001b[1;32m    849\u001b[0m                 \u001b[0;34m\"raw_input was called, but this frontend does not support input requests.\"\u001b[0m\u001b[0;34m\u001b[0m\u001b[0;34m\u001b[0m\u001b[0m\n\u001b[1;32m    850\u001b[0m             )\n\u001b[0;32m--> 851\u001b[0;31m         return self._input_request(str(prompt),\n\u001b[0m\u001b[1;32m    852\u001b[0m             \u001b[0mself\u001b[0m\u001b[0;34m.\u001b[0m\u001b[0m_parent_ident\u001b[0m\u001b[0;34m,\u001b[0m\u001b[0;34m\u001b[0m\u001b[0;34m\u001b[0m\u001b[0m\n\u001b[1;32m    853\u001b[0m             \u001b[0mself\u001b[0m\u001b[0;34m.\u001b[0m\u001b[0m_parent_header\u001b[0m\u001b[0;34m,\u001b[0m\u001b[0;34m\u001b[0m\u001b[0;34m\u001b[0m\u001b[0m\n",
            "\u001b[0;32m/usr/local/lib/python3.10/dist-packages/ipykernel/kernelbase.py\u001b[0m in \u001b[0;36m_input_request\u001b[0;34m(self, prompt, ident, parent, password)\u001b[0m\n\u001b[1;32m    893\u001b[0m             \u001b[0;32mexcept\u001b[0m \u001b[0mKeyboardInterrupt\u001b[0m\u001b[0;34m:\u001b[0m\u001b[0;34m\u001b[0m\u001b[0;34m\u001b[0m\u001b[0m\n\u001b[1;32m    894\u001b[0m                 \u001b[0;31m# re-raise KeyboardInterrupt, to truncate traceback\u001b[0m\u001b[0;34m\u001b[0m\u001b[0;34m\u001b[0m\u001b[0m\n\u001b[0;32m--> 895\u001b[0;31m                 \u001b[0;32mraise\u001b[0m \u001b[0mKeyboardInterrupt\u001b[0m\u001b[0;34m(\u001b[0m\u001b[0;34m\"Interrupted by user\"\u001b[0m\u001b[0;34m)\u001b[0m \u001b[0;32mfrom\u001b[0m \u001b[0;32mNone\u001b[0m\u001b[0;34m\u001b[0m\u001b[0;34m\u001b[0m\u001b[0m\n\u001b[0m\u001b[1;32m    896\u001b[0m             \u001b[0;32mexcept\u001b[0m \u001b[0mException\u001b[0m \u001b[0;32mas\u001b[0m \u001b[0me\u001b[0m\u001b[0;34m:\u001b[0m\u001b[0;34m\u001b[0m\u001b[0;34m\u001b[0m\u001b[0m\n\u001b[1;32m    897\u001b[0m                 \u001b[0mself\u001b[0m\u001b[0;34m.\u001b[0m\u001b[0mlog\u001b[0m\u001b[0;34m.\u001b[0m\u001b[0mwarning\u001b[0m\u001b[0;34m(\u001b[0m\u001b[0;34m\"Invalid Message:\"\u001b[0m\u001b[0;34m,\u001b[0m \u001b[0mexc_info\u001b[0m\u001b[0;34m=\u001b[0m\u001b[0;32mTrue\u001b[0m\u001b[0;34m)\u001b[0m\u001b[0;34m\u001b[0m\u001b[0;34m\u001b[0m\u001b[0m\n",
            "\u001b[0;31mKeyboardInterrupt\u001b[0m: Interrupted by user"
          ]
        }
      ]
    }
  ]
}